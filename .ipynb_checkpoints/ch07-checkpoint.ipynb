{
 "cells": [
  {
   "cell_type": "markdown",
   "metadata": {},
   "source": [
    "Data Cleaning\n",
    "------------"
   ]
  },
  {
   "cell_type": "code",
   "execution_count": 1,
   "metadata": {
    "collapsed": true
   },
   "outputs": [],
   "source": [
    "from pandas import DataFrame, Series\n",
    "import pandas as pd\n",
    "import numpy as np"
   ]
  },
  {
   "cell_type": "code",
   "execution_count": 2,
   "metadata": {
    "collapsed": false
   },
   "outputs": [],
   "source": [
    "df1 = DataFrame({'key': ['b', 'b', 'a', 'c', 'a', 'a', 'b'],'data1': range(7)})"
   ]
  },
  {
   "cell_type": "code",
   "execution_count": 3,
   "metadata": {
    "collapsed": true
   },
   "outputs": [],
   "source": [
    "df2 = DataFrame({'key': ['a', 'b', 'd'],'data2': range(3)})"
   ]
  },
  {
   "cell_type": "code",
   "execution_count": 4,
   "metadata": {
    "collapsed": false
   },
   "outputs": [
    {
     "data": {
      "text/html": [
       "<div>\n",
       "<table border=\"1\" class=\"dataframe\">\n",
       "  <thead>\n",
       "    <tr style=\"text-align: right;\">\n",
       "      <th></th>\n",
       "      <th>data1</th>\n",
       "      <th>key</th>\n",
       "    </tr>\n",
       "  </thead>\n",
       "  <tbody>\n",
       "    <tr>\n",
       "      <th>0</th>\n",
       "      <td>0</td>\n",
       "      <td>b</td>\n",
       "    </tr>\n",
       "    <tr>\n",
       "      <th>1</th>\n",
       "      <td>1</td>\n",
       "      <td>b</td>\n",
       "    </tr>\n",
       "    <tr>\n",
       "      <th>2</th>\n",
       "      <td>2</td>\n",
       "      <td>a</td>\n",
       "    </tr>\n",
       "    <tr>\n",
       "      <th>3</th>\n",
       "      <td>3</td>\n",
       "      <td>c</td>\n",
       "    </tr>\n",
       "    <tr>\n",
       "      <th>4</th>\n",
       "      <td>4</td>\n",
       "      <td>a</td>\n",
       "    </tr>\n",
       "    <tr>\n",
       "      <th>5</th>\n",
       "      <td>5</td>\n",
       "      <td>a</td>\n",
       "    </tr>\n",
       "    <tr>\n",
       "      <th>6</th>\n",
       "      <td>6</td>\n",
       "      <td>b</td>\n",
       "    </tr>\n",
       "  </tbody>\n",
       "</table>\n",
       "</div>"
      ],
      "text/plain": [
       "   data1 key\n",
       "0      0   b\n",
       "1      1   b\n",
       "2      2   a\n",
       "3      3   c\n",
       "4      4   a\n",
       "5      5   a\n",
       "6      6   b"
      ]
     },
     "execution_count": 4,
     "metadata": {},
     "output_type": "execute_result"
    }
   ],
   "source": [
    "df1"
   ]
  },
  {
   "cell_type": "code",
   "execution_count": 5,
   "metadata": {
    "collapsed": false
   },
   "outputs": [
    {
     "data": {
      "text/html": [
       "<div>\n",
       "<table border=\"1\" class=\"dataframe\">\n",
       "  <thead>\n",
       "    <tr style=\"text-align: right;\">\n",
       "      <th></th>\n",
       "      <th>data2</th>\n",
       "      <th>key</th>\n",
       "    </tr>\n",
       "  </thead>\n",
       "  <tbody>\n",
       "    <tr>\n",
       "      <th>0</th>\n",
       "      <td>0</td>\n",
       "      <td>a</td>\n",
       "    </tr>\n",
       "    <tr>\n",
       "      <th>1</th>\n",
       "      <td>1</td>\n",
       "      <td>b</td>\n",
       "    </tr>\n",
       "    <tr>\n",
       "      <th>2</th>\n",
       "      <td>2</td>\n",
       "      <td>d</td>\n",
       "    </tr>\n",
       "  </tbody>\n",
       "</table>\n",
       "</div>"
      ],
      "text/plain": [
       "   data2 key\n",
       "0      0   a\n",
       "1      1   b\n",
       "2      2   d"
      ]
     },
     "execution_count": 5,
     "metadata": {},
     "output_type": "execute_result"
    }
   ],
   "source": [
    "df2"
   ]
  },
  {
   "cell_type": "code",
   "execution_count": 6,
   "metadata": {
    "collapsed": false
   },
   "outputs": [
    {
     "data": {
      "text/html": [
       "<div>\n",
       "<table border=\"1\" class=\"dataframe\">\n",
       "  <thead>\n",
       "    <tr style=\"text-align: right;\">\n",
       "      <th></th>\n",
       "      <th>data1</th>\n",
       "      <th>key</th>\n",
       "      <th>data2</th>\n",
       "    </tr>\n",
       "  </thead>\n",
       "  <tbody>\n",
       "    <tr>\n",
       "      <th>0</th>\n",
       "      <td>0</td>\n",
       "      <td>b</td>\n",
       "      <td>1</td>\n",
       "    </tr>\n",
       "    <tr>\n",
       "      <th>1</th>\n",
       "      <td>1</td>\n",
       "      <td>b</td>\n",
       "      <td>1</td>\n",
       "    </tr>\n",
       "    <tr>\n",
       "      <th>2</th>\n",
       "      <td>6</td>\n",
       "      <td>b</td>\n",
       "      <td>1</td>\n",
       "    </tr>\n",
       "    <tr>\n",
       "      <th>3</th>\n",
       "      <td>2</td>\n",
       "      <td>a</td>\n",
       "      <td>0</td>\n",
       "    </tr>\n",
       "    <tr>\n",
       "      <th>4</th>\n",
       "      <td>4</td>\n",
       "      <td>a</td>\n",
       "      <td>0</td>\n",
       "    </tr>\n",
       "    <tr>\n",
       "      <th>5</th>\n",
       "      <td>5</td>\n",
       "      <td>a</td>\n",
       "      <td>0</td>\n",
       "    </tr>\n",
       "  </tbody>\n",
       "</table>\n",
       "</div>"
      ],
      "text/plain": [
       "   data1 key  data2\n",
       "0      0   b      1\n",
       "1      1   b      1\n",
       "2      6   b      1\n",
       "3      2   a      0\n",
       "4      4   a      0\n",
       "5      5   a      0"
      ]
     },
     "execution_count": 6,
     "metadata": {},
     "output_type": "execute_result"
    }
   ],
   "source": [
    "pd.merge(df1,df2,on='key')"
   ]
  },
  {
   "cell_type": "code",
   "execution_count": 7,
   "metadata": {
    "collapsed": true
   },
   "outputs": [],
   "source": [
    "#df1 = DataFrame({'lkey': ['b', 'b', 'a', 'c', 'a', 'a', 'b'],'data1': range(7)})"
   ]
  },
  {
   "cell_type": "code",
   "execution_count": 8,
   "metadata": {
    "collapsed": true
   },
   "outputs": [],
   "source": [
    "#df2 = DataFrame({'rkey': ['a', 'b', 'd'],'data2': range(3)})"
   ]
  },
  {
   "cell_type": "code",
   "execution_count": 9,
   "metadata": {
    "collapsed": false
   },
   "outputs": [],
   "source": [
    "#pd.merge(df1,df2,left_on='lkey',right_on='rkey')"
   ]
  },
  {
   "cell_type": "code",
   "execution_count": 10,
   "metadata": {
    "collapsed": false
   },
   "outputs": [
    {
     "data": {
      "text/html": [
       "<div>\n",
       "<table border=\"1\" class=\"dataframe\">\n",
       "  <thead>\n",
       "    <tr style=\"text-align: right;\">\n",
       "      <th></th>\n",
       "      <th>data1</th>\n",
       "      <th>key</th>\n",
       "      <th>data2</th>\n",
       "    </tr>\n",
       "  </thead>\n",
       "  <tbody>\n",
       "    <tr>\n",
       "      <th>0</th>\n",
       "      <td>0.0</td>\n",
       "      <td>b</td>\n",
       "      <td>1.0</td>\n",
       "    </tr>\n",
       "    <tr>\n",
       "      <th>1</th>\n",
       "      <td>1.0</td>\n",
       "      <td>b</td>\n",
       "      <td>1.0</td>\n",
       "    </tr>\n",
       "    <tr>\n",
       "      <th>2</th>\n",
       "      <td>6.0</td>\n",
       "      <td>b</td>\n",
       "      <td>1.0</td>\n",
       "    </tr>\n",
       "    <tr>\n",
       "      <th>3</th>\n",
       "      <td>2.0</td>\n",
       "      <td>a</td>\n",
       "      <td>0.0</td>\n",
       "    </tr>\n",
       "    <tr>\n",
       "      <th>4</th>\n",
       "      <td>4.0</td>\n",
       "      <td>a</td>\n",
       "      <td>0.0</td>\n",
       "    </tr>\n",
       "    <tr>\n",
       "      <th>5</th>\n",
       "      <td>5.0</td>\n",
       "      <td>a</td>\n",
       "      <td>0.0</td>\n",
       "    </tr>\n",
       "    <tr>\n",
       "      <th>6</th>\n",
       "      <td>3.0</td>\n",
       "      <td>c</td>\n",
       "      <td>NaN</td>\n",
       "    </tr>\n",
       "    <tr>\n",
       "      <th>7</th>\n",
       "      <td>NaN</td>\n",
       "      <td>d</td>\n",
       "      <td>2.0</td>\n",
       "    </tr>\n",
       "  </tbody>\n",
       "</table>\n",
       "</div>"
      ],
      "text/plain": [
       "   data1 key  data2\n",
       "0    0.0   b    1.0\n",
       "1    1.0   b    1.0\n",
       "2    6.0   b    1.0\n",
       "3    2.0   a    0.0\n",
       "4    4.0   a    0.0\n",
       "5    5.0   a    0.0\n",
       "6    3.0   c    NaN\n",
       "7    NaN   d    2.0"
      ]
     },
     "execution_count": 10,
     "metadata": {},
     "output_type": "execute_result"
    }
   ],
   "source": [
    "pd.merge(df1, df2, how='outer')"
   ]
  },
  {
   "cell_type": "markdown",
   "metadata": {
    "collapsed": true
   },
   "source": [
    "Concat DataFrame\n",
    "--"
   ]
  },
  {
   "cell_type": "code",
   "execution_count": 11,
   "metadata": {
    "collapsed": false
   },
   "outputs": [],
   "source": [
    "arr = np.arange(12).reshape((3, 4))"
   ]
  },
  {
   "cell_type": "code",
   "execution_count": 12,
   "metadata": {
    "collapsed": false
   },
   "outputs": [
    {
     "data": {
      "text/plain": [
       "array([[ 0,  1,  2,  3],\n",
       "       [ 4,  5,  6,  7],\n",
       "       [ 8,  9, 10, 11]])"
      ]
     },
     "execution_count": 12,
     "metadata": {},
     "output_type": "execute_result"
    }
   ],
   "source": [
    "arr"
   ]
  },
  {
   "cell_type": "code",
   "execution_count": 13,
   "metadata": {
    "collapsed": false
   },
   "outputs": [
    {
     "data": {
      "text/plain": [
       "array([[ 0,  1,  2,  3,  0,  1,  2,  3],\n",
       "       [ 4,  5,  6,  7,  4,  5,  6,  7],\n",
       "       [ 8,  9, 10, 11,  8,  9, 10, 11]])"
      ]
     },
     "execution_count": 13,
     "metadata": {},
     "output_type": "execute_result"
    }
   ],
   "source": [
    "np.concatenate([arr,arr],axis=1)"
   ]
  },
  {
   "cell_type": "markdown",
   "metadata": {},
   "source": [
    "**Concat Series, when there's no overlap among index**"
   ]
  },
  {
   "cell_type": "code",
   "execution_count": 14,
   "metadata": {
    "collapsed": true
   },
   "outputs": [],
   "source": [
    "s1 = Series([0,1],index=['a','b'])"
   ]
  },
  {
   "cell_type": "code",
   "execution_count": 15,
   "metadata": {
    "collapsed": true
   },
   "outputs": [],
   "source": [
    "s2 = Series([2,3,4],index=['c','d','e'])"
   ]
  },
  {
   "cell_type": "code",
   "execution_count": 16,
   "metadata": {
    "collapsed": true
   },
   "outputs": [],
   "source": [
    "s3 = Series([5,6],index=['f','g'])"
   ]
  },
  {
   "cell_type": "code",
   "execution_count": 17,
   "metadata": {
    "collapsed": false
   },
   "outputs": [
    {
     "data": {
      "text/plain": [
       "a    0\n",
       "b    1\n",
       "c    2\n",
       "d    3\n",
       "e    4\n",
       "f    5\n",
       "g    6\n",
       "dtype: int64"
      ]
     },
     "execution_count": 17,
     "metadata": {},
     "output_type": "execute_result"
    }
   ],
   "source": [
    "pd.concat([s1,s2,s3])"
   ]
  },
  {
   "cell_type": "code",
   "execution_count": 18,
   "metadata": {
    "collapsed": false
   },
   "outputs": [
    {
     "data": {
      "text/html": [
       "<div>\n",
       "<table border=\"1\" class=\"dataframe\">\n",
       "  <thead>\n",
       "    <tr style=\"text-align: right;\">\n",
       "      <th></th>\n",
       "      <th>0</th>\n",
       "      <th>1</th>\n",
       "      <th>2</th>\n",
       "    </tr>\n",
       "  </thead>\n",
       "  <tbody>\n",
       "    <tr>\n",
       "      <th>a</th>\n",
       "      <td>0.0</td>\n",
       "      <td>NaN</td>\n",
       "      <td>NaN</td>\n",
       "    </tr>\n",
       "    <tr>\n",
       "      <th>b</th>\n",
       "      <td>1.0</td>\n",
       "      <td>NaN</td>\n",
       "      <td>NaN</td>\n",
       "    </tr>\n",
       "    <tr>\n",
       "      <th>c</th>\n",
       "      <td>NaN</td>\n",
       "      <td>2.0</td>\n",
       "      <td>NaN</td>\n",
       "    </tr>\n",
       "    <tr>\n",
       "      <th>d</th>\n",
       "      <td>NaN</td>\n",
       "      <td>3.0</td>\n",
       "      <td>NaN</td>\n",
       "    </tr>\n",
       "    <tr>\n",
       "      <th>e</th>\n",
       "      <td>NaN</td>\n",
       "      <td>4.0</td>\n",
       "      <td>NaN</td>\n",
       "    </tr>\n",
       "    <tr>\n",
       "      <th>f</th>\n",
       "      <td>NaN</td>\n",
       "      <td>NaN</td>\n",
       "      <td>5.0</td>\n",
       "    </tr>\n",
       "    <tr>\n",
       "      <th>g</th>\n",
       "      <td>NaN</td>\n",
       "      <td>NaN</td>\n",
       "      <td>6.0</td>\n",
       "    </tr>\n",
       "  </tbody>\n",
       "</table>\n",
       "</div>"
      ],
      "text/plain": [
       "     0    1    2\n",
       "a  0.0  NaN  NaN\n",
       "b  1.0  NaN  NaN\n",
       "c  NaN  2.0  NaN\n",
       "d  NaN  3.0  NaN\n",
       "e  NaN  4.0  NaN\n",
       "f  NaN  NaN  5.0\n",
       "g  NaN  NaN  6.0"
      ]
     },
     "execution_count": 18,
     "metadata": {},
     "output_type": "execute_result"
    }
   ],
   "source": [
    "pd.concat([s1,s2,s3],axis=1)"
   ]
  },
  {
   "cell_type": "code",
   "execution_count": 19,
   "metadata": {
    "collapsed": false
   },
   "outputs": [
    {
     "data": {
      "text/html": [
       "<div>\n",
       "<table border=\"1\" class=\"dataframe\">\n",
       "  <thead>\n",
       "    <tr style=\"text-align: right;\">\n",
       "      <th></th>\n",
       "      <th>0</th>\n",
       "      <th>1</th>\n",
       "      <th>2</th>\n",
       "    </tr>\n",
       "  </thead>\n",
       "  <tbody>\n",
       "  </tbody>\n",
       "</table>\n",
       "</div>"
      ],
      "text/plain": [
       "Empty DataFrame\n",
       "Columns: [0, 1, 2]\n",
       "Index: []"
      ]
     },
     "execution_count": 19,
     "metadata": {},
     "output_type": "execute_result"
    }
   ],
   "source": [
    "pd.concat([s1,s2,s3],axis=1,join='inner')"
   ]
  },
  {
   "cell_type": "code",
   "execution_count": 20,
   "metadata": {
    "collapsed": false
   },
   "outputs": [],
   "source": [
    "s4 = Series([7,8],index=['a','b'])"
   ]
  },
  {
   "cell_type": "code",
   "execution_count": 21,
   "metadata": {
    "collapsed": false
   },
   "outputs": [
    {
     "data": {
      "text/html": [
       "<div>\n",
       "<table border=\"1\" class=\"dataframe\">\n",
       "  <thead>\n",
       "    <tr style=\"text-align: right;\">\n",
       "      <th></th>\n",
       "      <th>0</th>\n",
       "      <th>1</th>\n",
       "    </tr>\n",
       "  </thead>\n",
       "  <tbody>\n",
       "    <tr>\n",
       "      <th>a</th>\n",
       "      <td>0</td>\n",
       "      <td>7</td>\n",
       "    </tr>\n",
       "    <tr>\n",
       "      <th>b</th>\n",
       "      <td>1</td>\n",
       "      <td>8</td>\n",
       "    </tr>\n",
       "  </tbody>\n",
       "</table>\n",
       "</div>"
      ],
      "text/plain": [
       "   0  1\n",
       "a  0  7\n",
       "b  1  8"
      ]
     },
     "execution_count": 21,
     "metadata": {},
     "output_type": "execute_result"
    }
   ],
   "source": [
    "pd.concat([s1,s4],axis=1,join='inner')"
   ]
  },
  {
   "cell_type": "code",
   "execution_count": 22,
   "metadata": {
    "collapsed": false
   },
   "outputs": [],
   "source": [
    "result = pd.concat([s1, s1, s3], keys=['one', 'two', 'three'])"
   ]
  },
  {
   "cell_type": "code",
   "execution_count": 23,
   "metadata": {
    "collapsed": false
   },
   "outputs": [
    {
     "data": {
      "text/html": [
       "<div>\n",
       "<table border=\"1\" class=\"dataframe\">\n",
       "  <thead>\n",
       "    <tr style=\"text-align: right;\">\n",
       "      <th></th>\n",
       "      <th>one</th>\n",
       "      <th>two</th>\n",
       "      <th>three</th>\n",
       "    </tr>\n",
       "  </thead>\n",
       "  <tbody>\n",
       "    <tr>\n",
       "      <th>a</th>\n",
       "      <td>0.0</td>\n",
       "      <td>NaN</td>\n",
       "      <td>NaN</td>\n",
       "    </tr>\n",
       "    <tr>\n",
       "      <th>b</th>\n",
       "      <td>1.0</td>\n",
       "      <td>NaN</td>\n",
       "      <td>NaN</td>\n",
       "    </tr>\n",
       "    <tr>\n",
       "      <th>c</th>\n",
       "      <td>NaN</td>\n",
       "      <td>2.0</td>\n",
       "      <td>NaN</td>\n",
       "    </tr>\n",
       "    <tr>\n",
       "      <th>d</th>\n",
       "      <td>NaN</td>\n",
       "      <td>3.0</td>\n",
       "      <td>NaN</td>\n",
       "    </tr>\n",
       "    <tr>\n",
       "      <th>e</th>\n",
       "      <td>NaN</td>\n",
       "      <td>4.0</td>\n",
       "      <td>NaN</td>\n",
       "    </tr>\n",
       "    <tr>\n",
       "      <th>f</th>\n",
       "      <td>NaN</td>\n",
       "      <td>NaN</td>\n",
       "      <td>5.0</td>\n",
       "    </tr>\n",
       "    <tr>\n",
       "      <th>g</th>\n",
       "      <td>NaN</td>\n",
       "      <td>NaN</td>\n",
       "      <td>6.0</td>\n",
       "    </tr>\n",
       "  </tbody>\n",
       "</table>\n",
       "</div>"
      ],
      "text/plain": [
       "   one  two  three\n",
       "a  0.0  NaN    NaN\n",
       "b  1.0  NaN    NaN\n",
       "c  NaN  2.0    NaN\n",
       "d  NaN  3.0    NaN\n",
       "e  NaN  4.0    NaN\n",
       "f  NaN  NaN    5.0\n",
       "g  NaN  NaN    6.0"
      ]
     },
     "execution_count": 23,
     "metadata": {},
     "output_type": "execute_result"
    }
   ],
   "source": [
    "pd.concat([s1, s2, s3], axis=1, keys=['one', 'two', 'three'])"
   ]
  },
  {
   "cell_type": "code",
   "execution_count": 24,
   "metadata": {
    "collapsed": false
   },
   "outputs": [
    {
     "data": {
      "text/plain": [
       "one    a    0\n",
       "       b    1\n",
       "two    a    0\n",
       "       b    1\n",
       "three  f    5\n",
       "       g    6\n",
       "dtype: int64"
      ]
     },
     "execution_count": 24,
     "metadata": {},
     "output_type": "execute_result"
    }
   ],
   "source": [
    "result"
   ]
  },
  {
   "cell_type": "code",
   "execution_count": 25,
   "metadata": {
    "collapsed": false
   },
   "outputs": [
    {
     "data": {
      "text/html": [
       "<div>\n",
       "<table border=\"1\" class=\"dataframe\">\n",
       "  <thead>\n",
       "    <tr style=\"text-align: right;\">\n",
       "      <th></th>\n",
       "      <th>a</th>\n",
       "      <th>b</th>\n",
       "      <th>f</th>\n",
       "      <th>g</th>\n",
       "    </tr>\n",
       "  </thead>\n",
       "  <tbody>\n",
       "    <tr>\n",
       "      <th>one</th>\n",
       "      <td>0.0</td>\n",
       "      <td>1.0</td>\n",
       "      <td>NaN</td>\n",
       "      <td>NaN</td>\n",
       "    </tr>\n",
       "    <tr>\n",
       "      <th>two</th>\n",
       "      <td>0.0</td>\n",
       "      <td>1.0</td>\n",
       "      <td>NaN</td>\n",
       "      <td>NaN</td>\n",
       "    </tr>\n",
       "    <tr>\n",
       "      <th>three</th>\n",
       "      <td>NaN</td>\n",
       "      <td>NaN</td>\n",
       "      <td>5.0</td>\n",
       "      <td>6.0</td>\n",
       "    </tr>\n",
       "  </tbody>\n",
       "</table>\n",
       "</div>"
      ],
      "text/plain": [
       "         a    b    f    g\n",
       "one    0.0  1.0  NaN  NaN\n",
       "two    0.0  1.0  NaN  NaN\n",
       "three  NaN  NaN  5.0  6.0"
      ]
     },
     "execution_count": 25,
     "metadata": {},
     "output_type": "execute_result"
    }
   ],
   "source": [
    "result.unstack()"
   ]
  },
  {
   "cell_type": "code",
   "execution_count": 26,
   "metadata": {
    "collapsed": false
   },
   "outputs": [],
   "source": [
    "df1 = DataFrame(np.arange(6).reshape(3,2), index=['a','b','c'], columns=['one','two'])"
   ]
  },
  {
   "cell_type": "code",
   "execution_count": 27,
   "metadata": {
    "collapsed": true
   },
   "outputs": [],
   "source": [
    "df2 = DataFrame(5+np.arange(4).reshape(2,2),index=['a','c'],columns=['three','four'])"
   ]
  },
  {
   "cell_type": "code",
   "execution_count": 28,
   "metadata": {
    "collapsed": false
   },
   "outputs": [
    {
     "data": {
      "text/html": [
       "<div>\n",
       "<table border=\"1\" class=\"dataframe\">\n",
       "  <thead>\n",
       "    <tr style=\"text-align: right;\">\n",
       "      <th></th>\n",
       "      <th>one</th>\n",
       "      <th>two</th>\n",
       "    </tr>\n",
       "  </thead>\n",
       "  <tbody>\n",
       "    <tr>\n",
       "      <th>a</th>\n",
       "      <td>0</td>\n",
       "      <td>1</td>\n",
       "    </tr>\n",
       "    <tr>\n",
       "      <th>b</th>\n",
       "      <td>2</td>\n",
       "      <td>3</td>\n",
       "    </tr>\n",
       "    <tr>\n",
       "      <th>c</th>\n",
       "      <td>4</td>\n",
       "      <td>5</td>\n",
       "    </tr>\n",
       "  </tbody>\n",
       "</table>\n",
       "</div>"
      ],
      "text/plain": [
       "   one  two\n",
       "a    0    1\n",
       "b    2    3\n",
       "c    4    5"
      ]
     },
     "execution_count": 28,
     "metadata": {},
     "output_type": "execute_result"
    }
   ],
   "source": [
    "df1"
   ]
  },
  {
   "cell_type": "code",
   "execution_count": 29,
   "metadata": {
    "collapsed": false
   },
   "outputs": [
    {
     "data": {
      "text/html": [
       "<div>\n",
       "<table border=\"1\" class=\"dataframe\">\n",
       "  <thead>\n",
       "    <tr style=\"text-align: right;\">\n",
       "      <th></th>\n",
       "      <th>three</th>\n",
       "      <th>four</th>\n",
       "    </tr>\n",
       "  </thead>\n",
       "  <tbody>\n",
       "    <tr>\n",
       "      <th>a</th>\n",
       "      <td>5</td>\n",
       "      <td>6</td>\n",
       "    </tr>\n",
       "    <tr>\n",
       "      <th>c</th>\n",
       "      <td>7</td>\n",
       "      <td>8</td>\n",
       "    </tr>\n",
       "  </tbody>\n",
       "</table>\n",
       "</div>"
      ],
      "text/plain": [
       "   three  four\n",
       "a      5     6\n",
       "c      7     8"
      ]
     },
     "execution_count": 29,
     "metadata": {},
     "output_type": "execute_result"
    }
   ],
   "source": [
    "df2"
   ]
  },
  {
   "cell_type": "code",
   "execution_count": 30,
   "metadata": {
    "collapsed": false
   },
   "outputs": [],
   "source": [
    "result = pd.concat([df1,df2],axis=1,keys=['level1','level2'])"
   ]
  },
  {
   "cell_type": "code",
   "execution_count": 31,
   "metadata": {
    "collapsed": false
   },
   "outputs": [
    {
     "data": {
      "text/html": [
       "<div>\n",
       "<table border=\"1\" class=\"dataframe\">\n",
       "  <thead>\n",
       "    <tr>\n",
       "      <th></th>\n",
       "      <th colspan=\"2\" halign=\"left\">level1</th>\n",
       "      <th colspan=\"2\" halign=\"left\">level2</th>\n",
       "    </tr>\n",
       "    <tr>\n",
       "      <th></th>\n",
       "      <th>one</th>\n",
       "      <th>two</th>\n",
       "      <th>three</th>\n",
       "      <th>four</th>\n",
       "    </tr>\n",
       "  </thead>\n",
       "  <tbody>\n",
       "    <tr>\n",
       "      <th>a</th>\n",
       "      <td>0</td>\n",
       "      <td>1</td>\n",
       "      <td>5.0</td>\n",
       "      <td>6.0</td>\n",
       "    </tr>\n",
       "    <tr>\n",
       "      <th>b</th>\n",
       "      <td>2</td>\n",
       "      <td>3</td>\n",
       "      <td>NaN</td>\n",
       "      <td>NaN</td>\n",
       "    </tr>\n",
       "    <tr>\n",
       "      <th>c</th>\n",
       "      <td>4</td>\n",
       "      <td>5</td>\n",
       "      <td>7.0</td>\n",
       "      <td>8.0</td>\n",
       "    </tr>\n",
       "  </tbody>\n",
       "</table>\n",
       "</div>"
      ],
      "text/plain": [
       "  level1     level2     \n",
       "     one two  three four\n",
       "a      0   1    5.0  6.0\n",
       "b      2   3    NaN  NaN\n",
       "c      4   5    7.0  8.0"
      ]
     },
     "execution_count": 31,
     "metadata": {},
     "output_type": "execute_result"
    }
   ],
   "source": [
    "result"
   ]
  },
  {
   "cell_type": "code",
   "execution_count": 32,
   "metadata": {
    "collapsed": false
   },
   "outputs": [
    {
     "data": {
      "text/plain": [
       "level1  one    a    0.0\n",
       "               b    2.0\n",
       "               c    4.0\n",
       "        two    a    1.0\n",
       "               b    3.0\n",
       "               c    5.0\n",
       "level2  three  a    5.0\n",
       "               b    NaN\n",
       "               c    7.0\n",
       "        four   a    6.0\n",
       "               b    NaN\n",
       "               c    8.0\n",
       "dtype: float64"
      ]
     },
     "execution_count": 32,
     "metadata": {},
     "output_type": "execute_result"
    }
   ],
   "source": [
    "result.unstack()"
   ]
  },
  {
   "cell_type": "code",
   "execution_count": 33,
   "metadata": {
    "collapsed": true
   },
   "outputs": [],
   "source": [
    "df1 = DataFrame(np.random.randn(3, 4), columns=['a', 'b', 'c', 'd'])"
   ]
  },
  {
   "cell_type": "code",
   "execution_count": 34,
   "metadata": {
    "collapsed": true
   },
   "outputs": [],
   "source": [
    "df2 = DataFrame(np.random.randn(2, 3), columns=['b', 'd', 'a'])"
   ]
  },
  {
   "cell_type": "code",
   "execution_count": 35,
   "metadata": {
    "collapsed": false
   },
   "outputs": [
    {
     "data": {
      "text/html": [
       "<div>\n",
       "<table border=\"1\" class=\"dataframe\">\n",
       "  <thead>\n",
       "    <tr style=\"text-align: right;\">\n",
       "      <th></th>\n",
       "      <th>a</th>\n",
       "      <th>b</th>\n",
       "      <th>c</th>\n",
       "      <th>d</th>\n",
       "    </tr>\n",
       "  </thead>\n",
       "  <tbody>\n",
       "    <tr>\n",
       "      <th>0</th>\n",
       "      <td>0.007722</td>\n",
       "      <td>0.878193</td>\n",
       "      <td>-1.358248</td>\n",
       "      <td>0.748892</td>\n",
       "    </tr>\n",
       "    <tr>\n",
       "      <th>1</th>\n",
       "      <td>-1.048603</td>\n",
       "      <td>-0.187139</td>\n",
       "      <td>-0.037665</td>\n",
       "      <td>-1.815789</td>\n",
       "    </tr>\n",
       "    <tr>\n",
       "      <th>2</th>\n",
       "      <td>0.717285</td>\n",
       "      <td>0.356619</td>\n",
       "      <td>1.255396</td>\n",
       "      <td>1.197813</td>\n",
       "    </tr>\n",
       "    <tr>\n",
       "      <th>0</th>\n",
       "      <td>0.577379</td>\n",
       "      <td>-0.770106</td>\n",
       "      <td>NaN</td>\n",
       "      <td>0.033793</td>\n",
       "    </tr>\n",
       "    <tr>\n",
       "      <th>1</th>\n",
       "      <td>-1.833774</td>\n",
       "      <td>0.861501</td>\n",
       "      <td>NaN</td>\n",
       "      <td>0.083247</td>\n",
       "    </tr>\n",
       "  </tbody>\n",
       "</table>\n",
       "</div>"
      ],
      "text/plain": [
       "          a         b         c         d\n",
       "0  0.007722  0.878193 -1.358248  0.748892\n",
       "1 -1.048603 -0.187139 -0.037665 -1.815789\n",
       "2  0.717285  0.356619  1.255396  1.197813\n",
       "0  0.577379 -0.770106       NaN  0.033793\n",
       "1 -1.833774  0.861501       NaN  0.083247"
      ]
     },
     "execution_count": 35,
     "metadata": {},
     "output_type": "execute_result"
    }
   ],
   "source": [
    "pd.concat([df1,df2])"
   ]
  },
  {
   "cell_type": "code",
   "execution_count": 36,
   "metadata": {
    "collapsed": false
   },
   "outputs": [
    {
     "data": {
      "text/html": [
       "<div>\n",
       "<table border=\"1\" class=\"dataframe\">\n",
       "  <thead>\n",
       "    <tr style=\"text-align: right;\">\n",
       "      <th></th>\n",
       "      <th>a</th>\n",
       "      <th>b</th>\n",
       "      <th>c</th>\n",
       "      <th>d</th>\n",
       "    </tr>\n",
       "  </thead>\n",
       "  <tbody>\n",
       "    <tr>\n",
       "      <th>0</th>\n",
       "      <td>0.007722</td>\n",
       "      <td>0.878193</td>\n",
       "      <td>-1.358248</td>\n",
       "      <td>0.748892</td>\n",
       "    </tr>\n",
       "    <tr>\n",
       "      <th>1</th>\n",
       "      <td>-1.048603</td>\n",
       "      <td>-0.187139</td>\n",
       "      <td>-0.037665</td>\n",
       "      <td>-1.815789</td>\n",
       "    </tr>\n",
       "    <tr>\n",
       "      <th>2</th>\n",
       "      <td>0.717285</td>\n",
       "      <td>0.356619</td>\n",
       "      <td>1.255396</td>\n",
       "      <td>1.197813</td>\n",
       "    </tr>\n",
       "    <tr>\n",
       "      <th>3</th>\n",
       "      <td>0.577379</td>\n",
       "      <td>-0.770106</td>\n",
       "      <td>NaN</td>\n",
       "      <td>0.033793</td>\n",
       "    </tr>\n",
       "    <tr>\n",
       "      <th>4</th>\n",
       "      <td>-1.833774</td>\n",
       "      <td>0.861501</td>\n",
       "      <td>NaN</td>\n",
       "      <td>0.083247</td>\n",
       "    </tr>\n",
       "  </tbody>\n",
       "</table>\n",
       "</div>"
      ],
      "text/plain": [
       "          a         b         c         d\n",
       "0  0.007722  0.878193 -1.358248  0.748892\n",
       "1 -1.048603 -0.187139 -0.037665 -1.815789\n",
       "2  0.717285  0.356619  1.255396  1.197813\n",
       "3  0.577379 -0.770106       NaN  0.033793\n",
       "4 -1.833774  0.861501       NaN  0.083247"
      ]
     },
     "execution_count": 36,
     "metadata": {},
     "output_type": "execute_result"
    }
   ],
   "source": [
    "pd.concat([df1,df2],ignore_index=True)"
   ]
  },
  {
   "cell_type": "markdown",
   "metadata": {},
   "source": [
    "Combining Data with Overlap\n",
    "--"
   ]
  },
  {
   "cell_type": "code",
   "execution_count": 37,
   "metadata": {
    "collapsed": false
   },
   "outputs": [],
   "source": [
    "a = Series([np.nan, 2.5, np.nan, 3.5, 4.5, np.nan],index=['f', 'e', 'd', 'c', 'b', 'a'])"
   ]
  },
  {
   "cell_type": "code",
   "execution_count": 38,
   "metadata": {
    "collapsed": true
   },
   "outputs": [],
   "source": [
    "b = Series(np.arange(len(a), dtype=np.float64),index=['f', 'e', 'd', 'c', 'b', 'a'])"
   ]
  },
  {
   "cell_type": "code",
   "execution_count": 39,
   "metadata": {
    "collapsed": false
   },
   "outputs": [
    {
     "data": {
      "text/plain": [
       "f    NaN\n",
       "e    2.5\n",
       "d    NaN\n",
       "c    3.5\n",
       "b    4.5\n",
       "a    NaN\n",
       "dtype: float64"
      ]
     },
     "execution_count": 39,
     "metadata": {},
     "output_type": "execute_result"
    }
   ],
   "source": [
    "a"
   ]
  },
  {
   "cell_type": "code",
   "execution_count": 40,
   "metadata": {
    "collapsed": false
   },
   "outputs": [
    {
     "data": {
      "text/plain": [
       "f    0.0\n",
       "e    1.0\n",
       "d    2.0\n",
       "c    3.0\n",
       "b    4.0\n",
       "a    5.0\n",
       "dtype: float64"
      ]
     },
     "execution_count": 40,
     "metadata": {},
     "output_type": "execute_result"
    }
   ],
   "source": [
    "b"
   ]
  },
  {
   "cell_type": "code",
   "execution_count": 41,
   "metadata": {
    "collapsed": true
   },
   "outputs": [],
   "source": [
    "b[-1]=np.nan"
   ]
  },
  {
   "cell_type": "code",
   "execution_count": 42,
   "metadata": {
    "collapsed": false
   },
   "outputs": [
    {
     "data": {
      "text/plain": [
       "array([ 0. ,  2.5,  2. ,  3.5,  4.5,  nan])"
      ]
     },
     "execution_count": 42,
     "metadata": {},
     "output_type": "execute_result"
    }
   ],
   "source": [
    "np.where(pd.isnull(a), b, a)"
   ]
  },
  {
   "cell_type": "code",
   "execution_count": 43,
   "metadata": {
    "collapsed": false
   },
   "outputs": [
    {
     "data": {
      "text/plain": [
       "a    NaN\n",
       "b    4.5\n",
       "c    3.0\n",
       "d    2.0\n",
       "e    1.0\n",
       "f    0.0\n",
       "dtype: float64"
      ]
     },
     "execution_count": 43,
     "metadata": {},
     "output_type": "execute_result"
    }
   ],
   "source": [
    "b[:-2].combine_first(a[2:])"
   ]
  },
  {
   "cell_type": "markdown",
   "metadata": {},
   "source": [
    "Reshaping and Pivoting\n",
    "--"
   ]
  },
  {
   "cell_type": "code",
   "execution_count": 44,
   "metadata": {
    "collapsed": true
   },
   "outputs": [],
   "source": [
    "data = DataFrame(np.arange(6).reshape(2,3),index=pd.Index(['Ohio','Colorado'],name='state'),columns=pd.Index(['one','two','three'],name='number'))"
   ]
  },
  {
   "cell_type": "code",
   "execution_count": 45,
   "metadata": {
    "collapsed": false
   },
   "outputs": [
    {
     "data": {
      "text/html": [
       "<div>\n",
       "<table border=\"1\" class=\"dataframe\">\n",
       "  <thead>\n",
       "    <tr style=\"text-align: right;\">\n",
       "      <th>number</th>\n",
       "      <th>one</th>\n",
       "      <th>two</th>\n",
       "      <th>three</th>\n",
       "    </tr>\n",
       "    <tr>\n",
       "      <th>state</th>\n",
       "      <th></th>\n",
       "      <th></th>\n",
       "      <th></th>\n",
       "    </tr>\n",
       "  </thead>\n",
       "  <tbody>\n",
       "    <tr>\n",
       "      <th>Ohio</th>\n",
       "      <td>0</td>\n",
       "      <td>1</td>\n",
       "      <td>2</td>\n",
       "    </tr>\n",
       "    <tr>\n",
       "      <th>Colorado</th>\n",
       "      <td>3</td>\n",
       "      <td>4</td>\n",
       "      <td>5</td>\n",
       "    </tr>\n",
       "  </tbody>\n",
       "</table>\n",
       "</div>"
      ],
      "text/plain": [
       "number    one  two  three\n",
       "state                    \n",
       "Ohio        0    1      2\n",
       "Colorado    3    4      5"
      ]
     },
     "execution_count": 45,
     "metadata": {},
     "output_type": "execute_result"
    }
   ],
   "source": [
    "data"
   ]
  },
  {
   "cell_type": "code",
   "execution_count": 46,
   "metadata": {
    "collapsed": false
   },
   "outputs": [],
   "source": [
    "result = data.stack()"
   ]
  },
  {
   "cell_type": "code",
   "execution_count": 47,
   "metadata": {
    "collapsed": false
   },
   "outputs": [
    {
     "data": {
      "text/html": [
       "<div>\n",
       "<table border=\"1\" class=\"dataframe\">\n",
       "  <thead>\n",
       "    <tr style=\"text-align: right;\">\n",
       "      <th>state</th>\n",
       "      <th>Ohio</th>\n",
       "      <th>Colorado</th>\n",
       "    </tr>\n",
       "    <tr>\n",
       "      <th>number</th>\n",
       "      <th></th>\n",
       "      <th></th>\n",
       "    </tr>\n",
       "  </thead>\n",
       "  <tbody>\n",
       "    <tr>\n",
       "      <th>one</th>\n",
       "      <td>0</td>\n",
       "      <td>3</td>\n",
       "    </tr>\n",
       "    <tr>\n",
       "      <th>two</th>\n",
       "      <td>1</td>\n",
       "      <td>4</td>\n",
       "    </tr>\n",
       "    <tr>\n",
       "      <th>three</th>\n",
       "      <td>2</td>\n",
       "      <td>5</td>\n",
       "    </tr>\n",
       "  </tbody>\n",
       "</table>\n",
       "</div>"
      ],
      "text/plain": [
       "state   Ohio  Colorado\n",
       "number                \n",
       "one        0         3\n",
       "two        1         4\n",
       "three      2         5"
      ]
     },
     "execution_count": 47,
     "metadata": {},
     "output_type": "execute_result"
    }
   ],
   "source": [
    "data.T"
   ]
  },
  {
   "cell_type": "code",
   "execution_count": 48,
   "metadata": {
    "collapsed": false
   },
   "outputs": [
    {
     "data": {
      "text/plain": [
       "state     number\n",
       "Ohio      one       0\n",
       "          two       1\n",
       "          three     2\n",
       "Colorado  one       3\n",
       "          two       4\n",
       "          three     5\n",
       "dtype: int64"
      ]
     },
     "execution_count": 48,
     "metadata": {},
     "output_type": "execute_result"
    }
   ],
   "source": [
    "result"
   ]
  },
  {
   "cell_type": "code",
   "execution_count": 49,
   "metadata": {
    "collapsed": false
   },
   "outputs": [
    {
     "data": {
      "text/plain": [
       "0"
      ]
     },
     "execution_count": 49,
     "metadata": {},
     "output_type": "execute_result"
    }
   ],
   "source": [
    "result.ix['Ohio'].ix['one']"
   ]
  },
  {
   "cell_type": "code",
   "execution_count": 50,
   "metadata": {
    "collapsed": false
   },
   "outputs": [
    {
     "data": {
      "text/html": [
       "<div>\n",
       "<table border=\"1\" class=\"dataframe\">\n",
       "  <thead>\n",
       "    <tr style=\"text-align: right;\">\n",
       "      <th>number</th>\n",
       "      <th>one</th>\n",
       "      <th>two</th>\n",
       "      <th>three</th>\n",
       "    </tr>\n",
       "    <tr>\n",
       "      <th>state</th>\n",
       "      <th></th>\n",
       "      <th></th>\n",
       "      <th></th>\n",
       "    </tr>\n",
       "  </thead>\n",
       "  <tbody>\n",
       "    <tr>\n",
       "      <th>Ohio</th>\n",
       "      <td>0</td>\n",
       "      <td>1</td>\n",
       "      <td>2</td>\n",
       "    </tr>\n",
       "    <tr>\n",
       "      <th>Colorado</th>\n",
       "      <td>3</td>\n",
       "      <td>4</td>\n",
       "      <td>5</td>\n",
       "    </tr>\n",
       "  </tbody>\n",
       "</table>\n",
       "</div>"
      ],
      "text/plain": [
       "number    one  two  three\n",
       "state                    \n",
       "Ohio        0    1      2\n",
       "Colorado    3    4      5"
      ]
     },
     "execution_count": 50,
     "metadata": {},
     "output_type": "execute_result"
    }
   ],
   "source": [
    "result.unstack()"
   ]
  },
  {
   "cell_type": "code",
   "execution_count": 51,
   "metadata": {
    "collapsed": true
   },
   "outputs": [],
   "source": [
    "s1 = Series([0, 1, 2, 3], index=['a', 'b', 'c', 'd'])"
   ]
  },
  {
   "cell_type": "code",
   "execution_count": 52,
   "metadata": {
    "collapsed": true
   },
   "outputs": [],
   "source": [
    "s2 = Series([4, 5, 6], index=['c', 'd', 'e'])"
   ]
  },
  {
   "cell_type": "code",
   "execution_count": 53,
   "metadata": {
    "collapsed": true
   },
   "outputs": [],
   "source": [
    "data2 = pd.concat([s1,s2],keys=['one','two'])"
   ]
  },
  {
   "cell_type": "code",
   "execution_count": 54,
   "metadata": {
    "collapsed": false
   },
   "outputs": [
    {
     "data": {
      "text/plain": [
       "one  a    0\n",
       "     b    1\n",
       "     c    2\n",
       "     d    3\n",
       "two  c    4\n",
       "     d    5\n",
       "     e    6\n",
       "dtype: int64"
      ]
     },
     "execution_count": 54,
     "metadata": {},
     "output_type": "execute_result"
    }
   ],
   "source": [
    "data2"
   ]
  },
  {
   "cell_type": "code",
   "execution_count": 55,
   "metadata": {
    "collapsed": false
   },
   "outputs": [
    {
     "data": {
      "text/html": [
       "<div>\n",
       "<table border=\"1\" class=\"dataframe\">\n",
       "  <thead>\n",
       "    <tr style=\"text-align: right;\">\n",
       "      <th></th>\n",
       "      <th>a</th>\n",
       "      <th>b</th>\n",
       "      <th>c</th>\n",
       "      <th>d</th>\n",
       "      <th>e</th>\n",
       "    </tr>\n",
       "  </thead>\n",
       "  <tbody>\n",
       "    <tr>\n",
       "      <th>one</th>\n",
       "      <td>0.0</td>\n",
       "      <td>1.0</td>\n",
       "      <td>2.0</td>\n",
       "      <td>3.0</td>\n",
       "      <td>NaN</td>\n",
       "    </tr>\n",
       "    <tr>\n",
       "      <th>two</th>\n",
       "      <td>NaN</td>\n",
       "      <td>NaN</td>\n",
       "      <td>4.0</td>\n",
       "      <td>5.0</td>\n",
       "      <td>6.0</td>\n",
       "    </tr>\n",
       "  </tbody>\n",
       "</table>\n",
       "</div>"
      ],
      "text/plain": [
       "       a    b    c    d    e\n",
       "one  0.0  1.0  2.0  3.0  NaN\n",
       "two  NaN  NaN  4.0  5.0  6.0"
      ]
     },
     "execution_count": 55,
     "metadata": {},
     "output_type": "execute_result"
    }
   ],
   "source": [
    "data2.unstack()"
   ]
  },
  {
   "cell_type": "code",
   "execution_count": 56,
   "metadata": {
    "collapsed": false
   },
   "outputs": [
    {
     "data": {
      "text/plain": [
       "one  a    0.0\n",
       "     b    1.0\n",
       "     c    2.0\n",
       "     d    3.0\n",
       "two  c    4.0\n",
       "     d    5.0\n",
       "     e    6.0\n",
       "dtype: float64"
      ]
     },
     "execution_count": 56,
     "metadata": {},
     "output_type": "execute_result"
    }
   ],
   "source": [
    "data2.unstack().stack()"
   ]
  },
  {
   "cell_type": "code",
   "execution_count": 57,
   "metadata": {
    "collapsed": false
   },
   "outputs": [
    {
     "data": {
      "text/plain": [
       "one  a    0.0\n",
       "     b    1.0\n",
       "     c    2.0\n",
       "     d    3.0\n",
       "     e    NaN\n",
       "two  a    NaN\n",
       "     b    NaN\n",
       "     c    4.0\n",
       "     d    5.0\n",
       "     e    6.0\n",
       "dtype: float64"
      ]
     },
     "execution_count": 57,
     "metadata": {},
     "output_type": "execute_result"
    }
   ],
   "source": [
    "data2.unstack().stack(dropna=False)"
   ]
  },
  {
   "cell_type": "code",
   "execution_count": 58,
   "metadata": {
    "collapsed": true
   },
   "outputs": [],
   "source": [
    "df = DataFrame({'left':result,'right':result+5},columns=pd.Index(['left','right'],name='side'))"
   ]
  },
  {
   "cell_type": "code",
   "execution_count": 59,
   "metadata": {
    "collapsed": false
   },
   "outputs": [
    {
     "data": {
      "text/html": [
       "<div>\n",
       "<table border=\"1\" class=\"dataframe\">\n",
       "  <thead>\n",
       "    <tr style=\"text-align: right;\">\n",
       "      <th></th>\n",
       "      <th>side</th>\n",
       "      <th>left</th>\n",
       "      <th>right</th>\n",
       "    </tr>\n",
       "    <tr>\n",
       "      <th>state</th>\n",
       "      <th>number</th>\n",
       "      <th></th>\n",
       "      <th></th>\n",
       "    </tr>\n",
       "  </thead>\n",
       "  <tbody>\n",
       "    <tr>\n",
       "      <th rowspan=\"3\" valign=\"top\">Ohio</th>\n",
       "      <th>one</th>\n",
       "      <td>0</td>\n",
       "      <td>5</td>\n",
       "    </tr>\n",
       "    <tr>\n",
       "      <th>two</th>\n",
       "      <td>1</td>\n",
       "      <td>6</td>\n",
       "    </tr>\n",
       "    <tr>\n",
       "      <th>three</th>\n",
       "      <td>2</td>\n",
       "      <td>7</td>\n",
       "    </tr>\n",
       "    <tr>\n",
       "      <th rowspan=\"3\" valign=\"top\">Colorado</th>\n",
       "      <th>one</th>\n",
       "      <td>3</td>\n",
       "      <td>8</td>\n",
       "    </tr>\n",
       "    <tr>\n",
       "      <th>two</th>\n",
       "      <td>4</td>\n",
       "      <td>9</td>\n",
       "    </tr>\n",
       "    <tr>\n",
       "      <th>three</th>\n",
       "      <td>5</td>\n",
       "      <td>10</td>\n",
       "    </tr>\n",
       "  </tbody>\n",
       "</table>\n",
       "</div>"
      ],
      "text/plain": [
       "side             left  right\n",
       "state    number             \n",
       "Ohio     one        0      5\n",
       "         two        1      6\n",
       "         three      2      7\n",
       "Colorado one        3      8\n",
       "         two        4      9\n",
       "         three      5     10"
      ]
     },
     "execution_count": 59,
     "metadata": {},
     "output_type": "execute_result"
    }
   ],
   "source": [
    "df"
   ]
  },
  {
   "cell_type": "code",
   "execution_count": 60,
   "metadata": {
    "collapsed": false
   },
   "outputs": [
    {
     "data": {
      "text/html": [
       "<div>\n",
       "<table border=\"1\" class=\"dataframe\">\n",
       "  <thead>\n",
       "    <tr>\n",
       "      <th>side</th>\n",
       "      <th colspan=\"3\" halign=\"left\">left</th>\n",
       "      <th colspan=\"3\" halign=\"left\">right</th>\n",
       "    </tr>\n",
       "    <tr>\n",
       "      <th>number</th>\n",
       "      <th>one</th>\n",
       "      <th>two</th>\n",
       "      <th>three</th>\n",
       "      <th>one</th>\n",
       "      <th>two</th>\n",
       "      <th>three</th>\n",
       "    </tr>\n",
       "    <tr>\n",
       "      <th>state</th>\n",
       "      <th></th>\n",
       "      <th></th>\n",
       "      <th></th>\n",
       "      <th></th>\n",
       "      <th></th>\n",
       "      <th></th>\n",
       "    </tr>\n",
       "  </thead>\n",
       "  <tbody>\n",
       "    <tr>\n",
       "      <th>Ohio</th>\n",
       "      <td>0</td>\n",
       "      <td>1</td>\n",
       "      <td>2</td>\n",
       "      <td>5</td>\n",
       "      <td>6</td>\n",
       "      <td>7</td>\n",
       "    </tr>\n",
       "    <tr>\n",
       "      <th>Colorado</th>\n",
       "      <td>3</td>\n",
       "      <td>4</td>\n",
       "      <td>5</td>\n",
       "      <td>8</td>\n",
       "      <td>9</td>\n",
       "      <td>10</td>\n",
       "    </tr>\n",
       "  </tbody>\n",
       "</table>\n",
       "</div>"
      ],
      "text/plain": [
       "side     left           right          \n",
       "number    one two three   one two three\n",
       "state                                  \n",
       "Ohio        0   1     2     5   6     7\n",
       "Colorado    3   4     5     8   9    10"
      ]
     },
     "execution_count": 60,
     "metadata": {},
     "output_type": "execute_result"
    }
   ],
   "source": [
    "df.unstack()"
   ]
  },
  {
   "cell_type": "code",
   "execution_count": 61,
   "metadata": {
    "collapsed": false
   },
   "outputs": [
    {
     "data": {
      "text/html": [
       "<div>\n",
       "<table border=\"1\" class=\"dataframe\">\n",
       "  <thead>\n",
       "    <tr>\n",
       "      <th>side</th>\n",
       "      <th colspan=\"2\" halign=\"left\">left</th>\n",
       "      <th colspan=\"2\" halign=\"left\">right</th>\n",
       "    </tr>\n",
       "    <tr>\n",
       "      <th>state</th>\n",
       "      <th>Ohio</th>\n",
       "      <th>Colorado</th>\n",
       "      <th>Ohio</th>\n",
       "      <th>Colorado</th>\n",
       "    </tr>\n",
       "    <tr>\n",
       "      <th>number</th>\n",
       "      <th></th>\n",
       "      <th></th>\n",
       "      <th></th>\n",
       "      <th></th>\n",
       "    </tr>\n",
       "  </thead>\n",
       "  <tbody>\n",
       "    <tr>\n",
       "      <th>one</th>\n",
       "      <td>0</td>\n",
       "      <td>3</td>\n",
       "      <td>5</td>\n",
       "      <td>8</td>\n",
       "    </tr>\n",
       "    <tr>\n",
       "      <th>two</th>\n",
       "      <td>1</td>\n",
       "      <td>4</td>\n",
       "      <td>6</td>\n",
       "      <td>9</td>\n",
       "    </tr>\n",
       "    <tr>\n",
       "      <th>three</th>\n",
       "      <td>2</td>\n",
       "      <td>5</td>\n",
       "      <td>7</td>\n",
       "      <td>10</td>\n",
       "    </tr>\n",
       "  </tbody>\n",
       "</table>\n",
       "</div>"
      ],
      "text/plain": [
       "side   left          right         \n",
       "state  Ohio Colorado  Ohio Colorado\n",
       "number                             \n",
       "one       0        3     5        8\n",
       "two       1        4     6        9\n",
       "three     2        5     7       10"
      ]
     },
     "execution_count": 61,
     "metadata": {},
     "output_type": "execute_result"
    }
   ],
   "source": [
    "df.unstack('state')"
   ]
  },
  {
   "cell_type": "code",
   "execution_count": 62,
   "metadata": {
    "collapsed": false
   },
   "outputs": [
    {
     "data": {
      "text/html": [
       "<div>\n",
       "<table border=\"1\" class=\"dataframe\">\n",
       "  <thead>\n",
       "    <tr style=\"text-align: right;\">\n",
       "      <th></th>\n",
       "      <th>state</th>\n",
       "      <th>Ohio</th>\n",
       "      <th>Colorado</th>\n",
       "    </tr>\n",
       "    <tr>\n",
       "      <th>number</th>\n",
       "      <th>side</th>\n",
       "      <th></th>\n",
       "      <th></th>\n",
       "    </tr>\n",
       "  </thead>\n",
       "  <tbody>\n",
       "    <tr>\n",
       "      <th rowspan=\"2\" valign=\"top\">one</th>\n",
       "      <th>left</th>\n",
       "      <td>0</td>\n",
       "      <td>3</td>\n",
       "    </tr>\n",
       "    <tr>\n",
       "      <th>right</th>\n",
       "      <td>5</td>\n",
       "      <td>8</td>\n",
       "    </tr>\n",
       "    <tr>\n",
       "      <th rowspan=\"2\" valign=\"top\">two</th>\n",
       "      <th>left</th>\n",
       "      <td>1</td>\n",
       "      <td>4</td>\n",
       "    </tr>\n",
       "    <tr>\n",
       "      <th>right</th>\n",
       "      <td>6</td>\n",
       "      <td>9</td>\n",
       "    </tr>\n",
       "    <tr>\n",
       "      <th rowspan=\"2\" valign=\"top\">three</th>\n",
       "      <th>left</th>\n",
       "      <td>2</td>\n",
       "      <td>5</td>\n",
       "    </tr>\n",
       "    <tr>\n",
       "      <th>right</th>\n",
       "      <td>7</td>\n",
       "      <td>10</td>\n",
       "    </tr>\n",
       "  </tbody>\n",
       "</table>\n",
       "</div>"
      ],
      "text/plain": [
       "state         Ohio  Colorado\n",
       "number side                 \n",
       "one    left      0         3\n",
       "       right     5         8\n",
       "two    left      1         4\n",
       "       right     6         9\n",
       "three  left      2         5\n",
       "       right     7        10"
      ]
     },
     "execution_count": 62,
     "metadata": {},
     "output_type": "execute_result"
    }
   ],
   "source": [
    "df.unstack('state').stack('side')"
   ]
  },
  {
   "cell_type": "markdown",
   "metadata": {},
   "source": [
    "Pivoting \"long\" to \"wide\" format\n",
    "--"
   ]
  },
  {
   "cell_type": "code",
   "execution_count": 63,
   "metadata": {
    "collapsed": true
   },
   "outputs": [],
   "source": [
    "data = pd.read_csv('https://raw.githubusercontent.com/fzr72725/pydata-book/master/ch07/macrodata.csv')"
   ]
  },
  {
   "cell_type": "code",
   "execution_count": 64,
   "metadata": {
    "collapsed": false
   },
   "outputs": [
    {
     "data": {
      "text/html": [
       "<div>\n",
       "<table border=\"1\" class=\"dataframe\">\n",
       "  <thead>\n",
       "    <tr style=\"text-align: right;\">\n",
       "      <th></th>\n",
       "      <th>year</th>\n",
       "      <th>quarter</th>\n",
       "      <th>realgdp</th>\n",
       "      <th>realcons</th>\n",
       "      <th>realinv</th>\n",
       "      <th>realgovt</th>\n",
       "      <th>realdpi</th>\n",
       "      <th>cpi</th>\n",
       "      <th>m1</th>\n",
       "      <th>tbilrate</th>\n",
       "      <th>unemp</th>\n",
       "      <th>pop</th>\n",
       "      <th>infl</th>\n",
       "      <th>realint</th>\n",
       "    </tr>\n",
       "  </thead>\n",
       "  <tbody>\n",
       "    <tr>\n",
       "      <th>0</th>\n",
       "      <td>1959.0</td>\n",
       "      <td>1.0</td>\n",
       "      <td>2710.349</td>\n",
       "      <td>1707.4</td>\n",
       "      <td>286.898</td>\n",
       "      <td>470.045</td>\n",
       "      <td>1886.9</td>\n",
       "      <td>28.980</td>\n",
       "      <td>139.7</td>\n",
       "      <td>2.82</td>\n",
       "      <td>5.8</td>\n",
       "      <td>177.146</td>\n",
       "      <td>0.00</td>\n",
       "      <td>0.00</td>\n",
       "    </tr>\n",
       "    <tr>\n",
       "      <th>1</th>\n",
       "      <td>1959.0</td>\n",
       "      <td>2.0</td>\n",
       "      <td>2778.801</td>\n",
       "      <td>1733.7</td>\n",
       "      <td>310.859</td>\n",
       "      <td>481.301</td>\n",
       "      <td>1919.7</td>\n",
       "      <td>29.150</td>\n",
       "      <td>141.7</td>\n",
       "      <td>3.08</td>\n",
       "      <td>5.1</td>\n",
       "      <td>177.830</td>\n",
       "      <td>2.34</td>\n",
       "      <td>0.74</td>\n",
       "    </tr>\n",
       "    <tr>\n",
       "      <th>2</th>\n",
       "      <td>1959.0</td>\n",
       "      <td>3.0</td>\n",
       "      <td>2775.488</td>\n",
       "      <td>1751.8</td>\n",
       "      <td>289.226</td>\n",
       "      <td>491.260</td>\n",
       "      <td>1916.4</td>\n",
       "      <td>29.350</td>\n",
       "      <td>140.5</td>\n",
       "      <td>3.82</td>\n",
       "      <td>5.3</td>\n",
       "      <td>178.657</td>\n",
       "      <td>2.74</td>\n",
       "      <td>1.09</td>\n",
       "    </tr>\n",
       "    <tr>\n",
       "      <th>3</th>\n",
       "      <td>1959.0</td>\n",
       "      <td>4.0</td>\n",
       "      <td>2785.204</td>\n",
       "      <td>1753.7</td>\n",
       "      <td>299.356</td>\n",
       "      <td>484.052</td>\n",
       "      <td>1931.3</td>\n",
       "      <td>29.370</td>\n",
       "      <td>140.0</td>\n",
       "      <td>4.33</td>\n",
       "      <td>5.6</td>\n",
       "      <td>179.386</td>\n",
       "      <td>0.27</td>\n",
       "      <td>4.06</td>\n",
       "    </tr>\n",
       "    <tr>\n",
       "      <th>4</th>\n",
       "      <td>1960.0</td>\n",
       "      <td>1.0</td>\n",
       "      <td>2847.699</td>\n",
       "      <td>1770.5</td>\n",
       "      <td>331.722</td>\n",
       "      <td>462.199</td>\n",
       "      <td>1955.5</td>\n",
       "      <td>29.540</td>\n",
       "      <td>139.6</td>\n",
       "      <td>3.50</td>\n",
       "      <td>5.2</td>\n",
       "      <td>180.007</td>\n",
       "      <td>2.31</td>\n",
       "      <td>1.19</td>\n",
       "    </tr>\n",
       "    <tr>\n",
       "      <th>5</th>\n",
       "      <td>1960.0</td>\n",
       "      <td>2.0</td>\n",
       "      <td>2834.390</td>\n",
       "      <td>1792.9</td>\n",
       "      <td>298.152</td>\n",
       "      <td>460.400</td>\n",
       "      <td>1966.1</td>\n",
       "      <td>29.550</td>\n",
       "      <td>140.2</td>\n",
       "      <td>2.68</td>\n",
       "      <td>5.2</td>\n",
       "      <td>180.671</td>\n",
       "      <td>0.14</td>\n",
       "      <td>2.55</td>\n",
       "    </tr>\n",
       "    <tr>\n",
       "      <th>6</th>\n",
       "      <td>1960.0</td>\n",
       "      <td>3.0</td>\n",
       "      <td>2839.022</td>\n",
       "      <td>1785.8</td>\n",
       "      <td>296.375</td>\n",
       "      <td>474.676</td>\n",
       "      <td>1967.8</td>\n",
       "      <td>29.750</td>\n",
       "      <td>140.9</td>\n",
       "      <td>2.36</td>\n",
       "      <td>5.6</td>\n",
       "      <td>181.528</td>\n",
       "      <td>2.70</td>\n",
       "      <td>-0.34</td>\n",
       "    </tr>\n",
       "    <tr>\n",
       "      <th>7</th>\n",
       "      <td>1960.0</td>\n",
       "      <td>4.0</td>\n",
       "      <td>2802.616</td>\n",
       "      <td>1788.2</td>\n",
       "      <td>259.764</td>\n",
       "      <td>476.434</td>\n",
       "      <td>1966.6</td>\n",
       "      <td>29.840</td>\n",
       "      <td>141.1</td>\n",
       "      <td>2.29</td>\n",
       "      <td>6.3</td>\n",
       "      <td>182.287</td>\n",
       "      <td>1.21</td>\n",
       "      <td>1.08</td>\n",
       "    </tr>\n",
       "    <tr>\n",
       "      <th>8</th>\n",
       "      <td>1961.0</td>\n",
       "      <td>1.0</td>\n",
       "      <td>2819.264</td>\n",
       "      <td>1787.7</td>\n",
       "      <td>266.405</td>\n",
       "      <td>475.854</td>\n",
       "      <td>1984.5</td>\n",
       "      <td>29.810</td>\n",
       "      <td>142.1</td>\n",
       "      <td>2.37</td>\n",
       "      <td>6.8</td>\n",
       "      <td>182.992</td>\n",
       "      <td>-0.40</td>\n",
       "      <td>2.77</td>\n",
       "    </tr>\n",
       "    <tr>\n",
       "      <th>9</th>\n",
       "      <td>1961.0</td>\n",
       "      <td>2.0</td>\n",
       "      <td>2872.005</td>\n",
       "      <td>1814.3</td>\n",
       "      <td>286.246</td>\n",
       "      <td>480.328</td>\n",
       "      <td>2014.4</td>\n",
       "      <td>29.920</td>\n",
       "      <td>142.9</td>\n",
       "      <td>2.29</td>\n",
       "      <td>7.0</td>\n",
       "      <td>183.691</td>\n",
       "      <td>1.47</td>\n",
       "      <td>0.81</td>\n",
       "    </tr>\n",
       "    <tr>\n",
       "      <th>10</th>\n",
       "      <td>1961.0</td>\n",
       "      <td>3.0</td>\n",
       "      <td>2918.419</td>\n",
       "      <td>1823.1</td>\n",
       "      <td>310.227</td>\n",
       "      <td>493.828</td>\n",
       "      <td>2041.9</td>\n",
       "      <td>29.980</td>\n",
       "      <td>144.1</td>\n",
       "      <td>2.32</td>\n",
       "      <td>6.8</td>\n",
       "      <td>184.524</td>\n",
       "      <td>0.80</td>\n",
       "      <td>1.52</td>\n",
       "    </tr>\n",
       "    <tr>\n",
       "      <th>11</th>\n",
       "      <td>1961.0</td>\n",
       "      <td>4.0</td>\n",
       "      <td>2977.830</td>\n",
       "      <td>1859.6</td>\n",
       "      <td>315.463</td>\n",
       "      <td>502.521</td>\n",
       "      <td>2082.0</td>\n",
       "      <td>30.040</td>\n",
       "      <td>145.2</td>\n",
       "      <td>2.60</td>\n",
       "      <td>6.2</td>\n",
       "      <td>185.242</td>\n",
       "      <td>0.80</td>\n",
       "      <td>1.80</td>\n",
       "    </tr>\n",
       "    <tr>\n",
       "      <th>12</th>\n",
       "      <td>1962.0</td>\n",
       "      <td>1.0</td>\n",
       "      <td>3031.241</td>\n",
       "      <td>1879.4</td>\n",
       "      <td>334.271</td>\n",
       "      <td>520.960</td>\n",
       "      <td>2101.7</td>\n",
       "      <td>30.210</td>\n",
       "      <td>146.4</td>\n",
       "      <td>2.73</td>\n",
       "      <td>5.6</td>\n",
       "      <td>185.874</td>\n",
       "      <td>2.26</td>\n",
       "      <td>0.47</td>\n",
       "    </tr>\n",
       "    <tr>\n",
       "      <th>13</th>\n",
       "      <td>1962.0</td>\n",
       "      <td>2.0</td>\n",
       "      <td>3064.709</td>\n",
       "      <td>1902.5</td>\n",
       "      <td>331.039</td>\n",
       "      <td>523.066</td>\n",
       "      <td>2125.2</td>\n",
       "      <td>30.220</td>\n",
       "      <td>146.5</td>\n",
       "      <td>2.78</td>\n",
       "      <td>5.5</td>\n",
       "      <td>186.538</td>\n",
       "      <td>0.13</td>\n",
       "      <td>2.65</td>\n",
       "    </tr>\n",
       "    <tr>\n",
       "      <th>14</th>\n",
       "      <td>1962.0</td>\n",
       "      <td>3.0</td>\n",
       "      <td>3093.047</td>\n",
       "      <td>1917.9</td>\n",
       "      <td>336.962</td>\n",
       "      <td>538.838</td>\n",
       "      <td>2137.0</td>\n",
       "      <td>30.380</td>\n",
       "      <td>146.7</td>\n",
       "      <td>2.78</td>\n",
       "      <td>5.6</td>\n",
       "      <td>187.323</td>\n",
       "      <td>2.11</td>\n",
       "      <td>0.67</td>\n",
       "    </tr>\n",
       "    <tr>\n",
       "      <th>15</th>\n",
       "      <td>1962.0</td>\n",
       "      <td>4.0</td>\n",
       "      <td>3100.563</td>\n",
       "      <td>1945.1</td>\n",
       "      <td>325.650</td>\n",
       "      <td>535.912</td>\n",
       "      <td>2154.6</td>\n",
       "      <td>30.440</td>\n",
       "      <td>148.3</td>\n",
       "      <td>2.87</td>\n",
       "      <td>5.5</td>\n",
       "      <td>188.013</td>\n",
       "      <td>0.79</td>\n",
       "      <td>2.08</td>\n",
       "    </tr>\n",
       "    <tr>\n",
       "      <th>16</th>\n",
       "      <td>1963.0</td>\n",
       "      <td>1.0</td>\n",
       "      <td>3141.087</td>\n",
       "      <td>1958.2</td>\n",
       "      <td>343.721</td>\n",
       "      <td>522.917</td>\n",
       "      <td>2172.5</td>\n",
       "      <td>30.480</td>\n",
       "      <td>149.7</td>\n",
       "      <td>2.90</td>\n",
       "      <td>5.8</td>\n",
       "      <td>188.580</td>\n",
       "      <td>0.53</td>\n",
       "      <td>2.38</td>\n",
       "    </tr>\n",
       "    <tr>\n",
       "      <th>17</th>\n",
       "      <td>1963.0</td>\n",
       "      <td>2.0</td>\n",
       "      <td>3180.447</td>\n",
       "      <td>1976.9</td>\n",
       "      <td>348.730</td>\n",
       "      <td>518.108</td>\n",
       "      <td>2193.1</td>\n",
       "      <td>30.690</td>\n",
       "      <td>151.3</td>\n",
       "      <td>3.03</td>\n",
       "      <td>5.7</td>\n",
       "      <td>189.242</td>\n",
       "      <td>2.75</td>\n",
       "      <td>0.29</td>\n",
       "    </tr>\n",
       "    <tr>\n",
       "      <th>18</th>\n",
       "      <td>1963.0</td>\n",
       "      <td>3.0</td>\n",
       "      <td>3240.332</td>\n",
       "      <td>2003.8</td>\n",
       "      <td>360.102</td>\n",
       "      <td>546.893</td>\n",
       "      <td>2217.9</td>\n",
       "      <td>30.750</td>\n",
       "      <td>152.6</td>\n",
       "      <td>3.38</td>\n",
       "      <td>5.5</td>\n",
       "      <td>190.028</td>\n",
       "      <td>0.78</td>\n",
       "      <td>2.60</td>\n",
       "    </tr>\n",
       "    <tr>\n",
       "      <th>19</th>\n",
       "      <td>1963.0</td>\n",
       "      <td>4.0</td>\n",
       "      <td>3264.967</td>\n",
       "      <td>2020.6</td>\n",
       "      <td>364.534</td>\n",
       "      <td>532.383</td>\n",
       "      <td>2254.6</td>\n",
       "      <td>30.940</td>\n",
       "      <td>153.7</td>\n",
       "      <td>3.52</td>\n",
       "      <td>5.6</td>\n",
       "      <td>190.668</td>\n",
       "      <td>2.46</td>\n",
       "      <td>1.06</td>\n",
       "    </tr>\n",
       "    <tr>\n",
       "      <th>20</th>\n",
       "      <td>1964.0</td>\n",
       "      <td>1.0</td>\n",
       "      <td>3338.246</td>\n",
       "      <td>2060.5</td>\n",
       "      <td>379.523</td>\n",
       "      <td>529.686</td>\n",
       "      <td>2299.6</td>\n",
       "      <td>30.950</td>\n",
       "      <td>154.8</td>\n",
       "      <td>3.51</td>\n",
       "      <td>5.5</td>\n",
       "      <td>191.245</td>\n",
       "      <td>0.13</td>\n",
       "      <td>3.38</td>\n",
       "    </tr>\n",
       "    <tr>\n",
       "      <th>21</th>\n",
       "      <td>1964.0</td>\n",
       "      <td>2.0</td>\n",
       "      <td>3376.587</td>\n",
       "      <td>2096.7</td>\n",
       "      <td>377.778</td>\n",
       "      <td>526.175</td>\n",
       "      <td>2362.1</td>\n",
       "      <td>31.020</td>\n",
       "      <td>156.8</td>\n",
       "      <td>3.47</td>\n",
       "      <td>5.2</td>\n",
       "      <td>191.889</td>\n",
       "      <td>0.90</td>\n",
       "      <td>2.57</td>\n",
       "    </tr>\n",
       "    <tr>\n",
       "      <th>22</th>\n",
       "      <td>1964.0</td>\n",
       "      <td>3.0</td>\n",
       "      <td>3422.469</td>\n",
       "      <td>2135.2</td>\n",
       "      <td>386.754</td>\n",
       "      <td>522.008</td>\n",
       "      <td>2392.7</td>\n",
       "      <td>31.120</td>\n",
       "      <td>159.2</td>\n",
       "      <td>3.53</td>\n",
       "      <td>5.0</td>\n",
       "      <td>192.631</td>\n",
       "      <td>1.29</td>\n",
       "      <td>2.25</td>\n",
       "    </tr>\n",
       "    <tr>\n",
       "      <th>23</th>\n",
       "      <td>1964.0</td>\n",
       "      <td>4.0</td>\n",
       "      <td>3431.957</td>\n",
       "      <td>2141.2</td>\n",
       "      <td>389.910</td>\n",
       "      <td>514.603</td>\n",
       "      <td>2420.4</td>\n",
       "      <td>31.280</td>\n",
       "      <td>160.7</td>\n",
       "      <td>3.76</td>\n",
       "      <td>5.0</td>\n",
       "      <td>193.223</td>\n",
       "      <td>2.05</td>\n",
       "      <td>1.71</td>\n",
       "    </tr>\n",
       "    <tr>\n",
       "      <th>24</th>\n",
       "      <td>1965.0</td>\n",
       "      <td>1.0</td>\n",
       "      <td>3516.251</td>\n",
       "      <td>2188.8</td>\n",
       "      <td>429.145</td>\n",
       "      <td>508.006</td>\n",
       "      <td>2447.4</td>\n",
       "      <td>31.380</td>\n",
       "      <td>162.0</td>\n",
       "      <td>3.93</td>\n",
       "      <td>4.9</td>\n",
       "      <td>193.709</td>\n",
       "      <td>1.28</td>\n",
       "      <td>2.65</td>\n",
       "    </tr>\n",
       "    <tr>\n",
       "      <th>25</th>\n",
       "      <td>1965.0</td>\n",
       "      <td>2.0</td>\n",
       "      <td>3563.960</td>\n",
       "      <td>2213.0</td>\n",
       "      <td>429.119</td>\n",
       "      <td>508.931</td>\n",
       "      <td>2474.5</td>\n",
       "      <td>31.580</td>\n",
       "      <td>163.1</td>\n",
       "      <td>3.84</td>\n",
       "      <td>4.7</td>\n",
       "      <td>194.303</td>\n",
       "      <td>2.54</td>\n",
       "      <td>1.30</td>\n",
       "    </tr>\n",
       "    <tr>\n",
       "      <th>26</th>\n",
       "      <td>1965.0</td>\n",
       "      <td>3.0</td>\n",
       "      <td>3636.285</td>\n",
       "      <td>2251.0</td>\n",
       "      <td>444.444</td>\n",
       "      <td>529.446</td>\n",
       "      <td>2542.6</td>\n",
       "      <td>31.650</td>\n",
       "      <td>166.0</td>\n",
       "      <td>3.93</td>\n",
       "      <td>4.4</td>\n",
       "      <td>194.997</td>\n",
       "      <td>0.89</td>\n",
       "      <td>3.04</td>\n",
       "    </tr>\n",
       "    <tr>\n",
       "      <th>27</th>\n",
       "      <td>1965.0</td>\n",
       "      <td>4.0</td>\n",
       "      <td>3724.014</td>\n",
       "      <td>2314.3</td>\n",
       "      <td>446.493</td>\n",
       "      <td>544.121</td>\n",
       "      <td>2594.1</td>\n",
       "      <td>31.880</td>\n",
       "      <td>169.1</td>\n",
       "      <td>4.35</td>\n",
       "      <td>4.1</td>\n",
       "      <td>195.539</td>\n",
       "      <td>2.90</td>\n",
       "      <td>1.46</td>\n",
       "    </tr>\n",
       "    <tr>\n",
       "      <th>28</th>\n",
       "      <td>1966.0</td>\n",
       "      <td>1.0</td>\n",
       "      <td>3815.423</td>\n",
       "      <td>2348.5</td>\n",
       "      <td>484.244</td>\n",
       "      <td>556.593</td>\n",
       "      <td>2618.4</td>\n",
       "      <td>32.280</td>\n",
       "      <td>171.8</td>\n",
       "      <td>4.62</td>\n",
       "      <td>3.9</td>\n",
       "      <td>195.999</td>\n",
       "      <td>4.99</td>\n",
       "      <td>-0.37</td>\n",
       "    </tr>\n",
       "    <tr>\n",
       "      <th>29</th>\n",
       "      <td>1966.0</td>\n",
       "      <td>2.0</td>\n",
       "      <td>3828.124</td>\n",
       "      <td>2354.5</td>\n",
       "      <td>475.408</td>\n",
       "      <td>571.371</td>\n",
       "      <td>2624.7</td>\n",
       "      <td>32.450</td>\n",
       "      <td>170.3</td>\n",
       "      <td>4.65</td>\n",
       "      <td>3.8</td>\n",
       "      <td>196.560</td>\n",
       "      <td>2.10</td>\n",
       "      <td>2.55</td>\n",
       "    </tr>\n",
       "    <tr>\n",
       "      <th>...</th>\n",
       "      <td>...</td>\n",
       "      <td>...</td>\n",
       "      <td>...</td>\n",
       "      <td>...</td>\n",
       "      <td>...</td>\n",
       "      <td>...</td>\n",
       "      <td>...</td>\n",
       "      <td>...</td>\n",
       "      <td>...</td>\n",
       "      <td>...</td>\n",
       "      <td>...</td>\n",
       "      <td>...</td>\n",
       "      <td>...</td>\n",
       "      <td>...</td>\n",
       "    </tr>\n",
       "    <tr>\n",
       "      <th>173</th>\n",
       "      <td>2002.0</td>\n",
       "      <td>2.0</td>\n",
       "      <td>11538.770</td>\n",
       "      <td>7997.8</td>\n",
       "      <td>1810.779</td>\n",
       "      <td>774.408</td>\n",
       "      <td>8658.9</td>\n",
       "      <td>180.000</td>\n",
       "      <td>1199.5</td>\n",
       "      <td>1.70</td>\n",
       "      <td>5.8</td>\n",
       "      <td>288.028</td>\n",
       "      <td>1.56</td>\n",
       "      <td>0.14</td>\n",
       "    </tr>\n",
       "    <tr>\n",
       "      <th>174</th>\n",
       "      <td>2002.0</td>\n",
       "      <td>3.0</td>\n",
       "      <td>11596.430</td>\n",
       "      <td>8052.0</td>\n",
       "      <td>1814.531</td>\n",
       "      <td>786.673</td>\n",
       "      <td>8629.2</td>\n",
       "      <td>181.200</td>\n",
       "      <td>1204.0</td>\n",
       "      <td>1.61</td>\n",
       "      <td>5.7</td>\n",
       "      <td>288.783</td>\n",
       "      <td>2.66</td>\n",
       "      <td>-1.05</td>\n",
       "    </tr>\n",
       "    <tr>\n",
       "      <th>175</th>\n",
       "      <td>2002.0</td>\n",
       "      <td>4.0</td>\n",
       "      <td>11598.824</td>\n",
       "      <td>8080.6</td>\n",
       "      <td>1813.219</td>\n",
       "      <td>799.967</td>\n",
       "      <td>8649.6</td>\n",
       "      <td>182.600</td>\n",
       "      <td>1226.8</td>\n",
       "      <td>1.20</td>\n",
       "      <td>5.8</td>\n",
       "      <td>289.421</td>\n",
       "      <td>3.08</td>\n",
       "      <td>-1.88</td>\n",
       "    </tr>\n",
       "    <tr>\n",
       "      <th>176</th>\n",
       "      <td>2003.0</td>\n",
       "      <td>1.0</td>\n",
       "      <td>11645.819</td>\n",
       "      <td>8122.3</td>\n",
       "      <td>1813.141</td>\n",
       "      <td>800.196</td>\n",
       "      <td>8681.3</td>\n",
       "      <td>183.200</td>\n",
       "      <td>1248.4</td>\n",
       "      <td>1.14</td>\n",
       "      <td>5.9</td>\n",
       "      <td>290.019</td>\n",
       "      <td>1.31</td>\n",
       "      <td>-0.17</td>\n",
       "    </tr>\n",
       "    <tr>\n",
       "      <th>177</th>\n",
       "      <td>2003.0</td>\n",
       "      <td>2.0</td>\n",
       "      <td>11738.706</td>\n",
       "      <td>8197.8</td>\n",
       "      <td>1823.698</td>\n",
       "      <td>838.775</td>\n",
       "      <td>8812.5</td>\n",
       "      <td>183.700</td>\n",
       "      <td>1287.9</td>\n",
       "      <td>0.96</td>\n",
       "      <td>6.2</td>\n",
       "      <td>290.704</td>\n",
       "      <td>1.09</td>\n",
       "      <td>-0.13</td>\n",
       "    </tr>\n",
       "    <tr>\n",
       "      <th>178</th>\n",
       "      <td>2003.0</td>\n",
       "      <td>3.0</td>\n",
       "      <td>11935.461</td>\n",
       "      <td>8312.1</td>\n",
       "      <td>1889.883</td>\n",
       "      <td>839.598</td>\n",
       "      <td>8935.4</td>\n",
       "      <td>184.900</td>\n",
       "      <td>1297.3</td>\n",
       "      <td>0.94</td>\n",
       "      <td>6.1</td>\n",
       "      <td>291.449</td>\n",
       "      <td>2.60</td>\n",
       "      <td>-1.67</td>\n",
       "    </tr>\n",
       "    <tr>\n",
       "      <th>179</th>\n",
       "      <td>2003.0</td>\n",
       "      <td>4.0</td>\n",
       "      <td>12042.817</td>\n",
       "      <td>8358.0</td>\n",
       "      <td>1959.783</td>\n",
       "      <td>845.722</td>\n",
       "      <td>8986.4</td>\n",
       "      <td>186.300</td>\n",
       "      <td>1306.1</td>\n",
       "      <td>0.90</td>\n",
       "      <td>5.8</td>\n",
       "      <td>292.057</td>\n",
       "      <td>3.02</td>\n",
       "      <td>-2.11</td>\n",
       "    </tr>\n",
       "    <tr>\n",
       "      <th>180</th>\n",
       "      <td>2004.0</td>\n",
       "      <td>1.0</td>\n",
       "      <td>12127.623</td>\n",
       "      <td>8437.6</td>\n",
       "      <td>1970.015</td>\n",
       "      <td>856.570</td>\n",
       "      <td>9025.9</td>\n",
       "      <td>187.400</td>\n",
       "      <td>1332.1</td>\n",
       "      <td>0.94</td>\n",
       "      <td>5.7</td>\n",
       "      <td>292.635</td>\n",
       "      <td>2.35</td>\n",
       "      <td>-1.42</td>\n",
       "    </tr>\n",
       "    <tr>\n",
       "      <th>181</th>\n",
       "      <td>2004.0</td>\n",
       "      <td>2.0</td>\n",
       "      <td>12213.818</td>\n",
       "      <td>8483.2</td>\n",
       "      <td>2055.580</td>\n",
       "      <td>861.440</td>\n",
       "      <td>9115.0</td>\n",
       "      <td>189.100</td>\n",
       "      <td>1340.5</td>\n",
       "      <td>1.21</td>\n",
       "      <td>5.6</td>\n",
       "      <td>293.310</td>\n",
       "      <td>3.61</td>\n",
       "      <td>-2.41</td>\n",
       "    </tr>\n",
       "    <tr>\n",
       "      <th>182</th>\n",
       "      <td>2004.0</td>\n",
       "      <td>3.0</td>\n",
       "      <td>12303.533</td>\n",
       "      <td>8555.8</td>\n",
       "      <td>2082.231</td>\n",
       "      <td>876.385</td>\n",
       "      <td>9175.9</td>\n",
       "      <td>190.800</td>\n",
       "      <td>1361.0</td>\n",
       "      <td>1.63</td>\n",
       "      <td>5.4</td>\n",
       "      <td>294.066</td>\n",
       "      <td>3.58</td>\n",
       "      <td>-1.95</td>\n",
       "    </tr>\n",
       "    <tr>\n",
       "      <th>183</th>\n",
       "      <td>2004.0</td>\n",
       "      <td>4.0</td>\n",
       "      <td>12410.282</td>\n",
       "      <td>8654.2</td>\n",
       "      <td>2125.152</td>\n",
       "      <td>865.596</td>\n",
       "      <td>9303.4</td>\n",
       "      <td>191.800</td>\n",
       "      <td>1366.6</td>\n",
       "      <td>2.20</td>\n",
       "      <td>5.4</td>\n",
       "      <td>294.741</td>\n",
       "      <td>2.09</td>\n",
       "      <td>0.11</td>\n",
       "    </tr>\n",
       "    <tr>\n",
       "      <th>184</th>\n",
       "      <td>2005.0</td>\n",
       "      <td>1.0</td>\n",
       "      <td>12534.113</td>\n",
       "      <td>8719.0</td>\n",
       "      <td>2170.299</td>\n",
       "      <td>869.204</td>\n",
       "      <td>9189.6</td>\n",
       "      <td>193.800</td>\n",
       "      <td>1357.8</td>\n",
       "      <td>2.69</td>\n",
       "      <td>5.3</td>\n",
       "      <td>295.308</td>\n",
       "      <td>4.15</td>\n",
       "      <td>-1.46</td>\n",
       "    </tr>\n",
       "    <tr>\n",
       "      <th>185</th>\n",
       "      <td>2005.0</td>\n",
       "      <td>2.0</td>\n",
       "      <td>12587.535</td>\n",
       "      <td>8802.9</td>\n",
       "      <td>2131.468</td>\n",
       "      <td>870.044</td>\n",
       "      <td>9253.0</td>\n",
       "      <td>194.700</td>\n",
       "      <td>1366.6</td>\n",
       "      <td>3.01</td>\n",
       "      <td>5.1</td>\n",
       "      <td>295.994</td>\n",
       "      <td>1.85</td>\n",
       "      <td>1.16</td>\n",
       "    </tr>\n",
       "    <tr>\n",
       "      <th>186</th>\n",
       "      <td>2005.0</td>\n",
       "      <td>3.0</td>\n",
       "      <td>12683.153</td>\n",
       "      <td>8865.6</td>\n",
       "      <td>2154.949</td>\n",
       "      <td>890.394</td>\n",
       "      <td>9308.0</td>\n",
       "      <td>199.200</td>\n",
       "      <td>1375.0</td>\n",
       "      <td>3.52</td>\n",
       "      <td>5.0</td>\n",
       "      <td>296.770</td>\n",
       "      <td>9.14</td>\n",
       "      <td>-5.62</td>\n",
       "    </tr>\n",
       "    <tr>\n",
       "      <th>187</th>\n",
       "      <td>2005.0</td>\n",
       "      <td>4.0</td>\n",
       "      <td>12748.699</td>\n",
       "      <td>8888.5</td>\n",
       "      <td>2232.193</td>\n",
       "      <td>875.557</td>\n",
       "      <td>9358.7</td>\n",
       "      <td>199.400</td>\n",
       "      <td>1380.6</td>\n",
       "      <td>4.00</td>\n",
       "      <td>4.9</td>\n",
       "      <td>297.435</td>\n",
       "      <td>0.40</td>\n",
       "      <td>3.60</td>\n",
       "    </tr>\n",
       "    <tr>\n",
       "      <th>188</th>\n",
       "      <td>2006.0</td>\n",
       "      <td>1.0</td>\n",
       "      <td>12915.938</td>\n",
       "      <td>8986.6</td>\n",
       "      <td>2264.721</td>\n",
       "      <td>900.511</td>\n",
       "      <td>9533.8</td>\n",
       "      <td>200.700</td>\n",
       "      <td>1380.5</td>\n",
       "      <td>4.51</td>\n",
       "      <td>4.7</td>\n",
       "      <td>298.061</td>\n",
       "      <td>2.60</td>\n",
       "      <td>1.91</td>\n",
       "    </tr>\n",
       "    <tr>\n",
       "      <th>189</th>\n",
       "      <td>2006.0</td>\n",
       "      <td>2.0</td>\n",
       "      <td>12962.462</td>\n",
       "      <td>9035.0</td>\n",
       "      <td>2261.247</td>\n",
       "      <td>892.839</td>\n",
       "      <td>9617.3</td>\n",
       "      <td>202.700</td>\n",
       "      <td>1369.2</td>\n",
       "      <td>4.82</td>\n",
       "      <td>4.7</td>\n",
       "      <td>298.766</td>\n",
       "      <td>3.97</td>\n",
       "      <td>0.85</td>\n",
       "    </tr>\n",
       "    <tr>\n",
       "      <th>190</th>\n",
       "      <td>2006.0</td>\n",
       "      <td>3.0</td>\n",
       "      <td>12965.916</td>\n",
       "      <td>9090.7</td>\n",
       "      <td>2229.636</td>\n",
       "      <td>892.002</td>\n",
       "      <td>9662.5</td>\n",
       "      <td>201.900</td>\n",
       "      <td>1369.4</td>\n",
       "      <td>4.90</td>\n",
       "      <td>4.7</td>\n",
       "      <td>299.593</td>\n",
       "      <td>-1.58</td>\n",
       "      <td>6.48</td>\n",
       "    </tr>\n",
       "    <tr>\n",
       "      <th>191</th>\n",
       "      <td>2006.0</td>\n",
       "      <td>4.0</td>\n",
       "      <td>13060.679</td>\n",
       "      <td>9181.6</td>\n",
       "      <td>2165.966</td>\n",
       "      <td>894.404</td>\n",
       "      <td>9788.8</td>\n",
       "      <td>203.574</td>\n",
       "      <td>1373.6</td>\n",
       "      <td>4.92</td>\n",
       "      <td>4.4</td>\n",
       "      <td>300.320</td>\n",
       "      <td>3.30</td>\n",
       "      <td>1.62</td>\n",
       "    </tr>\n",
       "    <tr>\n",
       "      <th>192</th>\n",
       "      <td>2007.0</td>\n",
       "      <td>1.0</td>\n",
       "      <td>13099.901</td>\n",
       "      <td>9265.1</td>\n",
       "      <td>2132.609</td>\n",
       "      <td>882.766</td>\n",
       "      <td>9830.2</td>\n",
       "      <td>205.920</td>\n",
       "      <td>1379.7</td>\n",
       "      <td>4.95</td>\n",
       "      <td>4.5</td>\n",
       "      <td>300.977</td>\n",
       "      <td>4.58</td>\n",
       "      <td>0.36</td>\n",
       "    </tr>\n",
       "    <tr>\n",
       "      <th>193</th>\n",
       "      <td>2007.0</td>\n",
       "      <td>2.0</td>\n",
       "      <td>13203.977</td>\n",
       "      <td>9291.5</td>\n",
       "      <td>2162.214</td>\n",
       "      <td>898.713</td>\n",
       "      <td>9842.7</td>\n",
       "      <td>207.338</td>\n",
       "      <td>1370.0</td>\n",
       "      <td>4.72</td>\n",
       "      <td>4.5</td>\n",
       "      <td>301.714</td>\n",
       "      <td>2.75</td>\n",
       "      <td>1.97</td>\n",
       "    </tr>\n",
       "    <tr>\n",
       "      <th>194</th>\n",
       "      <td>2007.0</td>\n",
       "      <td>3.0</td>\n",
       "      <td>13321.109</td>\n",
       "      <td>9335.6</td>\n",
       "      <td>2166.491</td>\n",
       "      <td>918.983</td>\n",
       "      <td>9883.9</td>\n",
       "      <td>209.133</td>\n",
       "      <td>1379.2</td>\n",
       "      <td>4.00</td>\n",
       "      <td>4.7</td>\n",
       "      <td>302.509</td>\n",
       "      <td>3.45</td>\n",
       "      <td>0.55</td>\n",
       "    </tr>\n",
       "    <tr>\n",
       "      <th>195</th>\n",
       "      <td>2007.0</td>\n",
       "      <td>4.0</td>\n",
       "      <td>13391.249</td>\n",
       "      <td>9363.6</td>\n",
       "      <td>2123.426</td>\n",
       "      <td>925.110</td>\n",
       "      <td>9886.2</td>\n",
       "      <td>212.495</td>\n",
       "      <td>1377.4</td>\n",
       "      <td>3.01</td>\n",
       "      <td>4.8</td>\n",
       "      <td>303.204</td>\n",
       "      <td>6.38</td>\n",
       "      <td>-3.37</td>\n",
       "    </tr>\n",
       "    <tr>\n",
       "      <th>196</th>\n",
       "      <td>2008.0</td>\n",
       "      <td>1.0</td>\n",
       "      <td>13366.865</td>\n",
       "      <td>9349.6</td>\n",
       "      <td>2082.886</td>\n",
       "      <td>943.372</td>\n",
       "      <td>9826.8</td>\n",
       "      <td>213.997</td>\n",
       "      <td>1384.0</td>\n",
       "      <td>1.56</td>\n",
       "      <td>4.9</td>\n",
       "      <td>303.803</td>\n",
       "      <td>2.82</td>\n",
       "      <td>-1.26</td>\n",
       "    </tr>\n",
       "    <tr>\n",
       "      <th>197</th>\n",
       "      <td>2008.0</td>\n",
       "      <td>2.0</td>\n",
       "      <td>13415.266</td>\n",
       "      <td>9351.0</td>\n",
       "      <td>2026.518</td>\n",
       "      <td>961.280</td>\n",
       "      <td>10059.0</td>\n",
       "      <td>218.610</td>\n",
       "      <td>1409.3</td>\n",
       "      <td>1.74</td>\n",
       "      <td>5.4</td>\n",
       "      <td>304.483</td>\n",
       "      <td>8.53</td>\n",
       "      <td>-6.79</td>\n",
       "    </tr>\n",
       "    <tr>\n",
       "      <th>198</th>\n",
       "      <td>2008.0</td>\n",
       "      <td>3.0</td>\n",
       "      <td>13324.600</td>\n",
       "      <td>9267.7</td>\n",
       "      <td>1990.693</td>\n",
       "      <td>991.551</td>\n",
       "      <td>9838.3</td>\n",
       "      <td>216.889</td>\n",
       "      <td>1474.7</td>\n",
       "      <td>1.17</td>\n",
       "      <td>6.0</td>\n",
       "      <td>305.270</td>\n",
       "      <td>-3.16</td>\n",
       "      <td>4.33</td>\n",
       "    </tr>\n",
       "    <tr>\n",
       "      <th>199</th>\n",
       "      <td>2008.0</td>\n",
       "      <td>4.0</td>\n",
       "      <td>13141.920</td>\n",
       "      <td>9195.3</td>\n",
       "      <td>1857.661</td>\n",
       "      <td>1007.273</td>\n",
       "      <td>9920.4</td>\n",
       "      <td>212.174</td>\n",
       "      <td>1576.5</td>\n",
       "      <td>0.12</td>\n",
       "      <td>6.9</td>\n",
       "      <td>305.952</td>\n",
       "      <td>-8.79</td>\n",
       "      <td>8.91</td>\n",
       "    </tr>\n",
       "    <tr>\n",
       "      <th>200</th>\n",
       "      <td>2009.0</td>\n",
       "      <td>1.0</td>\n",
       "      <td>12925.410</td>\n",
       "      <td>9209.2</td>\n",
       "      <td>1558.494</td>\n",
       "      <td>996.287</td>\n",
       "      <td>9926.4</td>\n",
       "      <td>212.671</td>\n",
       "      <td>1592.8</td>\n",
       "      <td>0.22</td>\n",
       "      <td>8.1</td>\n",
       "      <td>306.547</td>\n",
       "      <td>0.94</td>\n",
       "      <td>-0.71</td>\n",
       "    </tr>\n",
       "    <tr>\n",
       "      <th>201</th>\n",
       "      <td>2009.0</td>\n",
       "      <td>2.0</td>\n",
       "      <td>12901.504</td>\n",
       "      <td>9189.0</td>\n",
       "      <td>1456.678</td>\n",
       "      <td>1023.528</td>\n",
       "      <td>10077.5</td>\n",
       "      <td>214.469</td>\n",
       "      <td>1653.6</td>\n",
       "      <td>0.18</td>\n",
       "      <td>9.2</td>\n",
       "      <td>307.226</td>\n",
       "      <td>3.37</td>\n",
       "      <td>-3.19</td>\n",
       "    </tr>\n",
       "    <tr>\n",
       "      <th>202</th>\n",
       "      <td>2009.0</td>\n",
       "      <td>3.0</td>\n",
       "      <td>12990.341</td>\n",
       "      <td>9256.0</td>\n",
       "      <td>1486.398</td>\n",
       "      <td>1044.088</td>\n",
       "      <td>10040.6</td>\n",
       "      <td>216.385</td>\n",
       "      <td>1673.9</td>\n",
       "      <td>0.12</td>\n",
       "      <td>9.6</td>\n",
       "      <td>308.013</td>\n",
       "      <td>3.56</td>\n",
       "      <td>-3.44</td>\n",
       "    </tr>\n",
       "  </tbody>\n",
       "</table>\n",
       "<p>203 rows × 14 columns</p>\n",
       "</div>"
      ],
      "text/plain": [
       "       year  quarter    realgdp  realcons   realinv  realgovt  realdpi  \\\n",
       "0    1959.0      1.0   2710.349    1707.4   286.898   470.045   1886.9   \n",
       "1    1959.0      2.0   2778.801    1733.7   310.859   481.301   1919.7   \n",
       "2    1959.0      3.0   2775.488    1751.8   289.226   491.260   1916.4   \n",
       "3    1959.0      4.0   2785.204    1753.7   299.356   484.052   1931.3   \n",
       "4    1960.0      1.0   2847.699    1770.5   331.722   462.199   1955.5   \n",
       "5    1960.0      2.0   2834.390    1792.9   298.152   460.400   1966.1   \n",
       "6    1960.0      3.0   2839.022    1785.8   296.375   474.676   1967.8   \n",
       "7    1960.0      4.0   2802.616    1788.2   259.764   476.434   1966.6   \n",
       "8    1961.0      1.0   2819.264    1787.7   266.405   475.854   1984.5   \n",
       "9    1961.0      2.0   2872.005    1814.3   286.246   480.328   2014.4   \n",
       "10   1961.0      3.0   2918.419    1823.1   310.227   493.828   2041.9   \n",
       "11   1961.0      4.0   2977.830    1859.6   315.463   502.521   2082.0   \n",
       "12   1962.0      1.0   3031.241    1879.4   334.271   520.960   2101.7   \n",
       "13   1962.0      2.0   3064.709    1902.5   331.039   523.066   2125.2   \n",
       "14   1962.0      3.0   3093.047    1917.9   336.962   538.838   2137.0   \n",
       "15   1962.0      4.0   3100.563    1945.1   325.650   535.912   2154.6   \n",
       "16   1963.0      1.0   3141.087    1958.2   343.721   522.917   2172.5   \n",
       "17   1963.0      2.0   3180.447    1976.9   348.730   518.108   2193.1   \n",
       "18   1963.0      3.0   3240.332    2003.8   360.102   546.893   2217.9   \n",
       "19   1963.0      4.0   3264.967    2020.6   364.534   532.383   2254.6   \n",
       "20   1964.0      1.0   3338.246    2060.5   379.523   529.686   2299.6   \n",
       "21   1964.0      2.0   3376.587    2096.7   377.778   526.175   2362.1   \n",
       "22   1964.0      3.0   3422.469    2135.2   386.754   522.008   2392.7   \n",
       "23   1964.0      4.0   3431.957    2141.2   389.910   514.603   2420.4   \n",
       "24   1965.0      1.0   3516.251    2188.8   429.145   508.006   2447.4   \n",
       "25   1965.0      2.0   3563.960    2213.0   429.119   508.931   2474.5   \n",
       "26   1965.0      3.0   3636.285    2251.0   444.444   529.446   2542.6   \n",
       "27   1965.0      4.0   3724.014    2314.3   446.493   544.121   2594.1   \n",
       "28   1966.0      1.0   3815.423    2348.5   484.244   556.593   2618.4   \n",
       "29   1966.0      2.0   3828.124    2354.5   475.408   571.371   2624.7   \n",
       "..      ...      ...        ...       ...       ...       ...      ...   \n",
       "173  2002.0      2.0  11538.770    7997.8  1810.779   774.408   8658.9   \n",
       "174  2002.0      3.0  11596.430    8052.0  1814.531   786.673   8629.2   \n",
       "175  2002.0      4.0  11598.824    8080.6  1813.219   799.967   8649.6   \n",
       "176  2003.0      1.0  11645.819    8122.3  1813.141   800.196   8681.3   \n",
       "177  2003.0      2.0  11738.706    8197.8  1823.698   838.775   8812.5   \n",
       "178  2003.0      3.0  11935.461    8312.1  1889.883   839.598   8935.4   \n",
       "179  2003.0      4.0  12042.817    8358.0  1959.783   845.722   8986.4   \n",
       "180  2004.0      1.0  12127.623    8437.6  1970.015   856.570   9025.9   \n",
       "181  2004.0      2.0  12213.818    8483.2  2055.580   861.440   9115.0   \n",
       "182  2004.0      3.0  12303.533    8555.8  2082.231   876.385   9175.9   \n",
       "183  2004.0      4.0  12410.282    8654.2  2125.152   865.596   9303.4   \n",
       "184  2005.0      1.0  12534.113    8719.0  2170.299   869.204   9189.6   \n",
       "185  2005.0      2.0  12587.535    8802.9  2131.468   870.044   9253.0   \n",
       "186  2005.0      3.0  12683.153    8865.6  2154.949   890.394   9308.0   \n",
       "187  2005.0      4.0  12748.699    8888.5  2232.193   875.557   9358.7   \n",
       "188  2006.0      1.0  12915.938    8986.6  2264.721   900.511   9533.8   \n",
       "189  2006.0      2.0  12962.462    9035.0  2261.247   892.839   9617.3   \n",
       "190  2006.0      3.0  12965.916    9090.7  2229.636   892.002   9662.5   \n",
       "191  2006.0      4.0  13060.679    9181.6  2165.966   894.404   9788.8   \n",
       "192  2007.0      1.0  13099.901    9265.1  2132.609   882.766   9830.2   \n",
       "193  2007.0      2.0  13203.977    9291.5  2162.214   898.713   9842.7   \n",
       "194  2007.0      3.0  13321.109    9335.6  2166.491   918.983   9883.9   \n",
       "195  2007.0      4.0  13391.249    9363.6  2123.426   925.110   9886.2   \n",
       "196  2008.0      1.0  13366.865    9349.6  2082.886   943.372   9826.8   \n",
       "197  2008.0      2.0  13415.266    9351.0  2026.518   961.280  10059.0   \n",
       "198  2008.0      3.0  13324.600    9267.7  1990.693   991.551   9838.3   \n",
       "199  2008.0      4.0  13141.920    9195.3  1857.661  1007.273   9920.4   \n",
       "200  2009.0      1.0  12925.410    9209.2  1558.494   996.287   9926.4   \n",
       "201  2009.0      2.0  12901.504    9189.0  1456.678  1023.528  10077.5   \n",
       "202  2009.0      3.0  12990.341    9256.0  1486.398  1044.088  10040.6   \n",
       "\n",
       "         cpi      m1  tbilrate  unemp      pop  infl  realint  \n",
       "0     28.980   139.7      2.82    5.8  177.146  0.00     0.00  \n",
       "1     29.150   141.7      3.08    5.1  177.830  2.34     0.74  \n",
       "2     29.350   140.5      3.82    5.3  178.657  2.74     1.09  \n",
       "3     29.370   140.0      4.33    5.6  179.386  0.27     4.06  \n",
       "4     29.540   139.6      3.50    5.2  180.007  2.31     1.19  \n",
       "5     29.550   140.2      2.68    5.2  180.671  0.14     2.55  \n",
       "6     29.750   140.9      2.36    5.6  181.528  2.70    -0.34  \n",
       "7     29.840   141.1      2.29    6.3  182.287  1.21     1.08  \n",
       "8     29.810   142.1      2.37    6.8  182.992 -0.40     2.77  \n",
       "9     29.920   142.9      2.29    7.0  183.691  1.47     0.81  \n",
       "10    29.980   144.1      2.32    6.8  184.524  0.80     1.52  \n",
       "11    30.040   145.2      2.60    6.2  185.242  0.80     1.80  \n",
       "12    30.210   146.4      2.73    5.6  185.874  2.26     0.47  \n",
       "13    30.220   146.5      2.78    5.5  186.538  0.13     2.65  \n",
       "14    30.380   146.7      2.78    5.6  187.323  2.11     0.67  \n",
       "15    30.440   148.3      2.87    5.5  188.013  0.79     2.08  \n",
       "16    30.480   149.7      2.90    5.8  188.580  0.53     2.38  \n",
       "17    30.690   151.3      3.03    5.7  189.242  2.75     0.29  \n",
       "18    30.750   152.6      3.38    5.5  190.028  0.78     2.60  \n",
       "19    30.940   153.7      3.52    5.6  190.668  2.46     1.06  \n",
       "20    30.950   154.8      3.51    5.5  191.245  0.13     3.38  \n",
       "21    31.020   156.8      3.47    5.2  191.889  0.90     2.57  \n",
       "22    31.120   159.2      3.53    5.0  192.631  1.29     2.25  \n",
       "23    31.280   160.7      3.76    5.0  193.223  2.05     1.71  \n",
       "24    31.380   162.0      3.93    4.9  193.709  1.28     2.65  \n",
       "25    31.580   163.1      3.84    4.7  194.303  2.54     1.30  \n",
       "26    31.650   166.0      3.93    4.4  194.997  0.89     3.04  \n",
       "27    31.880   169.1      4.35    4.1  195.539  2.90     1.46  \n",
       "28    32.280   171.8      4.62    3.9  195.999  4.99    -0.37  \n",
       "29    32.450   170.3      4.65    3.8  196.560  2.10     2.55  \n",
       "..       ...     ...       ...    ...      ...   ...      ...  \n",
       "173  180.000  1199.5      1.70    5.8  288.028  1.56     0.14  \n",
       "174  181.200  1204.0      1.61    5.7  288.783  2.66    -1.05  \n",
       "175  182.600  1226.8      1.20    5.8  289.421  3.08    -1.88  \n",
       "176  183.200  1248.4      1.14    5.9  290.019  1.31    -0.17  \n",
       "177  183.700  1287.9      0.96    6.2  290.704  1.09    -0.13  \n",
       "178  184.900  1297.3      0.94    6.1  291.449  2.60    -1.67  \n",
       "179  186.300  1306.1      0.90    5.8  292.057  3.02    -2.11  \n",
       "180  187.400  1332.1      0.94    5.7  292.635  2.35    -1.42  \n",
       "181  189.100  1340.5      1.21    5.6  293.310  3.61    -2.41  \n",
       "182  190.800  1361.0      1.63    5.4  294.066  3.58    -1.95  \n",
       "183  191.800  1366.6      2.20    5.4  294.741  2.09     0.11  \n",
       "184  193.800  1357.8      2.69    5.3  295.308  4.15    -1.46  \n",
       "185  194.700  1366.6      3.01    5.1  295.994  1.85     1.16  \n",
       "186  199.200  1375.0      3.52    5.0  296.770  9.14    -5.62  \n",
       "187  199.400  1380.6      4.00    4.9  297.435  0.40     3.60  \n",
       "188  200.700  1380.5      4.51    4.7  298.061  2.60     1.91  \n",
       "189  202.700  1369.2      4.82    4.7  298.766  3.97     0.85  \n",
       "190  201.900  1369.4      4.90    4.7  299.593 -1.58     6.48  \n",
       "191  203.574  1373.6      4.92    4.4  300.320  3.30     1.62  \n",
       "192  205.920  1379.7      4.95    4.5  300.977  4.58     0.36  \n",
       "193  207.338  1370.0      4.72    4.5  301.714  2.75     1.97  \n",
       "194  209.133  1379.2      4.00    4.7  302.509  3.45     0.55  \n",
       "195  212.495  1377.4      3.01    4.8  303.204  6.38    -3.37  \n",
       "196  213.997  1384.0      1.56    4.9  303.803  2.82    -1.26  \n",
       "197  218.610  1409.3      1.74    5.4  304.483  8.53    -6.79  \n",
       "198  216.889  1474.7      1.17    6.0  305.270 -3.16     4.33  \n",
       "199  212.174  1576.5      0.12    6.9  305.952 -8.79     8.91  \n",
       "200  212.671  1592.8      0.22    8.1  306.547  0.94    -0.71  \n",
       "201  214.469  1653.6      0.18    9.2  307.226  3.37    -3.19  \n",
       "202  216.385  1673.9      0.12    9.6  308.013  3.56    -3.44  \n",
       "\n",
       "[203 rows x 14 columns]"
      ]
     },
     "execution_count": 64,
     "metadata": {},
     "output_type": "execute_result"
    }
   ],
   "source": [
    "data"
   ]
  },
  {
   "cell_type": "code",
   "execution_count": 65,
   "metadata": {
    "collapsed": true
   },
   "outputs": [],
   "source": [
    "periods = pd.PeriodIndex(year=data.year, quarter=data.quarter, name='date')"
   ]
  },
  {
   "cell_type": "code",
   "execution_count": 66,
   "metadata": {
    "collapsed": false
   },
   "outputs": [
    {
     "data": {
      "text/plain": [
       "PeriodIndex(['1959Q1', '1959Q2', '1959Q3', '1959Q4', '1960Q1', '1960Q2',\n",
       "             '1960Q3', '1960Q4', '1961Q1', '1961Q2',\n",
       "             ...\n",
       "             '2007Q2', '2007Q3', '2007Q4', '2008Q1', '2008Q2', '2008Q3',\n",
       "             '2008Q4', '2009Q1', '2009Q2', '2009Q3'],\n",
       "            dtype='int64', name=u'date', length=203, freq='Q-DEC')"
      ]
     },
     "execution_count": 66,
     "metadata": {},
     "output_type": "execute_result"
    }
   ],
   "source": [
    "periods"
   ]
  },
  {
   "cell_type": "code",
   "execution_count": 67,
   "metadata": {
    "collapsed": true
   },
   "outputs": [],
   "source": [
    "data = DataFrame(data.to_records(),\n",
    "                 columns=pd.Index(['realgdp', 'infl', 'unemp'], name='item'),\n",
    "                 index=periods.to_timestamp('D', 'end'))"
   ]
  },
  {
   "cell_type": "code",
   "execution_count": 68,
   "metadata": {
    "collapsed": true
   },
   "outputs": [],
   "source": [
    "ldata = data.stack().reset_index().rename(columns={0: 'value'})"
   ]
  },
  {
   "cell_type": "code",
   "execution_count": 69,
   "metadata": {
    "collapsed": true
   },
   "outputs": [],
   "source": [
    "wdata = ldata.pivot('date', 'item', 'value')"
   ]
  },
  {
   "cell_type": "code",
   "execution_count": 70,
   "metadata": {
    "collapsed": false
   },
   "outputs": [
    {
     "data": {
      "text/html": [
       "<div>\n",
       "<table border=\"1\" class=\"dataframe\">\n",
       "  <thead>\n",
       "    <tr style=\"text-align: right;\">\n",
       "      <th></th>\n",
       "      <th>date</th>\n",
       "      <th>item</th>\n",
       "      <th>value</th>\n",
       "    </tr>\n",
       "  </thead>\n",
       "  <tbody>\n",
       "    <tr>\n",
       "      <th>0</th>\n",
       "      <td>1959-03-31</td>\n",
       "      <td>realgdp</td>\n",
       "      <td>2710.349</td>\n",
       "    </tr>\n",
       "    <tr>\n",
       "      <th>1</th>\n",
       "      <td>1959-03-31</td>\n",
       "      <td>infl</td>\n",
       "      <td>0.000</td>\n",
       "    </tr>\n",
       "    <tr>\n",
       "      <th>2</th>\n",
       "      <td>1959-03-31</td>\n",
       "      <td>unemp</td>\n",
       "      <td>5.800</td>\n",
       "    </tr>\n",
       "    <tr>\n",
       "      <th>3</th>\n",
       "      <td>1959-06-30</td>\n",
       "      <td>realgdp</td>\n",
       "      <td>2778.801</td>\n",
       "    </tr>\n",
       "    <tr>\n",
       "      <th>4</th>\n",
       "      <td>1959-06-30</td>\n",
       "      <td>infl</td>\n",
       "      <td>2.340</td>\n",
       "    </tr>\n",
       "    <tr>\n",
       "      <th>5</th>\n",
       "      <td>1959-06-30</td>\n",
       "      <td>unemp</td>\n",
       "      <td>5.100</td>\n",
       "    </tr>\n",
       "    <tr>\n",
       "      <th>6</th>\n",
       "      <td>1959-09-30</td>\n",
       "      <td>realgdp</td>\n",
       "      <td>2775.488</td>\n",
       "    </tr>\n",
       "    <tr>\n",
       "      <th>7</th>\n",
       "      <td>1959-09-30</td>\n",
       "      <td>infl</td>\n",
       "      <td>2.740</td>\n",
       "    </tr>\n",
       "    <tr>\n",
       "      <th>8</th>\n",
       "      <td>1959-09-30</td>\n",
       "      <td>unemp</td>\n",
       "      <td>5.300</td>\n",
       "    </tr>\n",
       "    <tr>\n",
       "      <th>9</th>\n",
       "      <td>1959-12-31</td>\n",
       "      <td>realgdp</td>\n",
       "      <td>2785.204</td>\n",
       "    </tr>\n",
       "  </tbody>\n",
       "</table>\n",
       "</div>"
      ],
      "text/plain": [
       "        date     item     value\n",
       "0 1959-03-31  realgdp  2710.349\n",
       "1 1959-03-31     infl     0.000\n",
       "2 1959-03-31    unemp     5.800\n",
       "3 1959-06-30  realgdp  2778.801\n",
       "4 1959-06-30     infl     2.340\n",
       "5 1959-06-30    unemp     5.100\n",
       "6 1959-09-30  realgdp  2775.488\n",
       "7 1959-09-30     infl     2.740\n",
       "8 1959-09-30    unemp     5.300\n",
       "9 1959-12-31  realgdp  2785.204"
      ]
     },
     "execution_count": 70,
     "metadata": {},
     "output_type": "execute_result"
    }
   ],
   "source": [
    "ldata[:10]"
   ]
  },
  {
   "cell_type": "code",
   "execution_count": 71,
   "metadata": {
    "collapsed": true
   },
   "outputs": [],
   "source": [
    "pivoted = ldata.pivot('date','item','value')"
   ]
  },
  {
   "cell_type": "code",
   "execution_count": 72,
   "metadata": {
    "collapsed": false
   },
   "outputs": [
    {
     "data": {
      "text/plain": [
       "DatetimeIndex(['1959-03-31', '1959-06-30', '1959-09-30', '1959-12-31',\n",
       "               '1960-03-31', '1960-06-30', '1960-09-30', '1960-12-31',\n",
       "               '1961-03-31', '1961-06-30',\n",
       "               ...\n",
       "               '2007-06-30', '2007-09-30', '2007-12-31', '2008-03-31',\n",
       "               '2008-06-30', '2008-09-30', '2008-12-31', '2009-03-31',\n",
       "               '2009-06-30', '2009-09-30'],\n",
       "              dtype='datetime64[ns]', name=u'date', length=203, freq=None)"
      ]
     },
     "execution_count": 72,
     "metadata": {},
     "output_type": "execute_result"
    }
   ],
   "source": [
    "pivoted.index"
   ]
  },
  {
   "cell_type": "code",
   "execution_count": 73,
   "metadata": {
    "collapsed": false
   },
   "outputs": [
    {
     "data": {
      "text/html": [
       "<div>\n",
       "<table border=\"1\" class=\"dataframe\">\n",
       "  <thead>\n",
       "    <tr style=\"text-align: right;\">\n",
       "      <th>item</th>\n",
       "      <th>infl</th>\n",
       "      <th>realgdp</th>\n",
       "      <th>unemp</th>\n",
       "    </tr>\n",
       "    <tr>\n",
       "      <th>date</th>\n",
       "      <th></th>\n",
       "      <th></th>\n",
       "      <th></th>\n",
       "    </tr>\n",
       "  </thead>\n",
       "  <tbody>\n",
       "    <tr>\n",
       "      <th>1959-03-31</th>\n",
       "      <td>0.00</td>\n",
       "      <td>2710.349</td>\n",
       "      <td>5.8</td>\n",
       "    </tr>\n",
       "    <tr>\n",
       "      <th>1959-06-30</th>\n",
       "      <td>2.34</td>\n",
       "      <td>2778.801</td>\n",
       "      <td>5.1</td>\n",
       "    </tr>\n",
       "    <tr>\n",
       "      <th>1959-09-30</th>\n",
       "      <td>2.74</td>\n",
       "      <td>2775.488</td>\n",
       "      <td>5.3</td>\n",
       "    </tr>\n",
       "    <tr>\n",
       "      <th>1959-12-31</th>\n",
       "      <td>0.27</td>\n",
       "      <td>2785.204</td>\n",
       "      <td>5.6</td>\n",
       "    </tr>\n",
       "    <tr>\n",
       "      <th>1960-03-31</th>\n",
       "      <td>2.31</td>\n",
       "      <td>2847.699</td>\n",
       "      <td>5.2</td>\n",
       "    </tr>\n",
       "  </tbody>\n",
       "</table>\n",
       "</div>"
      ],
      "text/plain": [
       "item        infl   realgdp  unemp\n",
       "date                             \n",
       "1959-03-31  0.00  2710.349    5.8\n",
       "1959-06-30  2.34  2778.801    5.1\n",
       "1959-09-30  2.74  2775.488    5.3\n",
       "1959-12-31  0.27  2785.204    5.6\n",
       "1960-03-31  2.31  2847.699    5.2"
      ]
     },
     "execution_count": 73,
     "metadata": {},
     "output_type": "execute_result"
    }
   ],
   "source": [
    "pivoted.head()"
   ]
  },
  {
   "cell_type": "code",
   "execution_count": 74,
   "metadata": {
    "collapsed": true
   },
   "outputs": [],
   "source": [
    "ldata['value2'] = np.random.randn(len(ldata))"
   ]
  },
  {
   "cell_type": "code",
   "execution_count": 75,
   "metadata": {
    "collapsed": false
   },
   "outputs": [
    {
     "data": {
      "text/html": [
       "<div>\n",
       "<table border=\"1\" class=\"dataframe\">\n",
       "  <thead>\n",
       "    <tr style=\"text-align: right;\">\n",
       "      <th></th>\n",
       "      <th>date</th>\n",
       "      <th>item</th>\n",
       "      <th>value</th>\n",
       "      <th>value2</th>\n",
       "    </tr>\n",
       "  </thead>\n",
       "  <tbody>\n",
       "    <tr>\n",
       "      <th>0</th>\n",
       "      <td>1959-03-31</td>\n",
       "      <td>realgdp</td>\n",
       "      <td>2710.349</td>\n",
       "      <td>-2.283128</td>\n",
       "    </tr>\n",
       "    <tr>\n",
       "      <th>1</th>\n",
       "      <td>1959-03-31</td>\n",
       "      <td>infl</td>\n",
       "      <td>0.000</td>\n",
       "      <td>-0.167629</td>\n",
       "    </tr>\n",
       "    <tr>\n",
       "      <th>2</th>\n",
       "      <td>1959-03-31</td>\n",
       "      <td>unemp</td>\n",
       "      <td>5.800</td>\n",
       "      <td>1.032926</td>\n",
       "    </tr>\n",
       "    <tr>\n",
       "      <th>3</th>\n",
       "      <td>1959-06-30</td>\n",
       "      <td>realgdp</td>\n",
       "      <td>2778.801</td>\n",
       "      <td>-0.587480</td>\n",
       "    </tr>\n",
       "    <tr>\n",
       "      <th>4</th>\n",
       "      <td>1959-06-30</td>\n",
       "      <td>infl</td>\n",
       "      <td>2.340</td>\n",
       "      <td>1.147948</td>\n",
       "    </tr>\n",
       "    <tr>\n",
       "      <th>5</th>\n",
       "      <td>1959-06-30</td>\n",
       "      <td>unemp</td>\n",
       "      <td>5.100</td>\n",
       "      <td>0.333830</td>\n",
       "    </tr>\n",
       "    <tr>\n",
       "      <th>6</th>\n",
       "      <td>1959-09-30</td>\n",
       "      <td>realgdp</td>\n",
       "      <td>2775.488</td>\n",
       "      <td>-1.026508</td>\n",
       "    </tr>\n",
       "    <tr>\n",
       "      <th>7</th>\n",
       "      <td>1959-09-30</td>\n",
       "      <td>infl</td>\n",
       "      <td>2.740</td>\n",
       "      <td>0.126256</td>\n",
       "    </tr>\n",
       "    <tr>\n",
       "      <th>8</th>\n",
       "      <td>1959-09-30</td>\n",
       "      <td>unemp</td>\n",
       "      <td>5.300</td>\n",
       "      <td>-0.856848</td>\n",
       "    </tr>\n",
       "    <tr>\n",
       "      <th>9</th>\n",
       "      <td>1959-12-31</td>\n",
       "      <td>realgdp</td>\n",
       "      <td>2785.204</td>\n",
       "      <td>0.260955</td>\n",
       "    </tr>\n",
       "  </tbody>\n",
       "</table>\n",
       "</div>"
      ],
      "text/plain": [
       "        date     item     value    value2\n",
       "0 1959-03-31  realgdp  2710.349 -2.283128\n",
       "1 1959-03-31     infl     0.000 -0.167629\n",
       "2 1959-03-31    unemp     5.800  1.032926\n",
       "3 1959-06-30  realgdp  2778.801 -0.587480\n",
       "4 1959-06-30     infl     2.340  1.147948\n",
       "5 1959-06-30    unemp     5.100  0.333830\n",
       "6 1959-09-30  realgdp  2775.488 -1.026508\n",
       "7 1959-09-30     infl     2.740  0.126256\n",
       "8 1959-09-30    unemp     5.300 -0.856848\n",
       "9 1959-12-31  realgdp  2785.204  0.260955"
      ]
     },
     "execution_count": 75,
     "metadata": {},
     "output_type": "execute_result"
    }
   ],
   "source": [
    "ldata[:10]"
   ]
  },
  {
   "cell_type": "markdown",
   "metadata": {
    "collapsed": true
   },
   "source": [
    "Data Transformation\n",
    "--"
   ]
  },
  {
   "cell_type": "code",
   "execution_count": 77,
   "metadata": {
    "collapsed": false
   },
   "outputs": [],
   "source": [
    "data = DataFrame({'k1':['one']*3 + ['two']*4,'k2':[1,1,2,3,3,4,4]})"
   ]
  },
  {
   "cell_type": "code",
   "execution_count": 78,
   "metadata": {
    "collapsed": false
   },
   "outputs": [
    {
     "data": {
      "text/html": [
       "<div>\n",
       "<table border=\"1\" class=\"dataframe\">\n",
       "  <thead>\n",
       "    <tr style=\"text-align: right;\">\n",
       "      <th></th>\n",
       "      <th>k1</th>\n",
       "      <th>k2</th>\n",
       "    </tr>\n",
       "  </thead>\n",
       "  <tbody>\n",
       "    <tr>\n",
       "      <th>0</th>\n",
       "      <td>one</td>\n",
       "      <td>1</td>\n",
       "    </tr>\n",
       "    <tr>\n",
       "      <th>1</th>\n",
       "      <td>one</td>\n",
       "      <td>1</td>\n",
       "    </tr>\n",
       "    <tr>\n",
       "      <th>2</th>\n",
       "      <td>one</td>\n",
       "      <td>2</td>\n",
       "    </tr>\n",
       "    <tr>\n",
       "      <th>3</th>\n",
       "      <td>two</td>\n",
       "      <td>3</td>\n",
       "    </tr>\n",
       "    <tr>\n",
       "      <th>4</th>\n",
       "      <td>two</td>\n",
       "      <td>3</td>\n",
       "    </tr>\n",
       "    <tr>\n",
       "      <th>5</th>\n",
       "      <td>two</td>\n",
       "      <td>4</td>\n",
       "    </tr>\n",
       "    <tr>\n",
       "      <th>6</th>\n",
       "      <td>two</td>\n",
       "      <td>4</td>\n",
       "    </tr>\n",
       "  </tbody>\n",
       "</table>\n",
       "</div>"
      ],
      "text/plain": [
       "    k1  k2\n",
       "0  one   1\n",
       "1  one   1\n",
       "2  one   2\n",
       "3  two   3\n",
       "4  two   3\n",
       "5  two   4\n",
       "6  two   4"
      ]
     },
     "execution_count": 78,
     "metadata": {},
     "output_type": "execute_result"
    }
   ],
   "source": [
    "data"
   ]
  },
  {
   "cell_type": "code",
   "execution_count": 79,
   "metadata": {
    "collapsed": false
   },
   "outputs": [
    {
     "data": {
      "text/plain": [
       "0    False\n",
       "1     True\n",
       "2    False\n",
       "3    False\n",
       "4     True\n",
       "5    False\n",
       "6     True\n",
       "dtype: bool"
      ]
     },
     "execution_count": 79,
     "metadata": {},
     "output_type": "execute_result"
    }
   ],
   "source": [
    "data.duplicated()"
   ]
  },
  {
   "cell_type": "code",
   "execution_count": 92,
   "metadata": {
    "collapsed": false
   },
   "outputs": [
    {
     "data": {
      "text/html": [
       "<div>\n",
       "<table border=\"1\" class=\"dataframe\">\n",
       "  <thead>\n",
       "    <tr style=\"text-align: right;\">\n",
       "      <th></th>\n",
       "      <th>k1</th>\n",
       "      <th>k2</th>\n",
       "    </tr>\n",
       "  </thead>\n",
       "  <tbody>\n",
       "    <tr>\n",
       "      <th>0</th>\n",
       "      <td>one</td>\n",
       "      <td>1</td>\n",
       "    </tr>\n",
       "    <tr>\n",
       "      <th>2</th>\n",
       "      <td>one</td>\n",
       "      <td>2</td>\n",
       "    </tr>\n",
       "    <tr>\n",
       "      <th>3</th>\n",
       "      <td>two</td>\n",
       "      <td>3</td>\n",
       "    </tr>\n",
       "    <tr>\n",
       "      <th>5</th>\n",
       "      <td>two</td>\n",
       "      <td>4</td>\n",
       "    </tr>\n",
       "  </tbody>\n",
       "</table>\n",
       "</div>"
      ],
      "text/plain": [
       "    k1  k2\n",
       "0  one   1\n",
       "2  one   2\n",
       "3  two   3\n",
       "5  two   4"
      ]
     },
     "execution_count": 92,
     "metadata": {},
     "output_type": "execute_result"
    }
   ],
   "source": [
    "data.drop_duplicates()"
   ]
  },
  {
   "cell_type": "code",
   "execution_count": 93,
   "metadata": {
    "collapsed": false
   },
   "outputs": [
    {
     "data": {
      "text/html": [
       "<div>\n",
       "<table border=\"1\" class=\"dataframe\">\n",
       "  <thead>\n",
       "    <tr style=\"text-align: right;\">\n",
       "      <th></th>\n",
       "      <th>k1</th>\n",
       "      <th>k2</th>\n",
       "    </tr>\n",
       "  </thead>\n",
       "  <tbody>\n",
       "    <tr>\n",
       "      <th>0</th>\n",
       "      <td>one</td>\n",
       "      <td>1</td>\n",
       "    </tr>\n",
       "    <tr>\n",
       "      <th>3</th>\n",
       "      <td>two</td>\n",
       "      <td>3</td>\n",
       "    </tr>\n",
       "  </tbody>\n",
       "</table>\n",
       "</div>"
      ],
      "text/plain": [
       "    k1  k2\n",
       "0  one   1\n",
       "3  two   3"
      ]
     },
     "execution_count": 93,
     "metadata": {},
     "output_type": "execute_result"
    }
   ],
   "source": [
    "data.drop_duplicates(['k1'])"
   ]
  },
  {
   "cell_type": "code",
   "execution_count": 93,
   "metadata": {
    "collapsed": true
   },
   "outputs": [],
   "source": [
    "data = DataFrame({'food':['bacon','pulled pork','bacon','Pastrami','corned beef','Bacon','pastrami','honey ham','nova lox'],'ounce':[4,3,12,6,7.5,8,3,5,6]})"
   ]
  },
  {
   "cell_type": "code",
   "execution_count": 94,
   "metadata": {
    "collapsed": false
   },
   "outputs": [
    {
     "data": {
      "text/html": [
       "<div>\n",
       "<table border=\"1\" class=\"dataframe\">\n",
       "  <thead>\n",
       "    <tr style=\"text-align: right;\">\n",
       "      <th></th>\n",
       "      <th>food</th>\n",
       "      <th>ounce</th>\n",
       "    </tr>\n",
       "  </thead>\n",
       "  <tbody>\n",
       "    <tr>\n",
       "      <th>0</th>\n",
       "      <td>bacon</td>\n",
       "      <td>4.0</td>\n",
       "    </tr>\n",
       "    <tr>\n",
       "      <th>1</th>\n",
       "      <td>pulled pork</td>\n",
       "      <td>3.0</td>\n",
       "    </tr>\n",
       "    <tr>\n",
       "      <th>2</th>\n",
       "      <td>bacon</td>\n",
       "      <td>12.0</td>\n",
       "    </tr>\n",
       "    <tr>\n",
       "      <th>3</th>\n",
       "      <td>Pastrami</td>\n",
       "      <td>6.0</td>\n",
       "    </tr>\n",
       "    <tr>\n",
       "      <th>4</th>\n",
       "      <td>corned beef</td>\n",
       "      <td>7.5</td>\n",
       "    </tr>\n",
       "    <tr>\n",
       "      <th>5</th>\n",
       "      <td>Bacon</td>\n",
       "      <td>8.0</td>\n",
       "    </tr>\n",
       "    <tr>\n",
       "      <th>6</th>\n",
       "      <td>pastrami</td>\n",
       "      <td>3.0</td>\n",
       "    </tr>\n",
       "    <tr>\n",
       "      <th>7</th>\n",
       "      <td>honey ham</td>\n",
       "      <td>5.0</td>\n",
       "    </tr>\n",
       "    <tr>\n",
       "      <th>8</th>\n",
       "      <td>nova lox</td>\n",
       "      <td>6.0</td>\n",
       "    </tr>\n",
       "  </tbody>\n",
       "</table>\n",
       "</div>"
      ],
      "text/plain": [
       "          food  ounce\n",
       "0        bacon    4.0\n",
       "1  pulled pork    3.0\n",
       "2        bacon   12.0\n",
       "3     Pastrami    6.0\n",
       "4  corned beef    7.5\n",
       "5        Bacon    8.0\n",
       "6     pastrami    3.0\n",
       "7    honey ham    5.0\n",
       "8     nova lox    6.0"
      ]
     },
     "execution_count": 94,
     "metadata": {},
     "output_type": "execute_result"
    }
   ],
   "source": [
    "data"
   ]
  },
  {
   "cell_type": "code",
   "execution_count": 95,
   "metadata": {
    "collapsed": true
   },
   "outputs": [],
   "source": [
    "meat_to_animal = {'bacon': 'pig','pulled pork': 'pig','pastrami': 'cow','corned beef': 'cow','honey ham': 'pig','nova lox': 'salmon'}"
   ]
  },
  {
   "cell_type": "code",
   "execution_count": 96,
   "metadata": {
    "collapsed": true
   },
   "outputs": [],
   "source": [
    "data['animal'] = data['food'].map(str.lower).map(meat_to_animal)"
   ]
  },
  {
   "cell_type": "code",
   "execution_count": 97,
   "metadata": {
    "collapsed": false
   },
   "outputs": [
    {
     "data": {
      "text/html": [
       "<div>\n",
       "<table border=\"1\" class=\"dataframe\">\n",
       "  <thead>\n",
       "    <tr style=\"text-align: right;\">\n",
       "      <th></th>\n",
       "      <th>food</th>\n",
       "      <th>ounce</th>\n",
       "      <th>animal</th>\n",
       "    </tr>\n",
       "  </thead>\n",
       "  <tbody>\n",
       "    <tr>\n",
       "      <th>0</th>\n",
       "      <td>bacon</td>\n",
       "      <td>4.0</td>\n",
       "      <td>pig</td>\n",
       "    </tr>\n",
       "    <tr>\n",
       "      <th>1</th>\n",
       "      <td>pulled pork</td>\n",
       "      <td>3.0</td>\n",
       "      <td>pig</td>\n",
       "    </tr>\n",
       "    <tr>\n",
       "      <th>2</th>\n",
       "      <td>bacon</td>\n",
       "      <td>12.0</td>\n",
       "      <td>pig</td>\n",
       "    </tr>\n",
       "    <tr>\n",
       "      <th>3</th>\n",
       "      <td>Pastrami</td>\n",
       "      <td>6.0</td>\n",
       "      <td>cow</td>\n",
       "    </tr>\n",
       "    <tr>\n",
       "      <th>4</th>\n",
       "      <td>corned beef</td>\n",
       "      <td>7.5</td>\n",
       "      <td>cow</td>\n",
       "    </tr>\n",
       "    <tr>\n",
       "      <th>5</th>\n",
       "      <td>Bacon</td>\n",
       "      <td>8.0</td>\n",
       "      <td>pig</td>\n",
       "    </tr>\n",
       "    <tr>\n",
       "      <th>6</th>\n",
       "      <td>pastrami</td>\n",
       "      <td>3.0</td>\n",
       "      <td>cow</td>\n",
       "    </tr>\n",
       "    <tr>\n",
       "      <th>7</th>\n",
       "      <td>honey ham</td>\n",
       "      <td>5.0</td>\n",
       "      <td>pig</td>\n",
       "    </tr>\n",
       "    <tr>\n",
       "      <th>8</th>\n",
       "      <td>nova lox</td>\n",
       "      <td>6.0</td>\n",
       "      <td>salmon</td>\n",
       "    </tr>\n",
       "  </tbody>\n",
       "</table>\n",
       "</div>"
      ],
      "text/plain": [
       "          food  ounce  animal\n",
       "0        bacon    4.0     pig\n",
       "1  pulled pork    3.0     pig\n",
       "2        bacon   12.0     pig\n",
       "3     Pastrami    6.0     cow\n",
       "4  corned beef    7.5     cow\n",
       "5        Bacon    8.0     pig\n",
       "6     pastrami    3.0     cow\n",
       "7    honey ham    5.0     pig\n",
       "8     nova lox    6.0  salmon"
      ]
     },
     "execution_count": 97,
     "metadata": {},
     "output_type": "execute_result"
    }
   ],
   "source": [
    "data"
   ]
  },
  {
   "cell_type": "code",
   "execution_count": 98,
   "metadata": {
    "collapsed": false
   },
   "outputs": [
    {
     "data": {
      "text/plain": [
       "0       pig\n",
       "1       pig\n",
       "2       pig\n",
       "3       cow\n",
       "4       cow\n",
       "5       pig\n",
       "6       cow\n",
       "7       pig\n",
       "8    salmon\n",
       "Name: food, dtype: object"
      ]
     },
     "execution_count": 98,
     "metadata": {},
     "output_type": "execute_result"
    }
   ],
   "source": [
    "data['food'].map(lambda x: meat_to_animal[x.lower()])"
   ]
  },
  {
   "cell_type": "code",
   "execution_count": 99,
   "metadata": {
    "collapsed": true
   },
   "outputs": [],
   "source": [
    "data = Series([1.,-999.,2.,-999.,-1000.,3.])"
   ]
  },
  {
   "cell_type": "code",
   "execution_count": 100,
   "metadata": {
    "collapsed": false
   },
   "outputs": [
    {
     "data": {
      "text/plain": [
       "0       1.0\n",
       "1    -999.0\n",
       "2       2.0\n",
       "3    -999.0\n",
       "4   -1000.0\n",
       "5       3.0\n",
       "dtype: float64"
      ]
     },
     "execution_count": 100,
     "metadata": {},
     "output_type": "execute_result"
    }
   ],
   "source": [
    "data"
   ]
  },
  {
   "cell_type": "code",
   "execution_count": 101,
   "metadata": {
    "collapsed": false
   },
   "outputs": [
    {
     "data": {
      "text/plain": [
       "0       1.0\n",
       "1       NaN\n",
       "2       2.0\n",
       "3       NaN\n",
       "4   -1000.0\n",
       "5       3.0\n",
       "dtype: float64"
      ]
     },
     "execution_count": 101,
     "metadata": {},
     "output_type": "execute_result"
    }
   ],
   "source": [
    "data.replace(-999,np.nan)"
   ]
  },
  {
   "cell_type": "code",
   "execution_count": 102,
   "metadata": {
    "collapsed": false
   },
   "outputs": [
    {
     "data": {
      "text/plain": [
       "0    1.0\n",
       "1    NaN\n",
       "2    2.0\n",
       "3    NaN\n",
       "4    NaN\n",
       "5    3.0\n",
       "dtype: float64"
      ]
     },
     "execution_count": 102,
     "metadata": {},
     "output_type": "execute_result"
    }
   ],
   "source": [
    "data.replace([-999,-1000],np.nan)"
   ]
  },
  {
   "cell_type": "code",
   "execution_count": 103,
   "metadata": {
    "collapsed": false
   },
   "outputs": [
    {
     "data": {
      "text/plain": [
       "0    1.0\n",
       "1    NaN\n",
       "2    2.0\n",
       "3    NaN\n",
       "4    0.0\n",
       "5    3.0\n",
       "dtype: float64"
      ]
     },
     "execution_count": 103,
     "metadata": {},
     "output_type": "execute_result"
    }
   ],
   "source": [
    "data.replace({-999:np.nan,-1000:0})"
   ]
  },
  {
   "cell_type": "code",
   "execution_count": 125,
   "metadata": {
    "collapsed": true
   },
   "outputs": [],
   "source": [
    "data = DataFrame(np.arange(12).reshape((3, 4)),index=['Ohio', 'Colorado', 'New York'],columns=['one', 'two', 'three', 'four'])"
   ]
  },
  {
   "cell_type": "code",
   "execution_count": 126,
   "metadata": {
    "collapsed": false
   },
   "outputs": [
    {
     "data": {
      "text/html": [
       "<div>\n",
       "<table border=\"1\" class=\"dataframe\">\n",
       "  <thead>\n",
       "    <tr style=\"text-align: right;\">\n",
       "      <th></th>\n",
       "      <th>one</th>\n",
       "      <th>two</th>\n",
       "      <th>three</th>\n",
       "      <th>four</th>\n",
       "    </tr>\n",
       "  </thead>\n",
       "  <tbody>\n",
       "    <tr>\n",
       "      <th>Ohio</th>\n",
       "      <td>0</td>\n",
       "      <td>1</td>\n",
       "      <td>2</td>\n",
       "      <td>3</td>\n",
       "    </tr>\n",
       "    <tr>\n",
       "      <th>Colorado</th>\n",
       "      <td>4</td>\n",
       "      <td>5</td>\n",
       "      <td>6</td>\n",
       "      <td>7</td>\n",
       "    </tr>\n",
       "    <tr>\n",
       "      <th>New York</th>\n",
       "      <td>8</td>\n",
       "      <td>9</td>\n",
       "      <td>10</td>\n",
       "      <td>11</td>\n",
       "    </tr>\n",
       "  </tbody>\n",
       "</table>\n",
       "</div>"
      ],
      "text/plain": [
       "          one  two  three  four\n",
       "Ohio        0    1      2     3\n",
       "Colorado    4    5      6     7\n",
       "New York    8    9     10    11"
      ]
     },
     "execution_count": 126,
     "metadata": {},
     "output_type": "execute_result"
    }
   ],
   "source": [
    "data"
   ]
  },
  {
   "cell_type": "code",
   "execution_count": 127,
   "metadata": {
    "collapsed": false
   },
   "outputs": [
    {
     "data": {
      "text/plain": [
       "array(['OHIO', 'COLORADO', 'NEW YORK'], dtype=object)"
      ]
     },
     "execution_count": 127,
     "metadata": {},
     "output_type": "execute_result"
    }
   ],
   "source": [
    "data.index.map(str.upper)"
   ]
  },
  {
   "cell_type": "code",
   "execution_count": 128,
   "metadata": {
    "collapsed": true
   },
   "outputs": [],
   "source": [
    "data.index = data.index.map(str.upper)"
   ]
  },
  {
   "cell_type": "code",
   "execution_count": 129,
   "metadata": {
    "collapsed": false
   },
   "outputs": [
    {
     "data": {
      "text/html": [
       "<div>\n",
       "<table border=\"1\" class=\"dataframe\">\n",
       "  <thead>\n",
       "    <tr style=\"text-align: right;\">\n",
       "      <th></th>\n",
       "      <th>one</th>\n",
       "      <th>two</th>\n",
       "      <th>three</th>\n",
       "      <th>four</th>\n",
       "    </tr>\n",
       "  </thead>\n",
       "  <tbody>\n",
       "    <tr>\n",
       "      <th>OHIO</th>\n",
       "      <td>0</td>\n",
       "      <td>1</td>\n",
       "      <td>2</td>\n",
       "      <td>3</td>\n",
       "    </tr>\n",
       "    <tr>\n",
       "      <th>COLORADO</th>\n",
       "      <td>4</td>\n",
       "      <td>5</td>\n",
       "      <td>6</td>\n",
       "      <td>7</td>\n",
       "    </tr>\n",
       "    <tr>\n",
       "      <th>NEW YORK</th>\n",
       "      <td>8</td>\n",
       "      <td>9</td>\n",
       "      <td>10</td>\n",
       "      <td>11</td>\n",
       "    </tr>\n",
       "  </tbody>\n",
       "</table>\n",
       "</div>"
      ],
      "text/plain": [
       "          one  two  three  four\n",
       "OHIO        0    1      2     3\n",
       "COLORADO    4    5      6     7\n",
       "NEW YORK    8    9     10    11"
      ]
     },
     "execution_count": 129,
     "metadata": {},
     "output_type": "execute_result"
    }
   ],
   "source": [
    "data"
   ]
  },
  {
   "cell_type": "code",
   "execution_count": 130,
   "metadata": {
    "collapsed": false
   },
   "outputs": [
    {
     "data": {
      "text/html": [
       "<div>\n",
       "<table border=\"1\" class=\"dataframe\">\n",
       "  <thead>\n",
       "    <tr style=\"text-align: right;\">\n",
       "      <th></th>\n",
       "      <th>ONE</th>\n",
       "      <th>TWO</th>\n",
       "      <th>THREE</th>\n",
       "      <th>FOUR</th>\n",
       "    </tr>\n",
       "  </thead>\n",
       "  <tbody>\n",
       "    <tr>\n",
       "      <th>Ohio</th>\n",
       "      <td>0</td>\n",
       "      <td>1</td>\n",
       "      <td>2</td>\n",
       "      <td>3</td>\n",
       "    </tr>\n",
       "    <tr>\n",
       "      <th>Colorado</th>\n",
       "      <td>4</td>\n",
       "      <td>5</td>\n",
       "      <td>6</td>\n",
       "      <td>7</td>\n",
       "    </tr>\n",
       "    <tr>\n",
       "      <th>New York</th>\n",
       "      <td>8</td>\n",
       "      <td>9</td>\n",
       "      <td>10</td>\n",
       "      <td>11</td>\n",
       "    </tr>\n",
       "  </tbody>\n",
       "</table>\n",
       "</div>"
      ],
      "text/plain": [
       "          ONE  TWO  THREE  FOUR\n",
       "Ohio        0    1      2     3\n",
       "Colorado    4    5      6     7\n",
       "New York    8    9     10    11"
      ]
     },
     "execution_count": 130,
     "metadata": {},
     "output_type": "execute_result"
    }
   ],
   "source": [
    "data.rename(index=str.title,columns=str.upper)"
   ]
  },
  {
   "cell_type": "code",
   "execution_count": 131,
   "metadata": {
    "collapsed": false
   },
   "outputs": [
    {
     "data": {
      "text/html": [
       "<div>\n",
       "<table border=\"1\" class=\"dataframe\">\n",
       "  <thead>\n",
       "    <tr style=\"text-align: right;\">\n",
       "      <th></th>\n",
       "      <th>one</th>\n",
       "      <th>two</th>\n",
       "      <th>peekaboo</th>\n",
       "      <th>four</th>\n",
       "    </tr>\n",
       "  </thead>\n",
       "  <tbody>\n",
       "    <tr>\n",
       "      <th>INDIANA</th>\n",
       "      <td>0</td>\n",
       "      <td>1</td>\n",
       "      <td>2</td>\n",
       "      <td>3</td>\n",
       "    </tr>\n",
       "    <tr>\n",
       "      <th>COLORADO</th>\n",
       "      <td>4</td>\n",
       "      <td>5</td>\n",
       "      <td>6</td>\n",
       "      <td>7</td>\n",
       "    </tr>\n",
       "    <tr>\n",
       "      <th>NEW YORK</th>\n",
       "      <td>8</td>\n",
       "      <td>9</td>\n",
       "      <td>10</td>\n",
       "      <td>11</td>\n",
       "    </tr>\n",
       "  </tbody>\n",
       "</table>\n",
       "</div>"
      ],
      "text/plain": [
       "          one  two  peekaboo  four\n",
       "INDIANA     0    1         2     3\n",
       "COLORADO    4    5         6     7\n",
       "NEW YORK    8    9        10    11"
      ]
     },
     "execution_count": 131,
     "metadata": {},
     "output_type": "execute_result"
    }
   ],
   "source": [
    "data.rename(index={'OHIO':'INDIANA'},columns={'three':'peekaboo'})"
   ]
  },
  {
   "cell_type": "code",
   "execution_count": 132,
   "metadata": {
    "collapsed": true
   },
   "outputs": [],
   "source": [
    "_ = data.rename(index={'OHIO':'INDIANA'},inplace=True)"
   ]
  },
  {
   "cell_type": "code",
   "execution_count": 133,
   "metadata": {
    "collapsed": false
   },
   "outputs": [
    {
     "data": {
      "text/html": [
       "<div>\n",
       "<table border=\"1\" class=\"dataframe\">\n",
       "  <thead>\n",
       "    <tr style=\"text-align: right;\">\n",
       "      <th></th>\n",
       "      <th>one</th>\n",
       "      <th>two</th>\n",
       "      <th>three</th>\n",
       "      <th>four</th>\n",
       "    </tr>\n",
       "  </thead>\n",
       "  <tbody>\n",
       "    <tr>\n",
       "      <th>INDIANA</th>\n",
       "      <td>0</td>\n",
       "      <td>1</td>\n",
       "      <td>2</td>\n",
       "      <td>3</td>\n",
       "    </tr>\n",
       "    <tr>\n",
       "      <th>COLORADO</th>\n",
       "      <td>4</td>\n",
       "      <td>5</td>\n",
       "      <td>6</td>\n",
       "      <td>7</td>\n",
       "    </tr>\n",
       "    <tr>\n",
       "      <th>NEW YORK</th>\n",
       "      <td>8</td>\n",
       "      <td>9</td>\n",
       "      <td>10</td>\n",
       "      <td>11</td>\n",
       "    </tr>\n",
       "  </tbody>\n",
       "</table>\n",
       "</div>"
      ],
      "text/plain": [
       "          one  two  three  four\n",
       "INDIANA     0    1      2     3\n",
       "COLORADO    4    5      6     7\n",
       "NEW YORK    8    9     10    11"
      ]
     },
     "execution_count": 133,
     "metadata": {},
     "output_type": "execute_result"
    }
   ],
   "source": [
    "data"
   ]
  },
  {
   "cell_type": "code",
   "execution_count": null,
   "metadata": {
    "collapsed": true
   },
   "outputs": [],
   "source": []
  }
 ],
 "metadata": {
  "kernelspec": {
   "display_name": "Python 2",
   "language": "python",
   "name": "python2"
  },
  "language_info": {
   "codemirror_mode": {
    "name": "ipython",
    "version": 2
   },
   "file_extension": ".py",
   "mimetype": "text/x-python",
   "name": "python",
   "nbconvert_exporter": "python",
   "pygments_lexer": "ipython2",
   "version": "2.7.11"
  }
 },
 "nbformat": 4,
 "nbformat_minor": 0
}
