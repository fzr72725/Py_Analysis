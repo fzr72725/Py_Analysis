{
 "cells": [
  {
   "cell_type": "markdown",
   "metadata": {},
   "source": [
    "Create a text content analyzer. This is a tool used by writers to find statistics such as word and sentence count on essays or articles they are writing.\n",
    "Write a Python program that analyzes input from a file and compiles statistics on it.\n",
    "The program should output:\n",
    "\n",
    "1. The total word count\n",
    "2. The count of unique words\n",
    "3. The number of sentences\n",
    "Example output:\n",
    "<p>Total word count: 468\n",
    "<p>Unique words: 223\n",
    "<p>Sentences: 38\n",
    "\n",
    "Brownie points will be awarded for the following extras:\n",
    "1. The ability to calculate the average sentence length in words\n",
    "2. The ability to find often used phrases (a phrase of 3 or more words used over 3 times)\n",
    "3. A list of words used, in order of descending frequency\n",
    "4. The ability to accept input from STDIN, or from a file specified on the command line.\n",
    "This question should be written in Python. \n",
    "Please submit a file name q1.py with your code"
   ]
  },
  {
   "cell_type": "code",
   "execution_count": 1,
   "metadata": {
    "collapsed": true
   },
   "outputs": [],
   "source": [
    "# The code is running on python2, if using python3, \"raw_input\" should be \"input\", \"IOError\" should be \"FileNotFoundError\"\n",
    "\n",
    "import string\n",
    "from collections import Counter\n",
    "import operator\n",
    "import sys"
   ]
  },
  {
   "cell_type": "code",
   "execution_count": 3,
   "metadata": {},
   "outputs": [
    {
     "name": "stdout",
     "output_type": "stream",
     "text": [
      "Please select input method: enter \"1\" for STDIN, enter \"2\" for a file on system2\n",
      "Type in file path:Self_Practices/q11.txt\n"
     ]
    }
   ],
   "source": [
    "# Get full text from either STDIN or a file\n",
    "option = raw_input('Please select input method: enter \"1\" for STDIN, enter \"2\" for a file on system')\n",
    "if option == '1':\n",
    "    full_text = raw_input('Please type your text:')\n",
    "elif option == '2':\n",
    "    file_name = raw_input('Type in file path:')\n",
    "    try:\n",
    "        with open(file_name,'r') as my_file:\n",
    "            full_text = ''.join([l.strip() for l in my_file if l.strip() is not ''])\n",
    "    except IOError:\n",
    "        print 'File not found'\n",
    "        sys.exit()\n",
    "else:\n",
    "    print '\"1\" and \"2\" are the only options you have! Try again.'\n",
    "    sys.exit()\n",
    "# Clean full_text by replacing \"?\" and \"!\" with \".\"\n",
    "full_text = full_text.replace(\"?\",\".\")\n",
    "full_text = full_text.replace(\"!\",\".\")"
   ]
  },
  {
   "cell_type": "code",
   "execution_count": 4,
   "metadata": {},
   "outputs": [
    {
     "data": {
      "text/plain": [
       "'After reaching the Channel. After reaching the Channel.'"
      ]
     },
     "execution_count": 4,
     "metadata": {},
     "output_type": "execute_result"
    }
   ],
   "source": [
    "full_text"
   ]
  },
  {
   "cell_type": "code",
   "execution_count": 5,
   "metadata": {},
   "outputs": [
    {
     "data": {
      "text/plain": [
       "8"
      ]
     },
     "execution_count": 5,
     "metadata": {},
     "output_type": "execute_result"
    }
   ],
   "source": [
    "len(full_text.split(' '))"
   ]
  },
  {
   "cell_type": "code",
   "execution_count": 6,
   "metadata": {
    "collapsed": true
   },
   "outputs": [],
   "source": [
    "# 1. total word count\n",
    "# Here the assumption is that numbers count as words\n",
    "def totalWordcount(text):\n",
    "    #words = [w.translate(None, string.punctuation).lower() for w in text.split(' ') if w is not '']\n",
    "    word_count = len(text.split(' '))\n",
    "    return word_count"
   ]
  },
  {
   "cell_type": "code",
   "execution_count": 7,
   "metadata": {},
   "outputs": [
    {
     "name": "stdout",
     "output_type": "stream",
     "text": [
      "8\n"
     ]
    }
   ],
   "source": [
    "print totalWordcount(full_text)"
   ]
  },
  {
   "cell_type": "code",
   "execution_count": 139,
   "metadata": {
    "collapsed": true
   },
   "outputs": [],
   "source": [
    "# 2. count of unique words\n",
    "def countUniqueword(text):\n",
    "    words = [w.translate(None, string.punctuation).lower() for w in text.split(' ') if w is not '']\n",
    "    words_unique = set(words)\n",
    "    return len(words_unique)"
   ]
  },
  {
   "cell_type": "code",
   "execution_count": 140,
   "metadata": {
    "collapsed": true
   },
   "outputs": [],
   "source": [
    "# 3. sentence count\n",
    "# Here period is the only indicators of a complete sententce\n",
    "def countSentence(text):\n",
    "    #sentences = [s for s in text.split('.') if s is not '']\n",
    "    sentences_count = len(text.split('.'))-1\n",
    "    return sentences_count"
   ]
  },
  {
   "cell_type": "code",
   "execution_count": 141,
   "metadata": {},
   "outputs": [
    {
     "name": "stdout",
     "output_type": "stream",
     "text": [
      "17\n"
     ]
    }
   ],
   "source": [
    "print countSentence(full_text)"
   ]
  },
  {
   "cell_type": "code",
   "execution_count": 142,
   "metadata": {
    "collapsed": true
   },
   "outputs": [],
   "source": [
    "# 4. average sentence length\n",
    "def avgSentencelen(text):\n",
    "    s_length = []\n",
    "    sentences = [s for s in text.split('.') if s is not '']\n",
    "    for s in sentences:\n",
    "        s_length.append(len([w for w in s.split(' ') if w is not '']))\n",
    "    return sum(s_length)/len(s_length)"
   ]
  },
  {
   "cell_type": "code",
   "execution_count": 143,
   "metadata": {
    "collapsed": true
   },
   "outputs": [],
   "source": [
    "# 5. Phrases finder\n",
    "def phraseFinder(text):\n",
    "    phrases = []\n",
    "    sentences = [s for s in text.split('.') if s is not '']\n",
    "    # Go through each sentence\n",
    "    for s in sentences:\n",
    "        # Get all possible word counts for phrases\n",
    "        word_count = range(3,len(s.split(' '))+1)\n",
    "        # Get all phrases with the same length each round and store them in \"phrases\"\n",
    "        start = 0\n",
    "        for w in word_count:\n",
    "            for loc in range(0,len(s)):\n",
    "                sentence = [i for i in s.lower().split(' ') if i is not '']\n",
    "                if (loc+w)<=len(sentence):\n",
    "                    phrase = ' '.join(sentence[loc:loc+w])\n",
    "                    phrases.append(phrase)\n",
    "    my_dict = Counter(phrases)\n",
    "    result = [key for key in my_dict if my_dict[key] > 3]\n",
    "    return result"
   ]
  },
  {
   "cell_type": "code",
   "execution_count": 144,
   "metadata": {
    "collapsed": true
   },
   "outputs": [],
   "source": [
    "# 6. list of word:frequency pair, desc\n",
    "def wordFrequency(text):\n",
    "    words = [w.translate(None, string.punctuation).lower() for w in text.split(' ') if w is not '']\n",
    "    d = Counter(words)\n",
    "    sorted_d = sorted(d.items(), key=operator.itemgetter(1),reverse=True)\n",
    "    return [word[0] for word in sorted_d]\n",
    "    "
   ]
  },
  {
   "cell_type": "code",
   "execution_count": 146,
   "metadata": {},
   "outputs": [
    {
     "name": "stdout",
     "output_type": "stream",
     "text": [
      "Total word count:  432\n",
      "Unique words:  222\n",
      "Sentences:  17\n",
      "Average sentence length:  25\n",
      "List of words used -- descending frequency: \n",
      "the\n",
      "to\n",
      "of\n",
      "and\n",
      "on\n",
      "german\n",
      "forces\n",
      "in\n",
      "battle\n",
      "allied\n",
      "dunkirk\n",
      "french\n",
      "army\n",
      "may\n",
      "british\n",
      "was\n",
      "plan\n",
      "a\n",
      "netherlands\n",
      "allies\n",
      "france\n",
      "war\n",
      "with\n",
      "von\n",
      "as\n",
      "which\n",
      "through\n",
      "before\n",
      "group\n",
      "evacuation\n",
      "coast\n",
      "advanced\n",
      "force\n",
      "what\n",
      "advance\n",
      "along\n",
      "most\n",
      "germany\n",
      "first\n",
      "hitler\n",
      "from\n",
      "troops\n",
      "three\n",
      "their\n",
      "north\n",
      "manstein\n",
      "expeditionary\n",
      "known\n",
      "line\n",
      "bef\n",
      "halt\n",
      "channel\n",
      "armies\n",
      "germans\n",
      "order\n",
      "oberkommando\n",
      "sanctioned\n",
      "heavily\n",
      "1940after\n",
      "sickle\n",
      "yellow\n",
      "front\n",
      "world\n",
      "decisions\n",
      "24\n",
      "26\n",
      "cut\n",
      "britainin\n",
      "became\n",
      "1940\n",
      "had\n",
      "should\n",
      "evacuate\n",
      "kluge\n",
      "spearhead\n",
      "4\n",
      "under\n",
      "east\n",
      "gave\n",
      "then\n",
      "his\n",
      "arras—failed\n",
      "okw\n",
      "pocket\n",
      "earnest\n",
      "fortifications\n",
      "gloomy\n",
      "penetration\n",
      "they\n",
      "despite\n",
      "belgium\n",
      "during\n",
      "d\n",
      "did\n",
      "generalfeldmarschall\n",
      "popular\n",
      "cease\n",
      "river\n",
      "discussing\n",
      "ports\n",
      "ardennes\n",
      "phoney\n",
      "günther\n",
      "maurice\n",
      "series\n",
      "committed\n",
      "estimates\n",
      "around\n",
      "second\n",
      "separating\n",
      "further\n",
      "operation\n",
      "port\n",
      "britain\n",
      "even\n",
      "defence\n",
      "for\n",
      "avoid\n",
      "debated\n",
      "breakout\n",
      "between\n",
      "contrary\n",
      "trap\n",
      "europe\n",
      "after\n",
      "belief\n",
      "reaching\n",
      "330000\n",
      "seventh\n",
      "20\n",
      "defensive\n",
      "rapidly\n",
      "adolf\n",
      "suggested\n",
      "engage\n",
      "wehrmacht\n",
      "could\n",
      "days\n",
      "rundstedt\n",
      "place\n",
      "commander—french\n",
      "or\n",
      "south\n",
      "consolidate\n",
      "already\n",
      "widely\n",
      "one\n",
      "sedan\n",
      "marshals\n",
      "reached\n",
      "gerd\n",
      "west\n",
      "support\n",
      "burst\n",
      "threatening\n",
      "maginot\n",
      "fought\n",
      "time\n",
      "entered\n",
      "belgian\n",
      "gamelin\n",
      "field\n",
      "conditional\n",
      "counterattacks—including\n",
      "took\n",
      "but\n",
      "part\n",
      "western\n",
      "westward\n",
      "than\n",
      "10\n",
      "b\n",
      "surrender\n",
      "14\n",
      "erich\n",
      "der\n",
      "originate\n",
      "invaded\n",
      "near\n",
      "crossed\n",
      "forcesa\n",
      "were\n",
      "situation\n",
      "toward\n",
      "called\n",
      "supreme\n",
      "turned\n",
      "general\n",
      "effectively\n",
      "an\n",
      "swung\n",
      "nazi\n",
      "sever\n",
      "capture\n",
      "northward\n",
      "end\n",
      "not\n",
      "border\n",
      "began\n",
      "that\n",
      "majority\n",
      "armentières\n",
      "build\n",
      "instead\n",
      "sufficient\n",
      "flanking\n",
      "english\n",
      "june\n",
      "dunkerque\n",
      "halted\n",
      "gamelin—initiated\n",
      "mechanised\n",
      "arrived\n",
      "organise\n",
      "military\n",
      "dyle\n",
      "response\n",
      "rescued\n",
      "more\n",
      "command\n",
      "relied\n",
      "german–french\n",
      "Often used phrases (a phrase of 3 or more words used over 3 times): \n",
      "\" the battle of \"\n"
     ]
    }
   ],
   "source": [
    "# required output\n",
    "print 'Total word count: ',totalWordcount(full_text)\n",
    "print 'Unique words: ',countUniqueword(full_text)\n",
    "print 'Sentences: ',countSentence(full_text)\n",
    "\n",
    "print 'Average sentence length: ',avgSentencelen(full_text)\n",
    "print 'List of words used -- descending frequency: '\n",
    "for w in wordFrequency(full_text):\n",
    "    print w\n",
    "print 'Often used phrases (a phrase of 3 or more words used over 3 times): '\n",
    "for p in phraseFinder(full_text):\n",
    "    print '\"',p,'\"'\n"
   ]
  },
  {
   "cell_type": "code",
   "execution_count": null,
   "metadata": {
    "collapsed": true
   },
   "outputs": [],
   "source": []
  },
  {
   "cell_type": "code",
   "execution_count": null,
   "metadata": {
    "collapsed": true
   },
   "outputs": [],
   "source": []
  },
  {
   "cell_type": "code",
   "execution_count": null,
   "metadata": {
    "collapsed": true
   },
   "outputs": [],
   "source": []
  },
  {
   "cell_type": "code",
   "execution_count": 43,
   "metadata": {},
   "outputs": [],
   "source": [
    "# 5. Phrases finder\n",
    "def phraseFinder(text):\n",
    "    phrases = []\n",
    "    sentences = [s for s in text.split('.') if s is not '']\n",
    "    # Go through each sentence\n",
    "    for s in sentences:\n",
    "        # Get all possible word counts for phrases\n",
    "        word_count = range(3,len(s.split(' '))+1)\n",
    "        # Get all phrases with the same length each round and store them in \"phrases\"\n",
    "        for w in word_count:\n",
    "            for loc in range(0,len(s)):\n",
    "                sentence = [i for i in s.lower().split(' ') if i is not '']\n",
    "                if (loc+w)<=len(sentence):\n",
    "                    phrase = ' '.join(sentence[loc:loc+w])\n",
    "                    phrases.append(phrase)\n",
    "    my_dict = Counter(phrases)\n",
    "    result = [key for key in my_dict if my_dict[key] >= 2]\n",
    "    # Sort result list using phrase length\n",
    "    result.sort(lambda x,y:cmp(len(x),len(y)))\n",
    "    \n",
    "    toRemove = [result[r] for r in range(0,len(result)) if result[r] in result[r+1]]\n",
    "    print toRemove\n",
    "            \n",
    "    return result"
   ]
  },
  {
   "cell_type": "code",
   "execution_count": 44,
   "metadata": {
    "collapsed": true
   },
   "outputs": [],
   "source": [
    "t = 'Oh i am telling you. do you know what i am telling you mean.'"
   ]
  },
  {
   "cell_type": "code",
   "execution_count": 45,
   "metadata": {},
   "outputs": [
    {
     "name": "stdout",
     "output_type": "stream",
     "text": [
      "['am telling you']\n"
     ]
    },
    {
     "data": {
      "text/plain": [
       "['i am telling', 'am telling you', 'i am telling you']"
      ]
     },
     "execution_count": 45,
     "metadata": {},
     "output_type": "execute_result"
    }
   ],
   "source": [
    "phraseFinder(t)"
   ]
  },
  {
   "cell_type": "code",
   "execution_count": null,
   "metadata": {
    "collapsed": true
   },
   "outputs": [],
   "source": []
  }
 ],
 "metadata": {
  "kernelspec": {
   "display_name": "Python 2",
   "language": "python",
   "name": "python2"
  },
  "language_info": {
   "codemirror_mode": {
    "name": "ipython",
    "version": 2
   },
   "file_extension": ".py",
   "mimetype": "text/x-python",
   "name": "python",
   "nbconvert_exporter": "python",
   "pygments_lexer": "ipython2",
   "version": "2.7.13"
  }
 },
 "nbformat": 4,
 "nbformat_minor": 2
}
