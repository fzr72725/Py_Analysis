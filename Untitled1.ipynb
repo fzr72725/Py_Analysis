{
 "cells": [
  {
   "cell_type": "markdown",
   "metadata": {},
   "source": [
    "Create a text content analyzer. This is a tool used by writers to find statistics such as word and sentence count on essays or articles they are writing.\n",
    "Write a Python program that analyzes input from a file and compiles statistics on it.\n",
    "The program should output:\n",
    "\n",
    "1. The total word count\n",
    "2. The count of unique words\n",
    "3. The number of sentences\n",
    "Example output:\n",
    "<p>Total word count: 468\n",
    "<p>Unique words: 223\n",
    "<p>Sentences: 38\n",
    "\n",
    "Brownie points will be awarded for the following extras:\n",
    "1. The ability to calculate the average sentence length in words\n",
    "2. The ability to find often used phrases (a phrase of 3 or more words used over 3 times)\n",
    "3. A list of words used, in order of descending frequency\n",
    "4. The ability to accept input from STDIN, or from a file specified on the command line.\n",
    "This question should be written in Python. \n",
    "Please submit a file name q1.py with your code"
   ]
  },
  {
   "cell_type": "code",
   "execution_count": 1,
   "metadata": {
    "collapsed": true
   },
   "outputs": [],
   "source": [
    "# The code is running on python2, if using python3, \"raw_input\" should be \"input\", \"IOError\" should be \"FileNotFoundError\"\n",
    "\n",
    "import string\n",
    "from collections import Counter\n",
    "import operator\n",
    "import sys"
   ]
  },
  {
   "cell_type": "code",
   "execution_count": 100,
   "metadata": {},
   "outputs": [
    {
     "name": "stdout",
     "output_type": "stream",
     "text": [
      "Please select input method: enter \"1\" for STDIN, enter \"2\" for a file on system2\n",
      "Type in file path:q1.txt\n"
     ]
    }
   ],
   "source": [
    "# Get full text from either STDIN or a file\n",
    "option = raw_input('Please select input method: enter \"1\" for STDIN, enter \"2\" for a file on system')\n",
    "if option == '1':\n",
    "    full_text = raw_input('Please type your text:')\n",
    "elif option == '2':\n",
    "    file_name = raw_input('Type in file path:')\n",
    "    try:\n",
    "        with open(file_name,'r') as my_file:\n",
    "            full_text = ''.join([l.strip() for l in my_file if l.strip() is not ''])\n",
    "    except IOError:\n",
    "        print 'File not found'\n",
    "        sys.exit()\n",
    "else:\n",
    "    print '\"1\" and \"2\" are the only options you have! Try again.'\n",
    "    sys.exit()\n",
    "# Clean full_text by replacing \"?\" and \"!\" with \".\"\n",
    "full_text = full_text.replace(\"?\",\".\")\n",
    "full_text = full_text.replace(\"!\",\".\")"
   ]
  },
  {
   "cell_type": "code",
   "execution_count": 101,
   "metadata": {},
   "outputs": [
    {
     "data": {
      "text/plain": [
       "'The Battle of Dunkirk was a military operation which took place in Dunkirk (Dunkerque), France, during the Second World War. The battle was fought between the Allies and Nazi Germany. As part of the Battle of France on the Western Front, the Battle of Dunkirk was the defence and evacuation of British and Allied forces in Europe from 26 May to 4 June 1940.After the Phoney War, the Battle of France began in earnest on 10 May 1940. To the east, the German Army Group B invaded the Netherlands and advanced westward. In response, the Supreme Allied Commander\\xe2\\x80\\x94French General Maurice Gamelin\\xe2\\x80\\x94initiated \"Plan D\" and entered Belgium to engage the Germans in the Netherlands. The plan relied heavily on the Maginot Line fortifications along the German\\xe2\\x80\\x93French border, but German forces had already crossed through most of the Netherlands before the French forces arrived. Gamelin instead committed the forces under his command, three mechanised armies, the French First and Seventh Armies and the British Expeditionary Force (BEF), to the River Dyle. On 14 May, German Army Group A burst through the Ardennes and advanced rapidly to the west toward Sedan, then turned northward to the English Channel, in what Generalfeldmarschall Erich von Manstein called the \"Sickle Cut\" (known as \"Plan Yellow\" or the Manstein Plan), effectively flanking the Allied forces.A series of Allied counter-attacks\\xe2\\x80\\x94including the Battle of Arras\\xe2\\x80\\x94failed to sever the German spearhead, which reached the coast on 20 May, separating the British Expeditionary Force (BEF) near Armenti\\xc3\\xa8res, the French First Army, and the Belgian Army further to the north from the majority of French troops south of the German penetration. After reaching the Channel, the German forces swung north along the coast, threatening to capture the ports and trap the British and French forces before they could evacuate to Britain.In one of the most widely debated decisions of the war, the Germans halted their advance on Dunkirk. Contrary to popular belief, what became known as the \"Halt Order\" did not originate with Adolf Hitler. Field Marshals Gerd von Rundstedt and G\\xc3\\xbcnther von Kluge suggested that the German forces around the Dunkirk pocket should cease their advance on the port and consolidate, to avoid an Allied breakout. Hitler sanctioned the order on 24 May with the support of the Oberkommando der Wehrmacht (OKW). The army was to halt for three days, which gave the Allies sufficient time to organise the Dunkirk evacuation and build a defensive line. Despite the Allies\\' gloomy estimates of the situation, with Britain even discussing a conditional surrender to Germany, in the end more than 330,000 Allied troops were rescued.'"
      ]
     },
     "execution_count": 101,
     "metadata": {},
     "output_type": "execute_result"
    }
   ],
   "source": [
    "full_text"
   ]
  },
  {
   "cell_type": "code",
   "execution_count": 5,
   "metadata": {},
   "outputs": [
    {
     "data": {
      "text/plain": [
       "8"
      ]
     },
     "execution_count": 5,
     "metadata": {},
     "output_type": "execute_result"
    }
   ],
   "source": [
    "len(full_text.split(' '))"
   ]
  },
  {
   "cell_type": "code",
   "execution_count": 6,
   "metadata": {
    "collapsed": true
   },
   "outputs": [],
   "source": [
    "# 1. total word count\n",
    "# Here the assumption is that numbers count as words\n",
    "def totalWordcount(text):\n",
    "    #words = [w.translate(None, string.punctuation).lower() for w in text.split(' ') if w is not '']\n",
    "    word_count = len(text.split(' '))\n",
    "    return word_count"
   ]
  },
  {
   "cell_type": "code",
   "execution_count": 7,
   "metadata": {},
   "outputs": [
    {
     "name": "stdout",
     "output_type": "stream",
     "text": [
      "8\n"
     ]
    }
   ],
   "source": [
    "print totalWordcount(full_text)"
   ]
  },
  {
   "cell_type": "code",
   "execution_count": 139,
   "metadata": {
    "collapsed": true
   },
   "outputs": [],
   "source": [
    "# 2. count of unique words\n",
    "def countUniqueword(text):\n",
    "    words = [w.translate(None, string.punctuation).lower() for w in text.split(' ') if w is not '']\n",
    "    words_unique = set(words)\n",
    "    return len(words_unique)"
   ]
  },
  {
   "cell_type": "code",
   "execution_count": 140,
   "metadata": {
    "collapsed": true
   },
   "outputs": [],
   "source": [
    "# 3. sentence count\n",
    "# Here period is the only indicators of a complete sententce\n",
    "def countSentence(text):\n",
    "    #sentences = [s for s in text.split('.') if s is not '']\n",
    "    sentences_count = len(text.split('.'))-1\n",
    "    return sentences_count"
   ]
  },
  {
   "cell_type": "code",
   "execution_count": 141,
   "metadata": {},
   "outputs": [
    {
     "name": "stdout",
     "output_type": "stream",
     "text": [
      "17\n"
     ]
    }
   ],
   "source": [
    "print countSentence(full_text)"
   ]
  },
  {
   "cell_type": "code",
   "execution_count": 142,
   "metadata": {
    "collapsed": true
   },
   "outputs": [],
   "source": [
    "# 4. average sentence length\n",
    "def avgSentencelen(text):\n",
    "    s_length = []\n",
    "    sentences = [s for s in text.split('.') if s is not '']\n",
    "    for s in sentences:\n",
    "        s_length.append(len([w for w in s.split(' ') if w is not '']))\n",
    "    return sum(s_length)/len(s_length)"
   ]
  },
  {
   "cell_type": "code",
   "execution_count": 143,
   "metadata": {
    "collapsed": true
   },
   "outputs": [],
   "source": [
    "# 5. Phrases finder\n",
    "def phraseFinder(text):\n",
    "    phrases = []\n",
    "    sentences = [s for s in text.split('.') if s is not '']\n",
    "    # Go through each sentence\n",
    "    for s in sentences:\n",
    "        # Get all possible word counts for phrases\n",
    "        word_count = range(3,len(s.split(' '))+1)\n",
    "        # Get all phrases with the same length each round and store them in \"phrases\"\n",
    "        start = 0\n",
    "        for w in word_count:\n",
    "            for loc in range(0,len(s)):\n",
    "                sentence = [i for i in s.lower().split(' ') if i is not '']\n",
    "                if (loc+w)<=len(sentence):\n",
    "                    phrase = ' '.join(sentence[loc:loc+w])\n",
    "                    phrases.append(phrase)\n",
    "    my_dict = Counter(phrases)\n",
    "    result = [key for key in my_dict if my_dict[key] > 3]\n",
    "    return result"
   ]
  },
  {
   "cell_type": "code",
   "execution_count": 125,
   "metadata": {
    "collapsed": true
   },
   "outputs": [],
   "source": [
    "# 6. list of word:frequency pair, desc\n",
    "def wordFrequency(text):\n",
    "    words = getAllwords(text)\n",
    "    d = Counter(words)\n",
    "    sorted_d = sorted(d.items(), key=operator.itemgetter(1),reverse=True)\n",
    "    return sorted_d\n",
    "    "
   ]
  },
  {
   "cell_type": "code",
   "execution_count": 126,
   "metadata": {},
   "outputs": [
    {
     "name": "stdout",
     "output_type": "stream",
     "text": [
      "Total word count:  432\n",
      "Unique words: "
     ]
    },
    {
     "ename": "NameError",
     "evalue": "name 'countUniqueword' is not defined",
     "output_type": "error",
     "traceback": [
      "\u001b[0;31m---------------------------------------------------------------------------\u001b[0m",
      "\u001b[0;31mNameError\u001b[0m                                 Traceback (most recent call last)",
      "\u001b[0;32m<ipython-input-126-e737df095da8>\u001b[0m in \u001b[0;36m<module>\u001b[0;34m()\u001b[0m\n\u001b[1;32m      1\u001b[0m \u001b[0;31m# required output\u001b[0m\u001b[0;34m\u001b[0m\u001b[0;34m\u001b[0m\u001b[0m\n\u001b[1;32m      2\u001b[0m \u001b[0;32mprint\u001b[0m \u001b[0;34m'Total word count: '\u001b[0m\u001b[0;34m,\u001b[0m\u001b[0mtotalWordcount\u001b[0m\u001b[0;34m(\u001b[0m\u001b[0mfull_text\u001b[0m\u001b[0;34m)\u001b[0m\u001b[0;34m\u001b[0m\u001b[0m\n\u001b[0;32m----> 3\u001b[0;31m \u001b[0;32mprint\u001b[0m \u001b[0;34m'Unique words: '\u001b[0m\u001b[0;34m,\u001b[0m\u001b[0mcountUniqueword\u001b[0m\u001b[0;34m(\u001b[0m\u001b[0mfull_text\u001b[0m\u001b[0;34m)\u001b[0m\u001b[0;34m\u001b[0m\u001b[0m\n\u001b[0m\u001b[1;32m      4\u001b[0m \u001b[0;32mprint\u001b[0m \u001b[0;34m'Sentences: '\u001b[0m\u001b[0;34m,\u001b[0m\u001b[0mcountSentence\u001b[0m\u001b[0;34m(\u001b[0m\u001b[0mfull_text\u001b[0m\u001b[0;34m)\u001b[0m\u001b[0;34m\u001b[0m\u001b[0m\n\u001b[1;32m      5\u001b[0m \u001b[0;34m\u001b[0m\u001b[0m\n",
      "\u001b[0;31mNameError\u001b[0m: name 'countUniqueword' is not defined"
     ]
    }
   ],
   "source": [
    "# required output\n",
    "print 'Total word count: ',totalWordcount(full_text)\n",
    "print 'Unique words: ',countUniqueword(full_text)\n",
    "print 'Sentences: ',countSentence(full_text)\n",
    "\n",
    "print 'Average sentence length: ',avgSentencelen(full_text)\n",
    "print 'List of words used -- descending frequency: '\n",
    "for w in wordFrequency(full_text):\n",
    "    print w\n",
    "print 'Often used phrases (a phrase of 3 or more words used over 3 times): '\n",
    "for p in phraseFinder(full_text):\n",
    "    print '\"',p,'\"'\n"
   ]
  },
  {
   "cell_type": "code",
   "execution_count": null,
   "metadata": {
    "collapsed": true
   },
   "outputs": [],
   "source": []
  },
  {
   "cell_type": "code",
   "execution_count": null,
   "metadata": {
    "collapsed": true
   },
   "outputs": [],
   "source": []
  },
  {
   "cell_type": "code",
   "execution_count": null,
   "metadata": {
    "collapsed": true
   },
   "outputs": [],
   "source": []
  },
  {
   "cell_type": "code",
   "execution_count": 121,
   "metadata": {},
   "outputs": [],
   "source": [
    "# 5. Phrases finder\n",
    "def phraseFinder(text):\n",
    "    phrases = []\n",
    "    sentences = [s for s in text.split('.') if s is not '']\n",
    "    # Go through each sentence\n",
    "    for s in sentences:\n",
    "        # Get all possible word counts for phrases\n",
    "        word_count = range(3,len(s.split(' '))+1)\n",
    "        # Get all phrases with the same length each round and store them in \"phrases\"\n",
    "        for w in word_count:\n",
    "            for loc in range(0,len(s)):\n",
    "                sentence = [i for i in s.lower().split(' ') if i is not '']\n",
    "                if (loc+w)<=len(sentence):\n",
    "                    phrase = ' '.join(sentence[loc:loc+w])\n",
    "                    phrases.append(phrase)\n",
    "    my_dict = Counter(phrases)\n",
    "    result = [key for key in my_dict if my_dict[key] >= 2]\n",
    "    # Put all substrings in a string list to be removed\n",
    "    if len(result) > 1:\n",
    "        # Sort result list using phrase length\n",
    "        result.sort(lambda x,y:cmp(len(x),len(y)))\n",
    "        print result\n",
    "        new_dict = {len(item):item for item in result}\n",
    "        print new_dict\n",
    "        toRemove = ' '\n",
    "        while toRemove is not '':\n",
    "            toRemove = ''.join([result[r] for r in range(0,len(result)-1) if result[r] in result[r+1]])\n",
    "            try:\n",
    "                result.remove(toRemove)\n",
    "            except ValueError:\n",
    "                pass\n",
    "    return result"
   ]
  },
  {
   "cell_type": "code",
   "execution_count": 122,
   "metadata": {
    "collapsed": true
   },
   "outputs": [],
   "source": [
    "t = 'Oh i am telling you. do you know what i am telling you mean.'"
   ]
  },
  {
   "cell_type": "code",
   "execution_count": 123,
   "metadata": {},
   "outputs": [
    {
     "name": "stdout",
     "output_type": "stream",
     "text": [
      "this is test\n"
     ]
    }
   ],
   "source": [
    "a = ['this is test']\n",
    "print ''.join(a)"
   ]
  },
  {
   "cell_type": "code",
   "execution_count": 124,
   "metadata": {},
   "outputs": [
    {
     "name": "stdout",
     "output_type": "stream",
     "text": [
      "['the battle of', 'of dunkirk was', 'the french first', 'battle of france', 'their advance on', 'german army group', 'the german forces', 'battle of dunkirk', 'the battle of france', 'battle of dunkirk was', 'the battle of dunkirk', 'the battle of dunkirk was', 'the british expeditionary', 'british expeditionary force', 'the british expeditionary force']\n",
      "{13: 'the battle of', 14: 'of dunkirk was', 16: 'their advance on', 17: 'battle of dunkirk', 20: 'the battle of france', 21: 'the battle of dunkirk', 25: 'the british expeditionary', 27: 'british expeditionary force', 31: 'the british expeditionary force'}\n"
     ]
    },
    {
     "ename": "KeyboardInterrupt",
     "evalue": "",
     "output_type": "error",
     "traceback": [
      "\u001b[0;31m---------------------------------------------------------------------------\u001b[0m",
      "\u001b[0;31mKeyboardInterrupt\u001b[0m                         Traceback (most recent call last)",
      "\u001b[0;32m<ipython-input-124-48209c0b5f5a>\u001b[0m in \u001b[0;36m<module>\u001b[0;34m()\u001b[0m\n\u001b[0;32m----> 1\u001b[0;31m \u001b[0mphraseFinder\u001b[0m\u001b[0;34m(\u001b[0m\u001b[0mfull_text\u001b[0m\u001b[0;34m)\u001b[0m\u001b[0;34m\u001b[0m\u001b[0m\n\u001b[0m",
      "\u001b[0;32m<ipython-input-121-e54bf244025a>\u001b[0m in \u001b[0;36mphraseFinder\u001b[0;34m(text)\u001b[0m\n\u001b[1;32m     25\u001b[0m         \u001b[0mtoRemove\u001b[0m \u001b[0;34m=\u001b[0m \u001b[0;34m' '\u001b[0m\u001b[0;34m\u001b[0m\u001b[0m\n\u001b[1;32m     26\u001b[0m         \u001b[0;32mwhile\u001b[0m \u001b[0mtoRemove\u001b[0m \u001b[0;32mis\u001b[0m \u001b[0;32mnot\u001b[0m \u001b[0;34m''\u001b[0m\u001b[0;34m:\u001b[0m\u001b[0;34m\u001b[0m\u001b[0m\n\u001b[0;32m---> 27\u001b[0;31m             \u001b[0mtoRemove\u001b[0m \u001b[0;34m=\u001b[0m \u001b[0;34m''\u001b[0m\u001b[0;34m.\u001b[0m\u001b[0mjoin\u001b[0m\u001b[0;34m(\u001b[0m\u001b[0;34m[\u001b[0m\u001b[0mresult\u001b[0m\u001b[0;34m[\u001b[0m\u001b[0mr\u001b[0m\u001b[0;34m]\u001b[0m \u001b[0;32mfor\u001b[0m \u001b[0mr\u001b[0m \u001b[0;32min\u001b[0m \u001b[0mrange\u001b[0m\u001b[0;34m(\u001b[0m\u001b[0;36m0\u001b[0m\u001b[0;34m,\u001b[0m\u001b[0mlen\u001b[0m\u001b[0;34m(\u001b[0m\u001b[0mresult\u001b[0m\u001b[0;34m)\u001b[0m\u001b[0;34m-\u001b[0m\u001b[0;36m1\u001b[0m\u001b[0;34m)\u001b[0m \u001b[0;32mif\u001b[0m \u001b[0mresult\u001b[0m\u001b[0;34m[\u001b[0m\u001b[0mr\u001b[0m\u001b[0;34m]\u001b[0m \u001b[0;32min\u001b[0m \u001b[0mresult\u001b[0m\u001b[0;34m[\u001b[0m\u001b[0mr\u001b[0m\u001b[0;34m+\u001b[0m\u001b[0;36m1\u001b[0m\u001b[0;34m]\u001b[0m\u001b[0;34m]\u001b[0m\u001b[0;34m)\u001b[0m\u001b[0;34m\u001b[0m\u001b[0m\n\u001b[0m\u001b[1;32m     28\u001b[0m             \u001b[0;32mtry\u001b[0m\u001b[0;34m:\u001b[0m\u001b[0;34m\u001b[0m\u001b[0m\n\u001b[1;32m     29\u001b[0m                 \u001b[0mresult\u001b[0m\u001b[0;34m.\u001b[0m\u001b[0mremove\u001b[0m\u001b[0;34m(\u001b[0m\u001b[0mtoRemove\u001b[0m\u001b[0;34m)\u001b[0m\u001b[0;34m\u001b[0m\u001b[0m\n",
      "\u001b[0;31mKeyboardInterrupt\u001b[0m: "
     ]
    }
   ],
   "source": [
    "phraseFinder(full_text)"
   ]
  },
  {
   "cell_type": "code",
   "execution_count": null,
   "metadata": {
    "collapsed": true
   },
   "outputs": [],
   "source": []
  }
 ],
 "metadata": {
  "kernelspec": {
   "display_name": "Python 2",
   "language": "python",
   "name": "python2"
  },
  "language_info": {
   "codemirror_mode": {
    "name": "ipython",
    "version": 2
   },
   "file_extension": ".py",
   "mimetype": "text/x-python",
   "name": "python",
   "nbconvert_exporter": "python",
   "pygments_lexer": "ipython2",
   "version": "2.7.13"
  }
 },
 "nbformat": 4,
 "nbformat_minor": 2
}
