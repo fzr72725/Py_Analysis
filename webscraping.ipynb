{
 "cells": [
  {
   "cell_type": "code",
   "execution_count": 121,
   "metadata": {
    "collapsed": false
   },
   "outputs": [],
   "source": [
    "from lxml.html import parse\n",
    "from urllib2 import urlopen\n",
    "from pandas import DataFrame"
   ]
  },
  {
   "cell_type": "code",
   "execution_count": 122,
   "metadata": {
    "collapsed": true
   },
   "outputs": [],
   "source": [
    "parsed = parse(urlopen('http://finance.yahoo.com/q/op?s=AAPL+Options'))"
   ]
  },
  {
   "cell_type": "code",
   "execution_count": 123,
   "metadata": {
    "collapsed": true
   },
   "outputs": [],
   "source": [
    "doc = parsed.getroot()"
   ]
  },
  {
   "cell_type": "code",
   "execution_count": 124,
   "metadata": {
    "collapsed": false
   },
   "outputs": [
    {
     "data": {
      "text/plain": [
       "<Element html at 0x111e27158>"
      ]
     },
     "execution_count": 124,
     "metadata": {},
     "output_type": "execute_result"
    }
   ],
   "source": [
    "doc"
   ]
  },
  {
   "cell_type": "code",
   "execution_count": 125,
   "metadata": {
    "collapsed": true
   },
   "outputs": [],
   "source": [
    "links = doc.findall('.//a')"
   ]
  },
  {
   "cell_type": "code",
   "execution_count": 126,
   "metadata": {
    "collapsed": false
   },
   "outputs": [
    {
     "data": {
      "text/plain": [
       "[<Element a at 0x111e27788>,\n",
       " <Element a at 0x111e277e0>,\n",
       " <Element a at 0x111e27838>,\n",
       " <Element a at 0x111e27890>,\n",
       " <Element a at 0x111e278e8>]"
      ]
     },
     "execution_count": 126,
     "metadata": {},
     "output_type": "execute_result"
    }
   ],
   "source": [
    "links[15:20]"
   ]
  },
  {
   "cell_type": "code",
   "execution_count": 127,
   "metadata": {
    "collapsed": true
   },
   "outputs": [],
   "source": [
    "link_url = links[28].get('href')"
   ]
  },
  {
   "cell_type": "code",
   "execution_count": 128,
   "metadata": {
    "collapsed": true
   },
   "outputs": [],
   "source": [
    "link_text = links[28].text_content()"
   ]
  },
  {
   "cell_type": "code",
   "execution_count": 129,
   "metadata": {
    "collapsed": false
   },
   "outputs": [
    {
     "data": {
      "text/plain": [
       "'http://finance.yahoo.com/blogs/author/rick-newman/'"
      ]
     },
     "execution_count": 129,
     "metadata": {},
     "output_type": "execute_result"
    }
   ],
   "source": [
    "link_url"
   ]
  },
  {
   "cell_type": "code",
   "execution_count": 130,
   "metadata": {
    "collapsed": false
   },
   "outputs": [
    {
     "data": {
      "text/plain": [
       "'Rick Newman'"
      ]
     },
     "execution_count": 130,
     "metadata": {},
     "output_type": "execute_result"
    }
   ],
   "source": [
    "link_text"
   ]
  },
  {
   "cell_type": "code",
   "execution_count": 131,
   "metadata": {
    "collapsed": false
   },
   "outputs": [],
   "source": [
    "urls = [lnk.get('href') for lnk in doc.findall('.//a')]"
   ]
  },
  {
   "cell_type": "code",
   "execution_count": 132,
   "metadata": {
    "collapsed": false
   },
   "outputs": [
    {
     "data": {
      "text/plain": [
       "['/quote/AAPL/key-statistics',\n",
       " 'https://help.yahoo.com/kb/index?page=content&y=PROD_MAIL_ML&locale=en_US&id=SLN2310&actp=productlink',\n",
       " 'http://help.yahoo.com/l/us/yahoo/finance/',\n",
       " 'https://yahoo.uservoice.com/forums/382977',\n",
       " 'http://info.yahoo.com/privacy/us/yahoo/',\n",
       " 'http://info.yahoo.com/relevantads/',\n",
       " 'http://info.yahoo.com/legal/us/yahoo/utos/utos-173.html',\n",
       " 'http://twitter.com/YahooFinance',\n",
       " 'http://facebook.com/yahoofinance',\n",
       " 'http://yahoofinance.tumblr.com']"
      ]
     },
     "execution_count": 132,
     "metadata": {},
     "output_type": "execute_result"
    }
   ],
   "source": [
    "urls[-10:]"
   ]
  },
  {
   "cell_type": "markdown",
   "metadata": {
    "collapsed": true
   },
   "source": [
    "**p173**"
   ]
  },
  {
   "cell_type": "code",
   "execution_count": 133,
   "metadata": {
    "collapsed": true
   },
   "outputs": [],
   "source": [
    "import requests"
   ]
  },
  {
   "cell_type": "markdown",
   "metadata": {},
   "source": [
    "**this part inthe book is out dated, the following code is the new approach**"
   ]
  },
  {
   "cell_type": "code",
   "execution_count": 134,
   "metadata": {
    "collapsed": false
   },
   "outputs": [],
   "source": [
    "import oauth2 as oauth\n",
    "import json\n",
    "\n",
    "CONSUMER_KEY = \"d3aRf4Lc7UXnvfn2rQayLQ8Fq\"\n",
    "CONSUMER_SECRET = \"89QJhI2UYExEmvWzQAw71C2pSYFL6z3AgA7K5UzyEqknoR1lRb\"\n",
    "ACCESS_KEY = \"186908859-TQFcJVOYRFF2tbqWgR5iXGvwTHTl7e3tJlOZLMNO\"\n",
    "ACCESS_SECRET = \"hc8jiX5Qt7ipMuDzhhjEvZoKVBcTAWypj1viNFxsYnBei\"\n",
    "\n",
    "consumer = oauth.Consumer(key=CONSUMER_KEY, secret=CONSUMER_SECRET)\n",
    "access_token = oauth.Token(key=ACCESS_KEY, secret=ACCESS_SECRET)\n",
    "client = oauth.Client(consumer, access_token)\n"
   ]
  },
  {
   "cell_type": "code",
   "execution_count": 135,
   "metadata": {
    "collapsed": true
   },
   "outputs": [],
   "source": [
    "url = 'https://api.twitter.com/1.1/search/tweets.json?q=python%20pandas'"
   ]
  },
  {
   "cell_type": "code",
   "execution_count": 136,
   "metadata": {
    "collapsed": true
   },
   "outputs": [],
   "source": [
    "#response, data = client.request(url)"
   ]
  },
  {
   "cell_type": "code",
   "execution_count": 137,
   "metadata": {
    "collapsed": true
   },
   "outputs": [],
   "source": [
    "resp,data = client.request(url)"
   ]
  },
  {
   "cell_type": "code",
   "execution_count": 138,
   "metadata": {
    "collapsed": false
   },
   "outputs": [
    {
     "data": {
      "text/plain": [
       "httplib2.Response"
      ]
     },
     "execution_count": 138,
     "metadata": {},
     "output_type": "execute_result"
    }
   ],
   "source": [
    "type(resp)"
   ]
  },
  {
   "cell_type": "code",
   "execution_count": 139,
   "metadata": {
    "collapsed": false
   },
   "outputs": [
    {
     "data": {
      "text/plain": [
       "str"
      ]
     },
     "execution_count": 139,
     "metadata": {},
     "output_type": "execute_result"
    }
   ],
   "source": [
    "type(data)"
   ]
  },
  {
   "cell_type": "code",
   "execution_count": 140,
   "metadata": {
    "collapsed": false
   },
   "outputs": [
    {
     "data": {
      "text/plain": [
       "'{\"statuses\":[{\"created_at\":\"Thu Jul 21 22:07:23 +0000 2016\",\"id\":756249237604753410,\"id_str\":\"756249237604753410\",\"text\":\"Adding a Python data cleansing tutorial to Github. Clean data rocks! #python #pandas #dataframe https:\\\\/\\\\/t.co\\\\/zOsgf71EV3\",\"truncated\":false,\"entities\":{\"hashtags\":[{\"text\":\"python\",\"indices\":[69,76]},{\"text\":\"pandas\",\"indices\":[77,84]},{\"text\":\"dataframe\",\"indices\":[85,95]}],\"symbols\":[],\"user_mentions\":[],\"urls\":[{\"url\":\"https:\\\\/\\\\/t.co\\\\/zOsgf71EV3\",\"expanded_url\":\"http:\\\\/\\\\/klo.pm\\\\/2a2Kz7O\",\"display_url\":\"klo.pm\\\\/2a2Kz7O\",\"indices\":[96,119]}]},\"metadata\":{\"iso_language_code\":\"en\",\"result_type\":\"recent\"},\"source\":\"\\\\u003ca href=\\\\\"http:\\\\/\\\\/bufferapp.com\\\\\" rel=\\\\\"nofollow\\\\\"\\\\u003eBuffer\\\\u003c\\\\/a\\\\u003e\",\"in_reply_to_status_id\":null,\"in_reply_to_status_id_str\":null,\"in_reply_to_user_id\":null,\"in_reply_to_user_id_str\":null,\"in_reply_to_screen_name\":null,\"user\":{\"id\":36416949,\"id_str\":\"36416949\",\"name\":\"Kenneth Lo, PMP\",\"screen_name\":\"klopmp\",\"location\":\"San Francisco, California\",\"description\":\"Data Nerd \\\\/ Cyclist \\\\/ Cloud Strategist @Kattelo\",\"url\":\"https:\\\\/\\\\/t.co\\\\/XpS82PaoLp\",\"entities\":{\"url\":{\"urls\":[{\"url\":\"https:\\\\/\\\\/t.co\\\\/XpS82PaoLp\",\"expanded_url\":\"http:\\\\/\\\\/about.me\\\\/klopmp\",\"display_url\":\"about.me\\\\/klopmp\",\"indices\":[0,23]}]},\"description\":{\"urls\":[]}},\"protected\":false,\"followers_count\":2388,\"friends_count\":2540,\"listed_count\":137,\"created_at\":\"Wed Apr 29 17:31:43 +0000 2009\",\"favourites_count\":317,\"utc_offset\":-25200,\"time_zone\":\"Pacific Time (US & Canada)\",\"geo_enabled\":true,\"verified\":false,\"statuses_count\":10815,\"lang\":\"en\",\"contributors_enabled\":false,\"is_translator\":false,\"is_translation_enabled\":false,\"profile_background_color\":\"C0DEED\",\"profile_background_image_url\":\"http:\\\\/\\\\/abs.twimg.com\\\\/images\\\\/themes\\\\/theme1\\\\/bg.png\",\"profile_background_image_url_https\":\"https:\\\\/\\\\/abs.twimg.com\\\\/images\\\\/themes\\\\/theme1\\\\/bg.png\",\"profile_background_tile\":false,\"profile_image_url\":\"http:\\\\/\\\\/pbs.twimg.com\\\\/profile_images\\\\/528006013425704960\\\\/bduisE9G_normal.jpeg\",\"profile_image_url_https\":\"https:\\\\/\\\\/pbs.twimg.com\\\\/profile_images\\\\/528006013425704960\\\\/bduisE9G_normal.jpeg\",\"profile_banner_url\":\"https:\\\\/\\\\/pbs.twimg.com\\\\/profile_banners\\\\/36416949\\\\/1439881113\",\"profile_link_color\":\"0084B4\",\"profile_sidebar_border_color\":\"C0DEED\",\"profile_sidebar_fill_color\":\"DDEEF6\",\"profile_text_color\":\"333333\",\"profile_use_background_image\":true,\"has_extended_profile\":false,\"default_profile\":true,\"default_profile_image\":false,\"following\":false,\"follow_request_sent\":false,\"notifications\":false},\"geo\":null,\"coordinates\":null,\"place\":null,\"contributors\":null,\"is_quote_status\":false,\"retweet_count\":0,\"favorite_count\":2,\"favorited\":false,\"retweeted\":false,\"possibly_sensitive\":false,\"lang\":\"en\"},{\"created_at\":\"Thu Jul 21 22:02:08 +0000 2016\",\"id\":756247916394778625,\"id_str\":\"756247916394778625\",\"text\":\"Adding a Python data cleansing tutorial to Github. Clean data rocks! #python #pandas #dataframe https:\\\\/\\\\/t.co\\\\/POVoQMYbcs\",\"truncated\":false,\"entities\":{\"hashtags\":[{\"text\":\"python\",\"indices\":[69,76]},{\"text\":\"pandas\",\"indices\":[77,84]},{\"text\":\"dataframe\",\"indices\":[85,95]}],\"symbols\":[],\"user_mentions\":[],\"urls\":[{\"url\":\"https:\\\\/\\\\/t.co\\\\/POVoQMYbcs\",\"expanded_url\":\"http:\\\\/\\\\/klo.pm\\\\/2a2L29M\",\"display_url\":\"klo.pm\\\\/2a2L29M\",\"indices\":[96,119]}]},\"metadata\":{\"iso_language_code\":\"en\",\"result_type\":\"recent\"},\"source\":\"\\\\u003ca href=\\\\\"http:\\\\/\\\\/bufferapp.com\\\\\" rel=\\\\\"nofollow\\\\\"\\\\u003eBuffer\\\\u003c\\\\/a\\\\u003e\",\"in_reply_to_status_id\":null,\"in_reply_to_status_id_str\":null,\"in_reply_to_user_id\":null,\"in_reply_to_user_id_str\":null,\"in_reply_to_screen_name\":null,\"user\":{\"id\":36452486,\"id_str\":\"36452486\",\"name\":\"Kattelo Labs\",\"screen_name\":\"kattelo\",\"location\":\"San Francisco, California\",\"description\":\"Mobility at Speed of Cloud\",\"url\":\"http:\\\\/\\\\/t.co\\\\/vBtmbdn48J\",\"entities\":{\"url\":{\"urls\":[{\"url\":\"http:\\\\/\\\\/t.co\\\\/vBtmbdn48J\",\"expanded_url\":\"http:\\\\/\\\\/kattelo.com\",\"display_url\":\"kattelo.com\",\"indices\":[0,22]}]},\"description\":{\"urls\":[]}},\"protected\":false,\"followers_count\":706,\"friends_count\":1801,\"listed_count\":36,\"created_at\":\"Wed Apr 29 19:30:46 +0000 2009\",\"favourites_count\":41,\"utc_offset\":-25200,\"time_zone\":\"Pacific Time (US & Canada)\",\"geo_enabled\":false,\"verified\":false,\"statuses_count\":2535,\"lang\":\"en\",\"contributors_enabled\":false,\"is_translator\":false,\"is_translation_enabled\":false,\"profile_background_color\":\"000000\",\"profile_background_image_url\":\"http:\\\\/\\\\/abs.twimg.com\\\\/images\\\\/themes\\\\/theme12\\\\/bg.gif\",\"profile_background_image_url_https\":\"https:\\\\/\\\\/abs.twimg.com\\\\/images\\\\/themes\\\\/theme12\\\\/bg.gif\",\"profile_background_tile\":false,\"profile_image_url\":\"http:\\\\/\\\\/pbs.twimg.com\\\\/profile_images\\\\/659783421632188416\\\\/ZLJesE65_normal.png\",\"profile_image_url_https\":\"https:\\\\/\\\\/pbs.twimg.com\\\\/profile_images\\\\/659783421632188416\\\\/ZLJesE65_normal.png\",\"profile_link_color\":\"FA743E\",\"profile_sidebar_border_color\":\"000000\",\"profile_sidebar_fill_color\":\"000000\",\"profile_text_color\":\"000000\",\"profile_use_background_image\":false,\"has_extended_profile\":false,\"default_profile\":false,\"default_profile_image\":false,\"following\":false,\"follow_request_sent\":false,\"notifications\":false},\"geo\":null,\"coordinates\":null,\"place\":null,\"contributors\":null,\"is_quote_status\":false,\"retweet_count\":0,\"favorite_count\":0,\"favorited\":false,\"retweeted\":false,\"possibly_sensitive\":false,\"lang\":\"en\"},{\"created_at\":\"Thu Jul 21 21:31:48 +0000 2016\",\"id\":756240283487105024,\"id_str\":\"756240283487105024\",\"text\":\"An Introduction to Scientific #Python - Pandas https:\\\\/\\\\/t.co\\\\/oQuATSXjJP\",\"truncated\":false,\"entities\":{\"hashtags\":[{\"text\":\"Python\",\"indices\":[30,37]}],\"symbols\":[],\"user_mentions\":[],\"urls\":[{\"url\":\"https:\\\\/\\\\/t.co\\\\/oQuATSXjJP\",\"expanded_url\":\"http:\\\\/\\\\/www.datadependence.com\\\\/2016\\\\/05\\\\/scientific-python-pandas\\\\/\",\"display_url\":\"datadependence.com\\\\/2016\\\\/05\\\\/scient\\\\u2026\",\"indices\":[47,70]}]},\"metadata\":{\"iso_language_code\":\"en\",\"result_type\":\"recent\"},\"source\":\"\\\\u003ca href=\\\\\"http:\\\\/\\\\/twitter.com\\\\\" rel=\\\\\"nofollow\\\\\"\\\\u003eTwitter Web Client\\\\u003c\\\\/a\\\\u003e\",\"in_reply_to_status_id\":null,\"in_reply_to_status_id_str\":null,\"in_reply_to_user_id\":null,\"in_reply_to_user_id_str\":null,\"in_reply_to_screen_name\":null,\"user\":{\"id\":94667885,\"id_str\":\"94667885\",\"name\":\"Gabo Gaona\",\"screen_name\":\"gavg712\",\"location\":\"\",\"description\":\"Geom\\\\u00e1tica, SIG, Linux, Meteorolog\\\\u00eda, Ecolog\\\\u00eda, Guitarra,\",\"url\":\"http:\\\\/\\\\/t.co\\\\/oWdqpsWcW8\",\"entities\":{\"url\":{\"urls\":[{\"url\":\"http:\\\\/\\\\/t.co\\\\/oWdqpsWcW8\",\"expanded_url\":\"http:\\\\/\\\\/gavg712.com\",\"display_url\":\"gavg712.com\",\"indices\":[0,22]}]},\"description\":{\"urls\":[]}},\"protected\":false,\"followers_count\":494,\"friends_count\":326,\"listed_count\":52,\"created_at\":\"Fri Dec 04 23:10:39 +0000 2009\",\"favourites_count\":409,\"utc_offset\":-18000,\"time_zone\":\"Quito\",\"geo_enabled\":false,\"verified\":false,\"statuses_count\":10604,\"lang\":\"es\",\"contributors_enabled\":false,\"is_translator\":false,\"is_translation_enabled\":false,\"profile_background_color\":\"1A1B1F\",\"profile_background_image_url\":\"http:\\\\/\\\\/pbs.twimg.com\\\\/profile_background_images\\\\/491297208784793600\\\\/Rp7MVeTZ.jpeg\",\"profile_background_image_url_https\":\"https:\\\\/\\\\/pbs.twimg.com\\\\/profile_background_images\\\\/491297208784793600\\\\/Rp7MVeTZ.jpeg\",\"profile_background_tile\":true,\"profile_image_url\":\"http:\\\\/\\\\/pbs.twimg.com\\\\/profile_images\\\\/677861646266556416\\\\/hkSl9csE_normal.png\",\"profile_image_url_https\":\"https:\\\\/\\\\/pbs.twimg.com\\\\/profile_images\\\\/677861646266556416\\\\/hkSl9csE_normal.png\",\"profile_banner_url\":\"https:\\\\/\\\\/pbs.twimg.com\\\\/profile_banners\\\\/94667885\\\\/1450449873\",\"profile_link_color\":\"ABB8C2\",\"profile_sidebar_border_color\":\"000000\",\"profile_sidebar_fill_color\":\"252429\",\"profile_text_color\":\"666666\",\"profile_use_background_image\":true,\"has_extended_profile\":false,\"default_profile\":false,\"default_profile_image\":false,\"following\":false,\"follow_request_sent\":false,\"notifications\":false},\"geo\":null,\"coordinates\":null,\"place\":null,\"contributors\":null,\"is_quote_status\":false,\"retweet_count\":0,\"favorite_count\":0,\"favorited\":false,\"retweeted\":false,\"possibly_sensitive\":false,\"lang\":\"en\"},{\"created_at\":\"Thu Jul 21 20:40:37 +0000 2016\",\"id\":756227404566265856,\"id_str\":\"756227404566265856\",\"text\":\"Pretty sure Numpy\\\\/Pandas are just a way for R\\'s worst ideas to pollute Python. DataFrames? ndarray? no thanks.\",\"truncated\":false,\"entities\":{\"hashtags\":[],\"symbols\":[],\"user_mentions\":[],\"urls\":[]},\"metadata\":{\"iso_language_code\":\"en\",\"result_type\":\"recent\"},\"source\":\"\\\\u003ca href=\\\\\"https:\\\\/\\\\/about.twitter.com\\\\/products\\\\/tweetdeck\\\\\" rel=\\\\\"nofollow\\\\\"\\\\u003eTweetDeck\\\\u003c\\\\/a\\\\u003e\",\"in_reply_to_status_id\":null,\"in_reply_to_status_id_str\":null,\"in_reply_to_user_id\":null,\"in_reply_to_user_id_str\":null,\"in_reply_to_screen_name\":null,\"user\":{\"id\":870309752,\"id_str\":\"870309752\",\"name\":\"Justin Payne\",\"screen_name\":\"crashfrog\",\"location\":\"Silver Spring, MD\",\"description\":\"Bioinformatics dilettante, inveterate Pythonista, biopunk. I have a cat.\",\"url\":null,\"entities\":{\"description\":{\"urls\":[]}},\"protected\":false,\"followers_count\":126,\"friends_count\":129,\"listed_count\":12,\"created_at\":\"Tue Oct 09 17:43:38 +0000 2012\",\"favourites_count\":348,\"utc_offset\":null,\"time_zone\":null,\"geo_enabled\":false,\"verified\":false,\"statuses_count\":2020,\"lang\":\"en\",\"contributors_enabled\":false,\"is_translator\":false,\"is_translation_enabled\":false,\"profile_background_color\":\"C0DEED\",\"profile_background_image_url\":\"http:\\\\/\\\\/abs.twimg.com\\\\/images\\\\/themes\\\\/theme1\\\\/bg.png\",\"profile_background_image_url_https\":\"https:\\\\/\\\\/abs.twimg.com\\\\/images\\\\/themes\\\\/theme1\\\\/bg.png\",\"profile_background_tile\":false,\"profile_image_url\":\"http:\\\\/\\\\/pbs.twimg.com\\\\/profile_images\\\\/611533179225124864\\\\/ivjF83C-_normal.png\",\"profile_image_url_https\":\"https:\\\\/\\\\/pbs.twimg.com\\\\/profile_images\\\\/611533179225124864\\\\/ivjF83C-_normal.png\",\"profile_banner_url\":\"https:\\\\/\\\\/pbs.twimg.com\\\\/profile_banners\\\\/870309752\\\\/1381589159\",\"profile_link_color\":\"0084B4\",\"profile_sidebar_border_color\":\"C0DEED\",\"profile_sidebar_fill_color\":\"DDEEF6\",\"profile_text_color\":\"333333\",\"profile_use_background_image\":true,\"has_extended_profile\":false,\"default_profile\":true,\"default_profile_image\":false,\"following\":false,\"follow_request_sent\":false,\"notifications\":false},\"geo\":null,\"coordinates\":null,\"place\":null,\"contributors\":null,\"is_quote_status\":false,\"retweet_count\":0,\"favorite_count\":0,\"favorited\":false,\"retweeted\":false,\"lang\":\"en\"},{\"created_at\":\"Thu Jul 21 20:32:11 +0000 2016\",\"id\":756225278389678080,\"id_str\":\"756225278389678080\",\"text\":\"RT @IBMBluemixHelp: Analyze open data sets using pandas in a python notebook and @IBMBluemix https:\\\\/\\\\/t.co\\\\/EW2rUFMcxy https:\\\\/\\\\/t.co\\\\/kEwyF5polL\",\"truncated\":false,\"entities\":{\"hashtags\":[],\"symbols\":[],\"user_mentions\":[{\"screen_name\":\"IBMBluemixHelp\",\"name\":\"IBM Bluemix\\\\u00ae Support\",\"id\":3141780389,\"id_str\":\"3141780389\",\"indices\":[3,18]},{\"screen_name\":\"IBMBluemix\",\"name\":\"IBM Bluemix\\\\u00ae\",\"id\":2336770008,\"id_str\":\"2336770008\",\"indices\":[81,92]}],\"urls\":[{\"url\":\"https:\\\\/\\\\/t.co\\\\/EW2rUFMcxy\",\"expanded_url\":\"http:\\\\/\\\\/ibm.co\\\\/2a4EOrz\",\"display_url\":\"ibm.co\\\\/2a4EOrz\",\"indices\":[93,116]}],\"media\":[{\"id\":755448470287376385,\"id_str\":\"755448470287376385\",\"indices\":[117,140],\"media_url\":\"http:\\\\/\\\\/pbs.twimg.com\\\\/media\\\\/CnvkYZWXYAEIlhu.jpg\",\"media_url_https\":\"https:\\\\/\\\\/pbs.twimg.com\\\\/media\\\\/CnvkYZWXYAEIlhu.jpg\",\"url\":\"https:\\\\/\\\\/t.co\\\\/kEwyF5polL\",\"display_url\":\"pic.twitter.com\\\\/kEwyF5polL\",\"expanded_url\":\"http:\\\\/\\\\/twitter.com\\\\/IBMBluemixHelp\\\\/status\\\\/755448474401902592\\\\/photo\\\\/1\",\"type\":\"photo\",\"sizes\":{\"thumb\":{\"w\":150,\"h\":150,\"resize\":\"crop\"},\"small\":{\"w\":537,\"h\":179,\"resize\":\"fit\"},\"large\":{\"w\":537,\"h\":179,\"resize\":\"fit\"},\"medium\":{\"w\":537,\"h\":179,\"resize\":\"fit\"}},\"source_status_id\":755448474401902592,\"source_status_id_str\":\"755448474401902592\",\"source_user_id\":3141780389,\"source_user_id_str\":\"3141780389\"}]},\"metadata\":{\"iso_language_code\":\"en\",\"result_type\":\"recent\"},\"source\":\"\\\\u003ca href=\\\\\"http:\\\\/\\\\/www.dettonville.org\\\\/\\\\\" rel=\\\\\"nofollow\\\\\"\\\\u003edettonville.org\\\\u003c\\\\/a\\\\u003e\",\"in_reply_to_status_id\":null,\"in_reply_to_status_id_str\":null,\"in_reply_to_user_id\":null,\"in_reply_to_user_id_str\":null,\"in_reply_to_screen_name\":null,\"user\":{\"id\":712775252,\"id_str\":\"712775252\",\"name\":\"LJ Johnson\",\"screen_name\":\"lj020326\",\"location\":\"\",\"description\":\"\",\"url\":null,\"entities\":{\"description\":{\"urls\":[]}},\"protected\":false,\"followers_count\":2213,\"friends_count\":5000,\"listed_count\":159,\"created_at\":\"Mon Jul 23 17:20:00 +0000 2012\",\"favourites_count\":3611,\"utc_offset\":-14400,\"time_zone\":\"Eastern Time (US & Canada)\",\"geo_enabled\":false,\"verified\":false,\"statuses_count\":2811,\"lang\":\"en\",\"contributors_enabled\":false,\"is_translator\":false,\"is_translation_enabled\":true,\"profile_background_color\":\"131516\",\"profile_background_image_url\":\"http:\\\\/\\\\/abs.twimg.com\\\\/images\\\\/themes\\\\/theme14\\\\/bg.gif\",\"profile_background_image_url_https\":\"https:\\\\/\\\\/abs.twimg.com\\\\/images\\\\/themes\\\\/theme14\\\\/bg.gif\",\"profile_background_tile\":true,\"profile_image_url\":\"http:\\\\/\\\\/pbs.twimg.com\\\\/profile_images\\\\/742847623200137216\\\\/V41Ae23L_normal.jpg\",\"profile_image_url_https\":\"https:\\\\/\\\\/pbs.twimg.com\\\\/profile_images\\\\/742847623200137216\\\\/V41Ae23L_normal.jpg\",\"profile_banner_url\":\"https:\\\\/\\\\/pbs.twimg.com\\\\/profile_banners\\\\/712775252\\\\/1429762003\",\"profile_link_color\":\"3B94D9\",\"profile_sidebar_border_color\":\"EEEEEE\",\"profile_sidebar_fill_color\":\"EFEFEF\",\"profile_text_color\":\"333333\",\"profile_use_background_image\":true,\"has_extended_profile\":false,\"default_profile\":false,\"default_profile_image\":false,\"following\":false,\"follow_request_sent\":false,\"notifications\":false},\"geo\":null,\"coordinates\":null,\"place\":null,\"contributors\":null,\"retweeted_status\":{\"created_at\":\"Tue Jul 19 17:05:26 +0000 2016\",\"id\":755448474401902592,\"id_str\":\"755448474401902592\",\"text\":\"Analyze open data sets using pandas in a python notebook and @IBMBluemix https:\\\\/\\\\/t.co\\\\/EW2rUFMcxy https:\\\\/\\\\/t.co\\\\/kEwyF5polL\",\"truncated\":false,\"entities\":{\"hashtags\":[],\"symbols\":[],\"user_mentions\":[{\"screen_name\":\"IBMBluemix\",\"name\":\"IBM Bluemix\\\\u00ae\",\"id\":2336770008,\"id_str\":\"2336770008\",\"indices\":[61,72]}],\"urls\":[{\"url\":\"https:\\\\/\\\\/t.co\\\\/EW2rUFMcxy\",\"expanded_url\":\"http:\\\\/\\\\/ibm.co\\\\/2a4EOrz\",\"display_url\":\"ibm.co\\\\/2a4EOrz\",\"indices\":[73,96]}],\"media\":[{\"id\":755448470287376385,\"id_str\":\"755448470287376385\",\"indices\":[97,120],\"media_url\":\"http:\\\\/\\\\/pbs.twimg.com\\\\/media\\\\/CnvkYZWXYAEIlhu.jpg\",\"media_url_https\":\"https:\\\\/\\\\/pbs.twimg.com\\\\/media\\\\/CnvkYZWXYAEIlhu.jpg\",\"url\":\"https:\\\\/\\\\/t.co\\\\/kEwyF5polL\",\"display_url\":\"pic.twitter.com\\\\/kEwyF5polL\",\"expanded_url\":\"http:\\\\/\\\\/twitter.com\\\\/IBMBluemixHelp\\\\/status\\\\/755448474401902592\\\\/photo\\\\/1\",\"type\":\"photo\",\"sizes\":{\"thumb\":{\"w\":150,\"h\":150,\"resize\":\"crop\"},\"small\":{\"w\":537,\"h\":179,\"resize\":\"fit\"},\"large\":{\"w\":537,\"h\":179,\"resize\":\"fit\"},\"medium\":{\"w\":537,\"h\":179,\"resize\":\"fit\"}}}]},\"metadata\":{\"iso_language_code\":\"en\",\"result_type\":\"recent\"},\"source\":\"\\\\u003ca href=\\\\\"http:\\\\/\\\\/www.hootsuite.com\\\\\" rel=\\\\\"nofollow\\\\\"\\\\u003eHootsuite\\\\u003c\\\\/a\\\\u003e\",\"in_reply_to_status_id\":null,\"in_reply_to_status_id_str\":null,\"in_reply_to_user_id\":null,\"in_reply_to_user_id_str\":null,\"in_reply_to_screen_name\":null,\"user\":{\"id\":3141780389,\"id_str\":\"3141780389\",\"name\":\"IBM Bluemix\\\\u00ae Support\",\"screen_name\":\"IBMBluemixHelp\",\"location\":\"Worldwide\",\"description\":\"The official Bluemix Support account for how to info, announcements, and updates. We will help you find answers! Maintained by Bill Wentworth \\\\/ Ralph Earle\",\"url\":\"https:\\\\/\\\\/t.co\\\\/MKuyRcLHd3\",\"entities\":{\"url\":{\"urls\":[{\"url\":\"https:\\\\/\\\\/t.co\\\\/MKuyRcLHd3\",\"expanded_url\":\"https:\\\\/\\\\/developer.ibm.com\\\\/bluemix\\\\/support\\\\/\",\"display_url\":\"developer.ibm.com\\\\/bluemix\\\\/suppor\\\\u2026\",\"indices\":[0,23]}]},\"description\":{\"urls\":[]}},\"protected\":false,\"followers_count\":1023,\"friends_count\":1031,\"listed_count\":50,\"created_at\":\"Mon Apr 06 20:13:11 +0000 2015\",\"favourites_count\":5,\"utc_offset\":-18000,\"time_zone\":\"Central Time (US & Canada)\",\"geo_enabled\":false,\"verified\":false,\"statuses_count\":1692,\"lang\":\"en\",\"contributors_enabled\":false,\"is_translator\":false,\"is_translation_enabled\":false,\"profile_background_color\":\"C0DEED\",\"profile_background_image_url\":\"http:\\\\/\\\\/abs.twimg.com\\\\/images\\\\/themes\\\\/theme1\\\\/bg.png\",\"profile_background_image_url_https\":\"https:\\\\/\\\\/abs.twimg.com\\\\/images\\\\/themes\\\\/theme1\\\\/bg.png\",\"profile_background_tile\":false,\"profile_image_url\":\"http:\\\\/\\\\/pbs.twimg.com\\\\/profile_images\\\\/748850401600876545\\\\/fqtls_Js_normal.jpg\",\"profile_image_url_https\":\"https:\\\\/\\\\/pbs.twimg.com\\\\/profile_images\\\\/748850401600876545\\\\/fqtls_Js_normal.jpg\",\"profile_banner_url\":\"https:\\\\/\\\\/pbs.twimg.com\\\\/profile_banners\\\\/3141780389\\\\/1467374859\",\"profile_link_color\":\"0084B4\",\"profile_sidebar_border_color\":\"C0DEED\",\"profile_sidebar_fill_color\":\"DDEEF6\",\"profile_text_color\":\"333333\",\"profile_use_background_image\":true,\"has_extended_profile\":false,\"default_profile\":true,\"default_profile_image\":false,\"following\":false,\"follow_request_sent\":false,\"notifications\":false},\"geo\":null,\"coordinates\":null,\"place\":null,\"contributors\":null,\"is_quote_status\":false,\"retweet_count\":4,\"favorite_count\":3,\"favorited\":false,\"retweeted\":false,\"possibly_sensitive\":false,\"lang\":\"en\"},\"is_quote_status\":false,\"retweet_count\":4,\"favorite_count\":0,\"favorited\":false,\"retweeted\":false,\"possibly_sensitive\":false,\"lang\":\"en\"},{\"created_at\":\"Thu Jul 21 20:23:41 +0000 2016\",\"id\":756223143296004096,\"id_str\":\"756223143296004096\",\"text\":\"@McNeill_Tweets I\\'ve been using Pandas for a 2.5mil csv. Might be worth a shot if you\\'re comfortable with Python\",\"truncated\":false,\"entities\":{\"hashtags\":[],\"symbols\":[],\"user_mentions\":[{\"screen_name\":\"McNeill_Tweets\",\"name\":\"Ryan McNeill\",\"id\":1849356277,\"id_str\":\"1849356277\",\"indices\":[0,15]}],\"urls\":[]},\"metadata\":{\"iso_language_code\":\"en\",\"result_type\":\"recent\"},\"source\":\"\\\\u003ca href=\\\\\"https:\\\\/\\\\/about.twitter.com\\\\/products\\\\/tweetdeck\\\\\" rel=\\\\\"nofollow\\\\\"\\\\u003eTweetDeck\\\\u003c\\\\/a\\\\u003e\",\"in_reply_to_status_id\":756222377441320960,\"in_reply_to_status_id_str\":\"756222377441320960\",\"in_reply_to_user_id\":1849356277,\"in_reply_to_user_id_str\":\"1849356277\",\"in_reply_to_screen_name\":\"McNeill_Tweets\",\"user\":{\"id\":710095997,\"id_str\":\"710095997\",\"name\":\"Erin Petenko\",\"screen_name\":\"EPetenko\",\"location\":\"Edison, NJ\",\"description\":\"Data intern for NJ Advance Media\",\"url\":null,\"entities\":{\"description\":{\"urls\":[]}},\"protected\":false,\"followers_count\":71,\"friends_count\":72,\"listed_count\":2,\"created_at\":\"Sat Oct 12 00:16:13 +0000 2013\",\"favourites_count\":44,\"utc_offset\":-25200,\"time_zone\":\"Pacific Time (US & Canada)\",\"geo_enabled\":false,\"verified\":false,\"statuses_count\":248,\"lang\":\"en\",\"contributors_enabled\":false,\"is_translator\":false,\"is_translation_enabled\":false,\"profile_background_color\":\"C0DEED\",\"profile_background_image_url\":\"http:\\\\/\\\\/abs.twimg.com\\\\/images\\\\/themes\\\\/theme1\\\\/bg.png\",\"profile_background_image_url_https\":\"https:\\\\/\\\\/abs.twimg.com\\\\/images\\\\/themes\\\\/theme1\\\\/bg.png\",\"profile_background_tile\":false,\"profile_image_url\":\"http:\\\\/\\\\/pbs.twimg.com\\\\/profile_images\\\\/527942285342691329\\\\/l5rlXgm4_normal.jpeg\",\"profile_image_url_https\":\"https:\\\\/\\\\/pbs.twimg.com\\\\/profile_images\\\\/527942285342691329\\\\/l5rlXgm4_normal.jpeg\",\"profile_link_color\":\"0084B4\",\"profile_sidebar_border_color\":\"C0DEED\",\"profile_sidebar_fill_color\":\"DDEEF6\",\"profile_text_color\":\"333333\",\"profile_use_background_image\":true,\"has_extended_profile\":false,\"default_profile\":true,\"default_profile_image\":false,\"following\":false,\"follow_request_sent\":false,\"notifications\":false},\"geo\":null,\"coordinates\":null,\"place\":null,\"contributors\":null,\"is_quote_status\":false,\"retweet_count\":0,\"favorite_count\":0,\"favorited\":false,\"retweeted\":false,\"lang\":\"en\"},{\"created_at\":\"Thu Jul 21 19:47:04 +0000 2016\",\"id\":756213925188866048,\"id_str\":\"756213925188866048\",\"text\":\"RT @IBMBluemixHelp: Analyze open data sets using pandas in a python notebook and @IBMBluemix https:\\\\/\\\\/t.co\\\\/EW2rUFMcxy https:\\\\/\\\\/t.co\\\\/kEwyF5polL\",\"truncated\":false,\"entities\":{\"hashtags\":[],\"symbols\":[],\"user_mentions\":[{\"screen_name\":\"IBMBluemixHelp\",\"name\":\"IBM Bluemix\\\\u00ae Support\",\"id\":3141780389,\"id_str\":\"3141780389\",\"indices\":[3,18]},{\"screen_name\":\"IBMBluemix\",\"name\":\"IBM Bluemix\\\\u00ae\",\"id\":2336770008,\"id_str\":\"2336770008\",\"indices\":[81,92]}],\"urls\":[{\"url\":\"https:\\\\/\\\\/t.co\\\\/EW2rUFMcxy\",\"expanded_url\":\"http:\\\\/\\\\/ibm.co\\\\/2a4EOrz\",\"display_url\":\"ibm.co\\\\/2a4EOrz\",\"indices\":[93,116]}],\"media\":[{\"id\":755448470287376385,\"id_str\":\"755448470287376385\",\"indices\":[117,140],\"media_url\":\"http:\\\\/\\\\/pbs.twimg.com\\\\/media\\\\/CnvkYZWXYAEIlhu.jpg\",\"media_url_https\":\"https:\\\\/\\\\/pbs.twimg.com\\\\/media\\\\/CnvkYZWXYAEIlhu.jpg\",\"url\":\"https:\\\\/\\\\/t.co\\\\/kEwyF5polL\",\"display_url\":\"pic.twitter.com\\\\/kEwyF5polL\",\"expanded_url\":\"http:\\\\/\\\\/twitter.com\\\\/IBMBluemixHelp\\\\/status\\\\/755448474401902592\\\\/photo\\\\/1\",\"type\":\"photo\",\"sizes\":{\"thumb\":{\"w\":150,\"h\":150,\"resize\":\"crop\"},\"small\":{\"w\":537,\"h\":179,\"resize\":\"fit\"},\"large\":{\"w\":537,\"h\":179,\"resize\":\"fit\"},\"medium\":{\"w\":537,\"h\":179,\"resize\":\"fit\"}},\"source_status_id\":755448474401902592,\"source_status_id_str\":\"755448474401902592\",\"source_user_id\":3141780389,\"source_user_id_str\":\"3141780389\"}]},\"metadata\":{\"iso_language_code\":\"en\",\"result_type\":\"recent\"},\"source\":\"\\\\u003ca href=\\\\\"http:\\\\/\\\\/twitter.com\\\\/download\\\\/android\\\\\" rel=\\\\\"nofollow\\\\\"\\\\u003eTwitter for Android\\\\u003c\\\\/a\\\\u003e\",\"in_reply_to_status_id\":null,\"in_reply_to_status_id_str\":null,\"in_reply_to_user_id\":null,\"in_reply_to_user_id_str\":null,\"in_reply_to_screen_name\":null,\"user\":{\"id\":4703847925,\"id_str\":\"4703847925\",\"name\":\"Ines Friedl\",\"screen_name\":\"friedl_ines\",\"location\":\"\",\"description\":\"\",\"url\":null,\"entities\":{\"description\":{\"urls\":[]}},\"protected\":false,\"followers_count\":17,\"friends_count\":19,\"listed_count\":85,\"created_at\":\"Sun Jan 03 16:39:28 +0000 2016\",\"favourites_count\":2,\"utc_offset\":null,\"time_zone\":null,\"geo_enabled\":false,\"verified\":false,\"statuses_count\":721,\"lang\":\"de\",\"contributors_enabled\":false,\"is_translator\":false,\"is_translation_enabled\":false,\"profile_background_color\":\"F5F8FA\",\"profile_background_image_url\":null,\"profile_background_image_url_https\":null,\"profile_background_tile\":false,\"profile_image_url\":\"http:\\\\/\\\\/abs.twimg.com\\\\/sticky\\\\/default_profile_images\\\\/default_profile_0_normal.png\",\"profile_image_url_https\":\"https:\\\\/\\\\/abs.twimg.com\\\\/sticky\\\\/default_profile_images\\\\/default_profile_0_normal.png\",\"profile_link_color\":\"2B7BB9\",\"profile_sidebar_border_color\":\"C0DEED\",\"profile_sidebar_fill_color\":\"DDEEF6\",\"profile_text_color\":\"333333\",\"profile_use_background_image\":true,\"has_extended_profile\":false,\"default_profile\":true,\"default_profile_image\":true,\"following\":false,\"follow_request_sent\":false,\"notifications\":false},\"geo\":null,\"coordinates\":null,\"place\":null,\"contributors\":null,\"retweeted_status\":{\"created_at\":\"Tue Jul 19 17:05:26 +0000 2016\",\"id\":755448474401902592,\"id_str\":\"755448474401902592\",\"text\":\"Analyze open data sets using pandas in a python notebook and @IBMBluemix https:\\\\/\\\\/t.co\\\\/EW2rUFMcxy https:\\\\/\\\\/t.co\\\\/kEwyF5polL\",\"truncated\":false,\"entities\":{\"hashtags\":[],\"symbols\":[],\"user_mentions\":[{\"screen_name\":\"IBMBluemix\",\"name\":\"IBM Bluemix\\\\u00ae\",\"id\":2336770008,\"id_str\":\"2336770008\",\"indices\":[61,72]}],\"urls\":[{\"url\":\"https:\\\\/\\\\/t.co\\\\/EW2rUFMcxy\",\"expanded_url\":\"http:\\\\/\\\\/ibm.co\\\\/2a4EOrz\",\"display_url\":\"ibm.co\\\\/2a4EOrz\",\"indices\":[73,96]}],\"media\":[{\"id\":755448470287376385,\"id_str\":\"755448470287376385\",\"indices\":[97,120],\"media_url\":\"http:\\\\/\\\\/pbs.twimg.com\\\\/media\\\\/CnvkYZWXYAEIlhu.jpg\",\"media_url_https\":\"https:\\\\/\\\\/pbs.twimg.com\\\\/media\\\\/CnvkYZWXYAEIlhu.jpg\",\"url\":\"https:\\\\/\\\\/t.co\\\\/kEwyF5polL\",\"display_url\":\"pic.twitter.com\\\\/kEwyF5polL\",\"expanded_url\":\"http:\\\\/\\\\/twitter.com\\\\/IBMBluemixHelp\\\\/status\\\\/755448474401902592\\\\/photo\\\\/1\",\"type\":\"photo\",\"sizes\":{\"thumb\":{\"w\":150,\"h\":150,\"resize\":\"crop\"},\"small\":{\"w\":537,\"h\":179,\"resize\":\"fit\"},\"large\":{\"w\":537,\"h\":179,\"resize\":\"fit\"},\"medium\":{\"w\":537,\"h\":179,\"resize\":\"fit\"}}}]},\"metadata\":{\"iso_language_code\":\"en\",\"result_type\":\"recent\"},\"source\":\"\\\\u003ca href=\\\\\"http:\\\\/\\\\/www.hootsuite.com\\\\\" rel=\\\\\"nofollow\\\\\"\\\\u003eHootsuite\\\\u003c\\\\/a\\\\u003e\",\"in_reply_to_status_id\":null,\"in_reply_to_status_id_str\":null,\"in_reply_to_user_id\":null,\"in_reply_to_user_id_str\":null,\"in_reply_to_screen_name\":null,\"user\":{\"id\":3141780389,\"id_str\":\"3141780389\",\"name\":\"IBM Bluemix\\\\u00ae Support\",\"screen_name\":\"IBMBluemixHelp\",\"location\":\"Worldwide\",\"description\":\"The official Bluemix Support account for how to info, announcements, and updates. We will help you find answers! Maintained by Bill Wentworth \\\\/ Ralph Earle\",\"url\":\"https:\\\\/\\\\/t.co\\\\/MKuyRcLHd3\",\"entities\":{\"url\":{\"urls\":[{\"url\":\"https:\\\\/\\\\/t.co\\\\/MKuyRcLHd3\",\"expanded_url\":\"https:\\\\/\\\\/developer.ibm.com\\\\/bluemix\\\\/support\\\\/\",\"display_url\":\"developer.ibm.com\\\\/bluemix\\\\/suppor\\\\u2026\",\"indices\":[0,23]}]},\"description\":{\"urls\":[]}},\"protected\":false,\"followers_count\":1023,\"friends_count\":1031,\"listed_count\":50,\"created_at\":\"Mon Apr 06 20:13:11 +0000 2015\",\"favourites_count\":5,\"utc_offset\":-18000,\"time_zone\":\"Central Time (US & Canada)\",\"geo_enabled\":false,\"verified\":false,\"statuses_count\":1692,\"lang\":\"en\",\"contributors_enabled\":false,\"is_translator\":false,\"is_translation_enabled\":false,\"profile_background_color\":\"C0DEED\",\"profile_background_image_url\":\"http:\\\\/\\\\/abs.twimg.com\\\\/images\\\\/themes\\\\/theme1\\\\/bg.png\",\"profile_background_image_url_https\":\"https:\\\\/\\\\/abs.twimg.com\\\\/images\\\\/themes\\\\/theme1\\\\/bg.png\",\"profile_background_tile\":false,\"profile_image_url\":\"http:\\\\/\\\\/pbs.twimg.com\\\\/profile_images\\\\/748850401600876545\\\\/fqtls_Js_normal.jpg\",\"profile_image_url_https\":\"https:\\\\/\\\\/pbs.twimg.com\\\\/profile_images\\\\/748850401600876545\\\\/fqtls_Js_normal.jpg\",\"profile_banner_url\":\"https:\\\\/\\\\/pbs.twimg.com\\\\/profile_banners\\\\/3141780389\\\\/1467374859\",\"profile_link_color\":\"0084B4\",\"profile_sidebar_border_color\":\"C0DEED\",\"profile_sidebar_fill_color\":\"DDEEF6\",\"profile_text_color\":\"333333\",\"profile_use_background_image\":true,\"has_extended_profile\":false,\"default_profile\":true,\"default_profile_image\":false,\"following\":false,\"follow_request_sent\":false,\"notifications\":false},\"geo\":null,\"coordinates\":null,\"place\":null,\"contributors\":null,\"is_quote_status\":false,\"retweet_count\":4,\"favorite_count\":3,\"favorited\":false,\"retweeted\":false,\"possibly_sensitive\":false,\"lang\":\"en\"},\"is_quote_status\":false,\"retweet_count\":4,\"favorite_count\":0,\"favorited\":false,\"retweeted\":false,\"possibly_sensitive\":false,\"lang\":\"en\"},{\"created_at\":\"Thu Jul 21 19:36:42 +0000 2016\",\"id\":756211316746887168,\"id_str\":\"756211316746887168\",\"text\":\"RT @PythonWeekly: An Introduction to Scientific Python - Pandas via @jamal_moir https:\\\\/\\\\/t.co\\\\/kulbovd8A7 #python #pandas\",\"truncated\":false,\"entities\":{\"hashtags\":[{\"text\":\"python\",\"indices\":[104,111]},{\"text\":\"pandas\",\"indices\":[112,119]}],\"symbols\":[],\"user_mentions\":[{\"screen_name\":\"PythonWeekly\",\"name\":\"Python Weekly\",\"id\":373620985,\"id_str\":\"373620985\",\"indices\":[3,16]},{\"screen_name\":\"jamal_moir\",\"name\":\"Jamal Moir\",\"id\":1715694649,\"id_str\":\"1715694649\",\"indices\":[68,79]}],\"urls\":[{\"url\":\"https:\\\\/\\\\/t.co\\\\/kulbovd8A7\",\"expanded_url\":\"http:\\\\/\\\\/buff.ly\\\\/29zOYPe\",\"display_url\":\"buff.ly\\\\/29zOYPe\",\"indices\":[80,103]}]},\"metadata\":{\"iso_language_code\":\"en\",\"result_type\":\"recent\"},\"source\":\"\\\\u003ca href=\\\\\"http:\\\\/\\\\/twitter.com\\\\\" rel=\\\\\"nofollow\\\\\"\\\\u003eTwitter Web Client\\\\u003c\\\\/a\\\\u003e\",\"in_reply_to_status_id\":null,\"in_reply_to_status_id_str\":null,\"in_reply_to_user_id\":null,\"in_reply_to_user_id_str\":null,\"in_reply_to_screen_name\":null,\"user\":{\"id\":430141510,\"id_str\":\"430141510\",\"name\":\"Angry Citizen\",\"screen_name\":\"100rage\",\"location\":\"\",\"description\":\"\\\\u0438\\\\u0437\\\\u043e\\\\u0431\\\\u0440\\\\u0435\\\\u0442\\\\u0430\\\\u044e \\\\u0444\\\\u0438\\\\u043b\\\\u043e\\\\u0441\\\\u043e\\\\u0444\\\\u0441\\\\u043a\\\\u0438\\\\u0439 \\\\u0432\\\\u0435\\\\u043b\\\\u043e\\\\u0441\\\\u0438\\\\u043f\\\\u0435\\\\u0434\",\"url\":null,\"entities\":{\"description\":{\"urls\":[]}},\"protected\":false,\"followers_count\":249,\"friends_count\":331,\"listed_count\":111,\"created_at\":\"Tue Dec 06 20:24:05 +0000 2011\",\"favourites_count\":2899,\"utc_offset\":10800,\"time_zone\":\"Moscow\",\"geo_enabled\":false,\"verified\":false,\"statuses_count\":18941,\"lang\":\"ru\",\"contributors_enabled\":false,\"is_translator\":false,\"is_translation_enabled\":false,\"profile_background_color\":\"C0DEED\",\"profile_background_image_url\":\"http:\\\\/\\\\/abs.twimg.com\\\\/images\\\\/themes\\\\/theme1\\\\/bg.png\",\"profile_background_image_url_https\":\"https:\\\\/\\\\/abs.twimg.com\\\\/images\\\\/themes\\\\/theme1\\\\/bg.png\",\"profile_background_tile\":false,\"profile_image_url\":\"http:\\\\/\\\\/pbs.twimg.com\\\\/profile_images\\\\/2280788837\\\\/1b6ax6wbc90hv1lgr8mr_normal.jpeg\",\"profile_image_url_https\":\"https:\\\\/\\\\/pbs.twimg.com\\\\/profile_images\\\\/2280788837\\\\/1b6ax6wbc90hv1lgr8mr_normal.jpeg\",\"profile_link_color\":\"0084B4\",\"profile_sidebar_border_color\":\"C0DEED\",\"profile_sidebar_fill_color\":\"DDEEF6\",\"profile_text_color\":\"333333\",\"profile_use_background_image\":true,\"has_extended_profile\":false,\"default_profile\":true,\"default_profile_image\":false,\"following\":false,\"follow_request_sent\":false,\"notifications\":false},\"geo\":null,\"coordinates\":null,\"place\":null,\"contributors\":null,\"retweeted_status\":{\"created_at\":\"Tue Jul 12 14:02:47 +0000 2016\",\"id\":752865794040729601,\"id_str\":\"752865794040729601\",\"text\":\"An Introduction to Scientific Python - Pandas via @jamal_moir https:\\\\/\\\\/t.co\\\\/kulbovd8A7 #python #pandas\",\"truncated\":false,\"entities\":{\"hashtags\":[{\"text\":\"python\",\"indices\":[86,93]},{\"text\":\"pandas\",\"indices\":[94,101]}],\"symbols\":[],\"user_mentions\":[{\"screen_name\":\"jamal_moir\",\"name\":\"Jamal Moir\",\"id\":1715694649,\"id_str\":\"1715694649\",\"indices\":[50,61]}],\"urls\":[{\"url\":\"https:\\\\/\\\\/t.co\\\\/kulbovd8A7\",\"expanded_url\":\"http:\\\\/\\\\/buff.ly\\\\/29zOYPe\",\"display_url\":\"buff.ly\\\\/29zOYPe\",\"indices\":[62,85]}]},\"metadata\":{\"iso_language_code\":\"en\",\"result_type\":\"recent\"},\"source\":\"\\\\u003ca href=\\\\\"http:\\\\/\\\\/bufferapp.com\\\\\" rel=\\\\\"nofollow\\\\\"\\\\u003eBuffer\\\\u003c\\\\/a\\\\u003e\",\"in_reply_to_status_id\":null,\"in_reply_to_status_id_str\":null,\"in_reply_to_user_id\":null,\"in_reply_to_user_id_str\":null,\"in_reply_to_screen_name\":null,\"user\":{\"id\":373620985,\"id_str\":\"373620985\",\"name\":\"Python Weekly\",\"screen_name\":\"PythonWeekly\",\"location\":\"\",\"description\":\"Python Weekly is a free weekly newsletter, which features curated news, articles, new releases, tools and libraries, events, jobs etc related to Python\",\"url\":\"http:\\\\/\\\\/t.co\\\\/D1OMRitAIv\",\"entities\":{\"url\":{\"urls\":[{\"url\":\"http:\\\\/\\\\/t.co\\\\/D1OMRitAIv\",\"expanded_url\":\"http:\\\\/\\\\/www.pythonweekly.com\\\\/\",\"display_url\":\"pythonweekly.com\",\"indices\":[0,22]}]},\"description\":{\"urls\":[]}},\"protected\":false,\"followers_count\":17531,\"friends_count\":0,\"listed_count\":855,\"created_at\":\"Wed Sep 14 22:49:27 +0000 2011\",\"favourites_count\":0,\"utc_offset\":null,\"time_zone\":null,\"geo_enabled\":false,\"verified\":false,\"statuses_count\":5830,\"lang\":\"en\",\"contributors_enabled\":false,\"is_translator\":false,\"is_translation_enabled\":false,\"profile_background_color\":\"1A1B1F\",\"profile_background_image_url\":\"http:\\\\/\\\\/abs.twimg.com\\\\/images\\\\/themes\\\\/theme9\\\\/bg.gif\",\"profile_background_image_url_https\":\"https:\\\\/\\\\/abs.twimg.com\\\\/images\\\\/themes\\\\/theme9\\\\/bg.gif\",\"profile_background_tile\":false,\"profile_image_url\":\"http:\\\\/\\\\/pbs.twimg.com\\\\/profile_images\\\\/1554238582\\\\/python_normal.jpg\",\"profile_image_url_https\":\"https:\\\\/\\\\/pbs.twimg.com\\\\/profile_images\\\\/1554238582\\\\/python_normal.jpg\",\"profile_link_color\":\"2FC2EF\",\"profile_sidebar_border_color\":\"181A1E\",\"profile_sidebar_fill_color\":\"252429\",\"profile_text_color\":\"666666\",\"profile_use_background_image\":true,\"has_extended_profile\":false,\"default_profile\":false,\"default_profile_image\":false,\"following\":false,\"follow_request_sent\":false,\"notifications\":false},\"geo\":null,\"coordinates\":null,\"place\":null,\"contributors\":null,\"is_quote_status\":false,\"retweet_count\":23,\"favorite_count\":35,\"favorited\":false,\"retweeted\":false,\"possibly_sensitive\":false,\"lang\":\"en\"},\"is_quote_status\":false,\"retweet_count\":23,\"favorite_count\":0,\"favorited\":false,\"retweeted\":false,\"possibly_sensitive\":false,\"lang\":\"en\"},{\"created_at\":\"Thu Jul 21 19:21:49 +0000 2016\",\"id\":756207571413774337,\"id_str\":\"756207571413774337\",\"text\":\"RT @PythonWeekly: An Introduction to Scientific Python - Pandas via @jamal_moir https:\\\\/\\\\/t.co\\\\/kulbovd8A7 #python #pandas\",\"truncated\":false,\"entities\":{\"hashtags\":[{\"text\":\"python\",\"indices\":[104,111]},{\"text\":\"pandas\",\"indices\":[112,119]}],\"symbols\":[],\"user_mentions\":[{\"screen_name\":\"PythonWeekly\",\"name\":\"Python Weekly\",\"id\":373620985,\"id_str\":\"373620985\",\"indices\":[3,16]},{\"screen_name\":\"jamal_moir\",\"name\":\"Jamal Moir\",\"id\":1715694649,\"id_str\":\"1715694649\",\"indices\":[68,79]}],\"urls\":[{\"url\":\"https:\\\\/\\\\/t.co\\\\/kulbovd8A7\",\"expanded_url\":\"http:\\\\/\\\\/buff.ly\\\\/29zOYPe\",\"display_url\":\"buff.ly\\\\/29zOYPe\",\"indices\":[80,103]}]},\"metadata\":{\"iso_language_code\":\"en\",\"result_type\":\"recent\"},\"source\":\"\\\\u003ca href=\\\\\"http:\\\\/\\\\/twitter.com\\\\/download\\\\/android\\\\\" rel=\\\\\"nofollow\\\\\"\\\\u003eTwitter for Android\\\\u003c\\\\/a\\\\u003e\",\"in_reply_to_status_id\":null,\"in_reply_to_status_id_str\":null,\"in_reply_to_user_id\":null,\"in_reply_to_user_id_str\":null,\"in_reply_to_screen_name\":null,\"user\":{\"id\":252715855,\"id_str\":\"252715855\",\"name\":\"p. su\\\\u00e1rez-serrato\",\"screen_name\":\"pflama\",\"location\":\"la gran tenochtitlan\",\"description\":\"maths n stuff\",\"url\":\"https:\\\\/\\\\/t.co\\\\/uWX9Y1U73c\",\"entities\":{\"url\":{\"urls\":[{\"url\":\"https:\\\\/\\\\/t.co\\\\/uWX9Y1U73c\",\"expanded_url\":\"http:\\\\/\\\\/www.matem.unam.mx\\\\/PabloSuarezSerrato\\\\/\",\"display_url\":\"matem.unam.mx\\\\/PabloSuarezSer\\\\u2026\",\"indices\":[0,23]}]},\"description\":{\"urls\":[]}},\"protected\":false,\"followers_count\":481,\"friends_count\":1167,\"listed_count\":28,\"created_at\":\"Tue Feb 15 19:21:29 +0000 2011\",\"favourites_count\":7355,\"utc_offset\":-21600,\"time_zone\":\"Mountain Time (US & Canada)\",\"geo_enabled\":false,\"verified\":false,\"statuses_count\":11396,\"lang\":\"en\",\"contributors_enabled\":false,\"is_translator\":false,\"is_translation_enabled\":false,\"profile_background_color\":\"FD9840\",\"profile_background_image_url\":\"http:\\\\/\\\\/pbs.twimg.com\\\\/profile_background_images\\\\/208203569\\\\/x5ad26fb8c72fcee3602a9d5d34d224d.png\",\"profile_background_image_url_https\":\"https:\\\\/\\\\/pbs.twimg.com\\\\/profile_background_images\\\\/208203569\\\\/x5ad26fb8c72fcee3602a9d5d34d224d.png\",\"profile_background_tile\":true,\"profile_image_url\":\"http:\\\\/\\\\/pbs.twimg.com\\\\/profile_images\\\\/602557843804278785\\\\/p-ZNCD-W_normal.jpg\",\"profile_image_url_https\":\"https:\\\\/\\\\/pbs.twimg.com\\\\/profile_images\\\\/602557843804278785\\\\/p-ZNCD-W_normal.jpg\",\"profile_banner_url\":\"https:\\\\/\\\\/pbs.twimg.com\\\\/profile_banners\\\\/252715855\\\\/1402251623\",\"profile_link_color\":\"A2CF7A\",\"profile_sidebar_border_color\":\"40830F\",\"profile_sidebar_fill_color\":\"6DA645\",\"profile_text_color\":\"E3E5CF\",\"profile_use_background_image\":true,\"has_extended_profile\":false,\"default_profile\":false,\"default_profile_image\":false,\"following\":false,\"follow_request_sent\":false,\"notifications\":false},\"geo\":null,\"coordinates\":null,\"place\":null,\"contributors\":null,\"retweeted_status\":{\"created_at\":\"Tue Jul 12 14:02:47 +0000 2016\",\"id\":752865794040729601,\"id_str\":\"752865794040729601\",\"text\":\"An Introduction to Scientific Python - Pandas via @jamal_moir https:\\\\/\\\\/t.co\\\\/kulbovd8A7 #python #pandas\",\"truncated\":false,\"entities\":{\"hashtags\":[{\"text\":\"python\",\"indices\":[86,93]},{\"text\":\"pandas\",\"indices\":[94,101]}],\"symbols\":[],\"user_mentions\":[{\"screen_name\":\"jamal_moir\",\"name\":\"Jamal Moir\",\"id\":1715694649,\"id_str\":\"1715694649\",\"indices\":[50,61]}],\"urls\":[{\"url\":\"https:\\\\/\\\\/t.co\\\\/kulbovd8A7\",\"expanded_url\":\"http:\\\\/\\\\/buff.ly\\\\/29zOYPe\",\"display_url\":\"buff.ly\\\\/29zOYPe\",\"indices\":[62,85]}]},\"metadata\":{\"iso_language_code\":\"en\",\"result_type\":\"recent\"},\"source\":\"\\\\u003ca href=\\\\\"http:\\\\/\\\\/bufferapp.com\\\\\" rel=\\\\\"nofollow\\\\\"\\\\u003eBuffer\\\\u003c\\\\/a\\\\u003e\",\"in_reply_to_status_id\":null,\"in_reply_to_status_id_str\":null,\"in_reply_to_user_id\":null,\"in_reply_to_user_id_str\":null,\"in_reply_to_screen_name\":null,\"user\":{\"id\":373620985,\"id_str\":\"373620985\",\"name\":\"Python Weekly\",\"screen_name\":\"PythonWeekly\",\"location\":\"\",\"description\":\"Python Weekly is a free weekly newsletter, which features curated news, articles, new releases, tools and libraries, events, jobs etc related to Python\",\"url\":\"http:\\\\/\\\\/t.co\\\\/D1OMRitAIv\",\"entities\":{\"url\":{\"urls\":[{\"url\":\"http:\\\\/\\\\/t.co\\\\/D1OMRitAIv\",\"expanded_url\":\"http:\\\\/\\\\/www.pythonweekly.com\\\\/\",\"display_url\":\"pythonweekly.com\",\"indices\":[0,22]}]},\"description\":{\"urls\":[]}},\"protected\":false,\"followers_count\":17531,\"friends_count\":0,\"listed_count\":855,\"created_at\":\"Wed Sep 14 22:49:27 +0000 2011\",\"favourites_count\":0,\"utc_offset\":null,\"time_zone\":null,\"geo_enabled\":false,\"verified\":false,\"statuses_count\":5830,\"lang\":\"en\",\"contributors_enabled\":false,\"is_translator\":false,\"is_translation_enabled\":false,\"profile_background_color\":\"1A1B1F\",\"profile_background_image_url\":\"http:\\\\/\\\\/abs.twimg.com\\\\/images\\\\/themes\\\\/theme9\\\\/bg.gif\",\"profile_background_image_url_https\":\"https:\\\\/\\\\/abs.twimg.com\\\\/images\\\\/themes\\\\/theme9\\\\/bg.gif\",\"profile_background_tile\":false,\"profile_image_url\":\"http:\\\\/\\\\/pbs.twimg.com\\\\/profile_images\\\\/1554238582\\\\/python_normal.jpg\",\"profile_image_url_https\":\"https:\\\\/\\\\/pbs.twimg.com\\\\/profile_images\\\\/1554238582\\\\/python_normal.jpg\",\"profile_link_color\":\"2FC2EF\",\"profile_sidebar_border_color\":\"181A1E\",\"profile_sidebar_fill_color\":\"252429\",\"profile_text_color\":\"666666\",\"profile_use_background_image\":true,\"has_extended_profile\":false,\"default_profile\":false,\"default_profile_image\":false,\"following\":false,\"follow_request_sent\":false,\"notifications\":false},\"geo\":null,\"coordinates\":null,\"place\":null,\"contributors\":null,\"is_quote_status\":false,\"retweet_count\":23,\"favorite_count\":35,\"favorited\":false,\"retweeted\":false,\"possibly_sensitive\":false,\"lang\":\"en\"},\"is_quote_status\":false,\"retweet_count\":23,\"favorite_count\":0,\"favorited\":false,\"retweeted\":false,\"possibly_sensitive\":false,\"lang\":\"en\"},{\"created_at\":\"Thu Jul 21 19:11:24 +0000 2016\",\"id\":756204952121466881,\"id_str\":\"756204952121466881\",\"text\":\"RT @PythonWeekly: An Introduction to Scientific Python - Pandas via @jamal_moir https:\\\\/\\\\/t.co\\\\/kulbovd8A7 #python #pandas\",\"truncated\":false,\"entities\":{\"hashtags\":[{\"text\":\"python\",\"indices\":[104,111]},{\"text\":\"pandas\",\"indices\":[112,119]}],\"symbols\":[],\"user_mentions\":[{\"screen_name\":\"PythonWeekly\",\"name\":\"Python Weekly\",\"id\":373620985,\"id_str\":\"373620985\",\"indices\":[3,16]},{\"screen_name\":\"jamal_moir\",\"name\":\"Jamal Moir\",\"id\":1715694649,\"id_str\":\"1715694649\",\"indices\":[68,79]}],\"urls\":[{\"url\":\"https:\\\\/\\\\/t.co\\\\/kulbovd8A7\",\"expanded_url\":\"http:\\\\/\\\\/buff.ly\\\\/29zOYPe\",\"display_url\":\"buff.ly\\\\/29zOYPe\",\"indices\":[80,103]}]},\"metadata\":{\"iso_language_code\":\"en\",\"result_type\":\"recent\"},\"source\":\"\\\\u003ca href=\\\\\"https:\\\\/\\\\/about.twitter.com\\\\/products\\\\/tweetdeck\\\\\" rel=\\\\\"nofollow\\\\\"\\\\u003eTweetDeck\\\\u003c\\\\/a\\\\u003e\",\"in_reply_to_status_id\":null,\"in_reply_to_status_id_str\":null,\"in_reply_to_user_id\":null,\"in_reply_to_user_id_str\":null,\"in_reply_to_screen_name\":null,\"user\":{\"id\":4690840926,\"id_str\":\"4690840926\",\"name\":\"Talk Data to Me\",\"screen_name\":\"talkdatatomee\",\"location\":\"\",\"description\":\"Page about #DataScience, #Statistics, #R, #Python and #DataVisualization \\\\/ #VeriBilimi, R, Python ve #VeriG\\\\u00f6rselle\\\\u015ftirme\",\"url\":\"https:\\\\/\\\\/t.co\\\\/m2fqC64RQf\",\"entities\":{\"url\":{\"urls\":[{\"url\":\"https:\\\\/\\\\/t.co\\\\/m2fqC64RQf\",\"expanded_url\":\"https:\\\\/\\\\/www.facebook.com\\\\/talkdatatome\",\"display_url\":\"facebook.com\\\\/talkdatatome\",\"indices\":[0,23]}]},\"description\":{\"urls\":[]}},\"protected\":false,\"followers_count\":79,\"friends_count\":187,\"listed_count\":123,\"created_at\":\"Fri Jan 01 18:21:38 +0000 2016\",\"favourites_count\":17,\"utc_offset\":10800,\"time_zone\":\"Istanbul\",\"geo_enabled\":false,\"verified\":false,\"statuses_count\":577,\"lang\":\"en-gb\",\"contributors_enabled\":false,\"is_translator\":false,\"is_translation_enabled\":false,\"profile_background_color\":\"F5F8FA\",\"profile_background_image_url\":null,\"profile_background_image_url_https\":null,\"profile_background_tile\":false,\"profile_image_url\":\"http:\\\\/\\\\/pbs.twimg.com\\\\/profile_images\\\\/682990864730320896\\\\/Qha8UVeB_normal.jpg\",\"profile_image_url_https\":\"https:\\\\/\\\\/pbs.twimg.com\\\\/profile_images\\\\/682990864730320896\\\\/Qha8UVeB_normal.jpg\",\"profile_banner_url\":\"https:\\\\/\\\\/pbs.twimg.com\\\\/profile_banners\\\\/4690840926\\\\/1451672677\",\"profile_link_color\":\"2B7BB9\",\"profile_sidebar_border_color\":\"C0DEED\",\"profile_sidebar_fill_color\":\"DDEEF6\",\"profile_text_color\":\"333333\",\"profile_use_background_image\":true,\"has_extended_profile\":false,\"default_profile\":true,\"default_profile_image\":false,\"following\":false,\"follow_request_sent\":false,\"notifications\":false},\"geo\":null,\"coordinates\":null,\"place\":null,\"contributors\":null,\"retweeted_status\":{\"created_at\":\"Tue Jul 12 14:02:47 +0000 2016\",\"id\":752865794040729601,\"id_str\":\"752865794040729601\",\"text\":\"An Introduction to Scientific Python - Pandas via @jamal_moir https:\\\\/\\\\/t.co\\\\/kulbovd8A7 #python #pandas\",\"truncated\":false,\"entities\":{\"hashtags\":[{\"text\":\"python\",\"indices\":[86,93]},{\"text\":\"pandas\",\"indices\":[94,101]}],\"symbols\":[],\"user_mentions\":[{\"screen_name\":\"jamal_moir\",\"name\":\"Jamal Moir\",\"id\":1715694649,\"id_str\":\"1715694649\",\"indices\":[50,61]}],\"urls\":[{\"url\":\"https:\\\\/\\\\/t.co\\\\/kulbovd8A7\",\"expanded_url\":\"http:\\\\/\\\\/buff.ly\\\\/29zOYPe\",\"display_url\":\"buff.ly\\\\/29zOYPe\",\"indices\":[62,85]}]},\"metadata\":{\"iso_language_code\":\"en\",\"result_type\":\"recent\"},\"source\":\"\\\\u003ca href=\\\\\"http:\\\\/\\\\/bufferapp.com\\\\\" rel=\\\\\"nofollow\\\\\"\\\\u003eBuffer\\\\u003c\\\\/a\\\\u003e\",\"in_reply_to_status_id\":null,\"in_reply_to_status_id_str\":null,\"in_reply_to_user_id\":null,\"in_reply_to_user_id_str\":null,\"in_reply_to_screen_name\":null,\"user\":{\"id\":373620985,\"id_str\":\"373620985\",\"name\":\"Python Weekly\",\"screen_name\":\"PythonWeekly\",\"location\":\"\",\"description\":\"Python Weekly is a free weekly newsletter, which features curated news, articles, new releases, tools and libraries, events, jobs etc related to Python\",\"url\":\"http:\\\\/\\\\/t.co\\\\/D1OMRitAIv\",\"entities\":{\"url\":{\"urls\":[{\"url\":\"http:\\\\/\\\\/t.co\\\\/D1OMRitAIv\",\"expanded_url\":\"http:\\\\/\\\\/www.pythonweekly.com\\\\/\",\"display_url\":\"pythonweekly.com\",\"indices\":[0,22]}]},\"description\":{\"urls\":[]}},\"protected\":false,\"followers_count\":17531,\"friends_count\":0,\"listed_count\":855,\"created_at\":\"Wed Sep 14 22:49:27 +0000 2011\",\"favourites_count\":0,\"utc_offset\":null,\"time_zone\":null,\"geo_enabled\":false,\"verified\":false,\"statuses_count\":5830,\"lang\":\"en\",\"contributors_enabled\":false,\"is_translator\":false,\"is_translation_enabled\":false,\"profile_background_color\":\"1A1B1F\",\"profile_background_image_url\":\"http:\\\\/\\\\/abs.twimg.com\\\\/images\\\\/themes\\\\/theme9\\\\/bg.gif\",\"profile_background_image_url_https\":\"https:\\\\/\\\\/abs.twimg.com\\\\/images\\\\/themes\\\\/theme9\\\\/bg.gif\",\"profile_background_tile\":false,\"profile_image_url\":\"http:\\\\/\\\\/pbs.twimg.com\\\\/profile_images\\\\/1554238582\\\\/python_normal.jpg\",\"profile_image_url_https\":\"https:\\\\/\\\\/pbs.twimg.com\\\\/profile_images\\\\/1554238582\\\\/python_normal.jpg\",\"profile_link_color\":\"2FC2EF\",\"profile_sidebar_border_color\":\"181A1E\",\"profile_sidebar_fill_color\":\"252429\",\"profile_text_color\":\"666666\",\"profile_use_background_image\":true,\"has_extended_profile\":false,\"default_profile\":false,\"default_profile_image\":false,\"following\":false,\"follow_request_sent\":false,\"notifications\":false},\"geo\":null,\"coordinates\":null,\"place\":null,\"contributors\":null,\"is_quote_status\":false,\"retweet_count\":23,\"favorite_count\":35,\"favorited\":false,\"retweeted\":false,\"possibly_sensitive\":false,\"lang\":\"en\"},\"is_quote_status\":false,\"retweet_count\":23,\"favorite_count\":0,\"favorited\":false,\"retweeted\":false,\"possibly_sensitive\":false,\"lang\":\"en\"},{\"created_at\":\"Thu Jul 21 19:08:08 +0000 2016\",\"id\":756204129458933760,\"id_str\":\"756204129458933760\",\"text\":\"Python Pandas - Segmentation Fault after renaming columns? https:\\\\/\\\\/t.co\\\\/nrIKhIGuNV\",\"truncated\":false,\"entities\":{\"hashtags\":[],\"symbols\":[],\"user_mentions\":[],\"urls\":[{\"url\":\"https:\\\\/\\\\/t.co\\\\/nrIKhIGuNV\",\"expanded_url\":\"http:\\\\/\\\\/bit.ly\\\\/2ak1Pq8\",\"display_url\":\"bit.ly\\\\/2ak1Pq8\",\"indices\":[59,82]}]},\"metadata\":{\"iso_language_code\":\"en\",\"result_type\":\"recent\"},\"source\":\"\\\\u003ca href=\\\\\"http:\\\\/\\\\/dlvr.it\\\\\" rel=\\\\\"nofollow\\\\\"\\\\u003edlvr.it\\\\u003c\\\\/a\\\\u003e\",\"in_reply_to_status_id\":null,\"in_reply_to_status_id_str\":null,\"in_reply_to_user_id\":null,\"in_reply_to_user_id_str\":null,\"in_reply_to_screen_name\":null,\"user\":{\"id\":1161509881,\"id_str\":\"1161509881\",\"name\":\"StackOverflowPandas\",\"screen_name\":\"PandasOverflow\",\"location\":\"\",\"description\":\"The latest Stack Overflow questions for #pandas data analysis in #python. Updates every 30 mins. Run by @treycausey, profile pic suggested by @seanjtaylor.\",\"url\":\"http:\\\\/\\\\/t.co\\\\/5MDsegoV\",\"entities\":{\"url\":{\"urls\":[{\"url\":\"http:\\\\/\\\\/t.co\\\\/5MDsegoV\",\"expanded_url\":\"http:\\\\/\\\\/stackoverflow.com\\\\/feeds\\\\/tag?tagnames=pandas&sort=newest\",\"display_url\":\"stackoverflow.com\\\\/feeds\\\\/tag?tagn\\\\u2026\",\"indices\":[0,20]}]},\"description\":{\"urls\":[]}},\"protected\":false,\"followers_count\":466,\"friends_count\":0,\"listed_count\":49,\"created_at\":\"Fri Feb 08 23:44:16 +0000 2013\",\"favourites_count\":0,\"utc_offset\":null,\"time_zone\":null,\"geo_enabled\":false,\"verified\":false,\"statuses_count\":27953,\"lang\":\"en\",\"contributors_enabled\":false,\"is_translator\":false,\"is_translation_enabled\":false,\"profile_background_color\":\"C0DEED\",\"profile_background_image_url\":\"http:\\\\/\\\\/abs.twimg.com\\\\/images\\\\/themes\\\\/theme1\\\\/bg.png\",\"profile_background_image_url_https\":\"https:\\\\/\\\\/abs.twimg.com\\\\/images\\\\/themes\\\\/theme1\\\\/bg.png\",\"profile_background_tile\":false,\"profile_image_url\":\"http:\\\\/\\\\/pbs.twimg.com\\\\/profile_images\\\\/3227118630\\\\/8df0034056ba4f32d2fd89f3c04f8aac_normal.jpeg\",\"profile_image_url_https\":\"https:\\\\/\\\\/pbs.twimg.com\\\\/profile_images\\\\/3227118630\\\\/8df0034056ba4f32d2fd89f3c04f8aac_normal.jpeg\",\"profile_link_color\":\"0084B4\",\"profile_sidebar_border_color\":\"C0DEED\",\"profile_sidebar_fill_color\":\"DDEEF6\",\"profile_text_color\":\"333333\",\"profile_use_background_image\":true,\"has_extended_profile\":false,\"default_profile\":true,\"default_profile_image\":false,\"following\":false,\"follow_request_sent\":false,\"notifications\":false},\"geo\":null,\"coordinates\":null,\"place\":null,\"contributors\":null,\"is_quote_status\":false,\"retweet_count\":1,\"favorite_count\":0,\"favorited\":false,\"retweeted\":false,\"possibly_sensitive\":false,\"lang\":\"en\"},{\"created_at\":\"Thu Jul 21 19:00:52 +0000 2016\",\"id\":756202299198992384,\"id_str\":\"756202299198992384\",\"text\":\"#Python Pandas - Segmentation Fault after renaming columns?\\\\n#Tech #News #HowTo\\\\nhttps:\\\\/\\\\/t.co\\\\/MKEvWujwCj\",\"truncated\":false,\"entities\":{\"hashtags\":[{\"text\":\"Python\",\"indices\":[0,7]},{\"text\":\"Tech\",\"indices\":[60,65]},{\"text\":\"News\",\"indices\":[66,71]},{\"text\":\"HowTo\",\"indices\":[72,78]}],\"symbols\":[],\"user_mentions\":[],\"urls\":[{\"url\":\"https:\\\\/\\\\/t.co\\\\/MKEvWujwCj\",\"expanded_url\":\"http:\\\\/\\\\/abizy.com\\\\/p\\\\/view.html?url=http:\\\\/\\\\/stackoverflow.com\\\\/questions\\\\/38512205\\\\/python-pandas-segmentation-fault-after-renaming-columns\",\"display_url\":\"abizy.com\\\\/p\\\\/view.html?ur\\\\u2026\",\"indices\":[79,102]}]},\"metadata\":{\"iso_language_code\":\"en\",\"result_type\":\"recent\"},\"source\":\"\\\\u003ca href=\\\\\"http:\\\\/\\\\/ifttt.com\\\\\" rel=\\\\\"nofollow\\\\\"\\\\u003eIFTTT\\\\u003c\\\\/a\\\\u003e\",\"in_reply_to_status_id\":null,\"in_reply_to_status_id_str\":null,\"in_reply_to_user_id\":null,\"in_reply_to_user_id_str\":null,\"in_reply_to_screen_name\":null,\"user\":{\"id\":4387442232,\"id_str\":\"4387442232\",\"name\":\"Daily Tech Issues\",\"screen_name\":\"AdamSmitht1\",\"location\":\"CN\",\"description\":\"Daily #Technology Issues & solutions: The height quality on going #Technology events, #news and #information through. Stay connected &  keep updated yourself.\",\"url\":\"https:\\\\/\\\\/t.co\\\\/ZxdvO1ZaiT\",\"entities\":{\"url\":{\"urls\":[{\"url\":\"https:\\\\/\\\\/t.co\\\\/ZxdvO1ZaiT\",\"expanded_url\":\"http:\\\\/\\\\/goo.gl\\\\/Q5C3zU\",\"display_url\":\"goo.gl\\\\/Q5C3zU\",\"indices\":[0,23]}]},\"description\":{\"urls\":[]}},\"protected\":false,\"followers_count\":1344,\"friends_count\":789,\"listed_count\":1548,\"created_at\":\"Sat Nov 28 11:03:01 +0000 2015\",\"favourites_count\":40,\"utc_offset\":-25200,\"time_zone\":\"Pacific Time (US & Canada)\",\"geo_enabled\":false,\"verified\":false,\"statuses_count\":414153,\"lang\":\"en\",\"contributors_enabled\":false,\"is_translator\":false,\"is_translation_enabled\":false,\"profile_background_color\":\"C0DEED\",\"profile_background_image_url\":\"http:\\\\/\\\\/abs.twimg.com\\\\/images\\\\/themes\\\\/theme1\\\\/bg.png\",\"profile_background_image_url_https\":\"https:\\\\/\\\\/abs.twimg.com\\\\/images\\\\/themes\\\\/theme1\\\\/bg.png\",\"profile_background_tile\":false,\"profile_image_url\":\"http:\\\\/\\\\/pbs.twimg.com\\\\/profile_images\\\\/671623862916812800\\\\/yGsDKiP4_normal.jpg\",\"profile_image_url_https\":\"https:\\\\/\\\\/pbs.twimg.com\\\\/profile_images\\\\/671623862916812800\\\\/yGsDKiP4_normal.jpg\",\"profile_banner_url\":\"https:\\\\/\\\\/pbs.twimg.com\\\\/profile_banners\\\\/4387442232\\\\/1448962831\",\"profile_link_color\":\"0084B4\",\"profile_sidebar_border_color\":\"C0DEED\",\"profile_sidebar_fill_color\":\"DDEEF6\",\"profile_text_color\":\"333333\",\"profile_use_background_image\":true,\"has_extended_profile\":false,\"default_profile\":true,\"default_profile_image\":false,\"following\":false,\"follow_request_sent\":false,\"notifications\":false},\"geo\":null,\"coordinates\":null,\"place\":null,\"contributors\":null,\"is_quote_status\":false,\"retweet_count\":0,\"favorite_count\":0,\"favorited\":false,\"retweeted\":false,\"possibly_sensitive\":false,\"lang\":\"en\"},{\"created_at\":\"Thu Jul 21 19:00:46 +0000 2016\",\"id\":756202274762919936,\"id_str\":\"756202274762919936\",\"text\":\"RT @PythonWeekly: An Introduction to Scientific Python - Pandas via @jamal_moir https:\\\\/\\\\/t.co\\\\/kulbovd8A7 #python #pandas\",\"truncated\":false,\"entities\":{\"hashtags\":[{\"text\":\"python\",\"indices\":[104,111]},{\"text\":\"pandas\",\"indices\":[112,119]}],\"symbols\":[],\"user_mentions\":[{\"screen_name\":\"PythonWeekly\",\"name\":\"Python Weekly\",\"id\":373620985,\"id_str\":\"373620985\",\"indices\":[3,16]},{\"screen_name\":\"jamal_moir\",\"name\":\"Jamal Moir\",\"id\":1715694649,\"id_str\":\"1715694649\",\"indices\":[68,79]}],\"urls\":[{\"url\":\"https:\\\\/\\\\/t.co\\\\/kulbovd8A7\",\"expanded_url\":\"http:\\\\/\\\\/buff.ly\\\\/29zOYPe\",\"display_url\":\"buff.ly\\\\/29zOYPe\",\"indices\":[80,103]}]},\"metadata\":{\"iso_language_code\":\"en\",\"result_type\":\"recent\"},\"source\":\"\\\\u003ca href=\\\\\"http:\\\\/\\\\/twitter.com\\\\/download\\\\/android\\\\\" rel=\\\\\"nofollow\\\\\"\\\\u003eTwitter for Android\\\\u003c\\\\/a\\\\u003e\",\"in_reply_to_status_id\":null,\"in_reply_to_status_id_str\":null,\"in_reply_to_user_id\":null,\"in_reply_to_user_id_str\":null,\"in_reply_to_screen_name\":null,\"user\":{\"id\":162092824,\"id_str\":\"162092824\",\"name\":\"Pavel Stephan Mu\\\\u00f1oz\",\"screen_name\":\"minibota\",\"location\":\"Nicaragua, Centroam\\\\u00e9rica\",\"description\":\"Believing in God. Father. Full stack VoIP developer working with: Linux. Asterisk, Kannel (SMPP). Web services. C, Java, Javascript, Python, Ionic, HTML5.\",\"url\":\"https:\\\\/\\\\/t.co\\\\/OwLSUufN18\",\"entities\":{\"url\":{\"urls\":[{\"url\":\"https:\\\\/\\\\/t.co\\\\/OwLSUufN18\",\"expanded_url\":\"http:\\\\/\\\\/www.thecosa.org\",\"display_url\":\"thecosa.org\",\"indices\":[0,23]}]},\"description\":{\"urls\":[]}},\"protected\":false,\"followers_count\":597,\"friends_count\":935,\"listed_count\":43,\"created_at\":\"Fri Jul 02 17:46:17 +0000 2010\",\"favourites_count\":1016,\"utc_offset\":-21600,\"time_zone\":\"Central America\",\"geo_enabled\":true,\"verified\":false,\"statuses_count\":22990,\"lang\":\"en\",\"contributors_enabled\":false,\"is_translator\":false,\"is_translation_enabled\":false,\"profile_background_color\":\"020812\",\"profile_background_image_url\":\"http:\\\\/\\\\/pbs.twimg.com\\\\/profile_background_images\\\\/431853546095382528\\\\/K3rm60hG.jpeg\",\"profile_background_image_url_https\":\"https:\\\\/\\\\/pbs.twimg.com\\\\/profile_background_images\\\\/431853546095382528\\\\/K3rm60hG.jpeg\",\"profile_background_tile\":false,\"profile_image_url\":\"http:\\\\/\\\\/pbs.twimg.com\\\\/profile_images\\\\/695652122537234432\\\\/_0iRZ_Ga_normal.jpg\",\"profile_image_url_https\":\"https:\\\\/\\\\/pbs.twimg.com\\\\/profile_images\\\\/695652122537234432\\\\/_0iRZ_Ga_normal.jpg\",\"profile_banner_url\":\"https:\\\\/\\\\/pbs.twimg.com\\\\/profile_banners\\\\/162092824\\\\/1409439460\",\"profile_link_color\":\"17406C\",\"profile_sidebar_border_color\":\"2280A9\",\"profile_sidebar_fill_color\":\"020812\",\"profile_text_color\":\"2280A9\",\"profile_use_background_image\":true,\"has_extended_profile\":false,\"default_profile\":false,\"default_profile_image\":false,\"following\":false,\"follow_request_sent\":false,\"notifications\":false},\"geo\":null,\"coordinates\":null,\"place\":null,\"contributors\":null,\"retweeted_status\":{\"created_at\":\"Tue Jul 12 14:02:47 +0000 2016\",\"id\":752865794040729601,\"id_str\":\"752865794040729601\",\"text\":\"An Introduction to Scientific Python - Pandas via @jamal_moir https:\\\\/\\\\/t.co\\\\/kulbovd8A7 #python #pandas\",\"truncated\":false,\"entities\":{\"hashtags\":[{\"text\":\"python\",\"indices\":[86,93]},{\"text\":\"pandas\",\"indices\":[94,101]}],\"symbols\":[],\"user_mentions\":[{\"screen_name\":\"jamal_moir\",\"name\":\"Jamal Moir\",\"id\":1715694649,\"id_str\":\"1715694649\",\"indices\":[50,61]}],\"urls\":[{\"url\":\"https:\\\\/\\\\/t.co\\\\/kulbovd8A7\",\"expanded_url\":\"http:\\\\/\\\\/buff.ly\\\\/29zOYPe\",\"display_url\":\"buff.ly\\\\/29zOYPe\",\"indices\":[62,85]}]},\"metadata\":{\"iso_language_code\":\"en\",\"result_type\":\"recent\"},\"source\":\"\\\\u003ca href=\\\\\"http:\\\\/\\\\/bufferapp.com\\\\\" rel=\\\\\"nofollow\\\\\"\\\\u003eBuffer\\\\u003c\\\\/a\\\\u003e\",\"in_reply_to_status_id\":null,\"in_reply_to_status_id_str\":null,\"in_reply_to_user_id\":null,\"in_reply_to_user_id_str\":null,\"in_reply_to_screen_name\":null,\"user\":{\"id\":373620985,\"id_str\":\"373620985\",\"name\":\"Python Weekly\",\"screen_name\":\"PythonWeekly\",\"location\":\"\",\"description\":\"Python Weekly is a free weekly newsletter, which features curated news, articles, new releases, tools and libraries, events, jobs etc related to Python\",\"url\":\"http:\\\\/\\\\/t.co\\\\/D1OMRitAIv\",\"entities\":{\"url\":{\"urls\":[{\"url\":\"http:\\\\/\\\\/t.co\\\\/D1OMRitAIv\",\"expanded_url\":\"http:\\\\/\\\\/www.pythonweekly.com\\\\/\",\"display_url\":\"pythonweekly.com\",\"indices\":[0,22]}]},\"description\":{\"urls\":[]}},\"protected\":false,\"followers_count\":17531,\"friends_count\":0,\"listed_count\":855,\"created_at\":\"Wed Sep 14 22:49:27 +0000 2011\",\"favourites_count\":0,\"utc_offset\":null,\"time_zone\":null,\"geo_enabled\":false,\"verified\":false,\"statuses_count\":5830,\"lang\":\"en\",\"contributors_enabled\":false,\"is_translator\":false,\"is_translation_enabled\":false,\"profile_background_color\":\"1A1B1F\",\"profile_background_image_url\":\"http:\\\\/\\\\/abs.twimg.com\\\\/images\\\\/themes\\\\/theme9\\\\/bg.gif\",\"profile_background_image_url_https\":\"https:\\\\/\\\\/abs.twimg.com\\\\/images\\\\/themes\\\\/theme9\\\\/bg.gif\",\"profile_background_tile\":false,\"profile_image_url\":\"http:\\\\/\\\\/pbs.twimg.com\\\\/profile_images\\\\/1554238582\\\\/python_normal.jpg\",\"profile_image_url_https\":\"https:\\\\/\\\\/pbs.twimg.com\\\\/profile_images\\\\/1554238582\\\\/python_normal.jpg\",\"profile_link_color\":\"2FC2EF\",\"profile_sidebar_border_color\":\"181A1E\",\"profile_sidebar_fill_color\":\"252429\",\"profile_text_color\":\"666666\",\"profile_use_background_image\":true,\"has_extended_profile\":false,\"default_profile\":false,\"default_profile_image\":false,\"following\":false,\"follow_request_sent\":false,\"notifications\":false},\"geo\":null,\"coordinates\":null,\"place\":null,\"contributors\":null,\"is_quote_status\":false,\"retweet_count\":23,\"favorite_count\":35,\"favorited\":false,\"retweeted\":false,\"possibly_sensitive\":false,\"lang\":\"en\"},\"is_quote_status\":false,\"retweet_count\":23,\"favorite_count\":0,\"favorited\":false,\"retweeted\":false,\"possibly_sensitive\":false,\"lang\":\"en\"},{\"created_at\":\"Thu Jul 21 18:59:39 +0000 2016\",\"id\":756201992092053504,\"id_str\":\"756201992092053504\",\"text\":\"RT @PythonWeekly: An Introduction to Scientific Python - Pandas via @jamal_moir https:\\\\/\\\\/t.co\\\\/kulbovd8A7 #python #pandas\",\"truncated\":false,\"entities\":{\"hashtags\":[{\"text\":\"python\",\"indices\":[104,111]},{\"text\":\"pandas\",\"indices\":[112,119]}],\"symbols\":[],\"user_mentions\":[{\"screen_name\":\"PythonWeekly\",\"name\":\"Python Weekly\",\"id\":373620985,\"id_str\":\"373620985\",\"indices\":[3,16]},{\"screen_name\":\"jamal_moir\",\"name\":\"Jamal Moir\",\"id\":1715694649,\"id_str\":\"1715694649\",\"indices\":[68,79]}],\"urls\":[{\"url\":\"https:\\\\/\\\\/t.co\\\\/kulbovd8A7\",\"expanded_url\":\"http:\\\\/\\\\/buff.ly\\\\/29zOYPe\",\"display_url\":\"buff.ly\\\\/29zOYPe\",\"indices\":[80,103]}]},\"metadata\":{\"iso_language_code\":\"en\",\"result_type\":\"recent\"},\"source\":\"\\\\u003ca href=\\\\\"http:\\\\/\\\\/twitter.com\\\\\" rel=\\\\\"nofollow\\\\\"\\\\u003eTwitter Web Client\\\\u003c\\\\/a\\\\u003e\",\"in_reply_to_status_id\":null,\"in_reply_to_status_id_str\":null,\"in_reply_to_user_id\":null,\"in_reply_to_user_id_str\":null,\"in_reply_to_screen_name\":null,\"user\":{\"id\":3018841323,\"id_str\":\"3018841323\",\"name\":\"Open Data Science\",\"screen_name\":\"odsc\",\"location\":\"Boston, MA \",\"description\":\"Bringing together the global data science community to help foster the exchange of innovative ideas and encourage the growth of open source software.\",\"url\":\"https:\\\\/\\\\/t.co\\\\/UBbHYS8ReL\",\"entities\":{\"url\":{\"urls\":[{\"url\":\"https:\\\\/\\\\/t.co\\\\/UBbHYS8ReL\",\"expanded_url\":\"http:\\\\/\\\\/odsc.com\",\"display_url\":\"odsc.com\",\"indices\":[0,23]}]},\"description\":{\"urls\":[]}},\"protected\":false,\"followers_count\":21090,\"friends_count\":11505,\"listed_count\":1126,\"created_at\":\"Wed Feb 04 22:35:11 +0000 2015\",\"favourites_count\":4756,\"utc_offset\":-25200,\"time_zone\":\"Pacific Time (US & Canada)\",\"geo_enabled\":true,\"verified\":false,\"statuses_count\":9956,\"lang\":\"en\",\"contributors_enabled\":false,\"is_translator\":false,\"is_translation_enabled\":false,\"profile_background_color\":\"131516\",\"profile_background_image_url\":\"http:\\\\/\\\\/abs.twimg.com\\\\/images\\\\/themes\\\\/theme14\\\\/bg.gif\",\"profile_background_image_url_https\":\"https:\\\\/\\\\/abs.twimg.com\\\\/images\\\\/themes\\\\/theme14\\\\/bg.gif\",\"profile_background_tile\":true,\"profile_image_url\":\"http:\\\\/\\\\/pbs.twimg.com\\\\/profile_images\\\\/623923923441348612\\\\/HxO7gaZZ_normal.png\",\"profile_image_url_https\":\"https:\\\\/\\\\/pbs.twimg.com\\\\/profile_images\\\\/623923923441348612\\\\/HxO7gaZZ_normal.png\",\"profile_banner_url\":\"https:\\\\/\\\\/pbs.twimg.com\\\\/profile_banners\\\\/3018841323\\\\/1453829160\",\"profile_link_color\":\"009999\",\"profile_sidebar_border_color\":\"EEEEEE\",\"profile_sidebar_fill_color\":\"EFEFEF\",\"profile_text_color\":\"333333\",\"profile_use_background_image\":true,\"has_extended_profile\":false,\"default_profile\":false,\"default_profile_image\":false,\"following\":false,\"follow_request_sent\":false,\"notifications\":false},\"geo\":null,\"coordinates\":null,\"place\":null,\"contributors\":null,\"retweeted_status\":{\"created_at\":\"Tue Jul 12 14:02:47 +0000 2016\",\"id\":752865794040729601,\"id_str\":\"752865794040729601\",\"text\":\"An Introduction to Scientific Python - Pandas via @jamal_moir https:\\\\/\\\\/t.co\\\\/kulbovd8A7 #python #pandas\",\"truncated\":false,\"entities\":{\"hashtags\":[{\"text\":\"python\",\"indices\":[86,93]},{\"text\":\"pandas\",\"indices\":[94,101]}],\"symbols\":[],\"user_mentions\":[{\"screen_name\":\"jamal_moir\",\"name\":\"Jamal Moir\",\"id\":1715694649,\"id_str\":\"1715694649\",\"indices\":[50,61]}],\"urls\":[{\"url\":\"https:\\\\/\\\\/t.co\\\\/kulbovd8A7\",\"expanded_url\":\"http:\\\\/\\\\/buff.ly\\\\/29zOYPe\",\"display_url\":\"buff.ly\\\\/29zOYPe\",\"indices\":[62,85]}]},\"metadata\":{\"iso_language_code\":\"en\",\"result_type\":\"recent\"},\"source\":\"\\\\u003ca href=\\\\\"http:\\\\/\\\\/bufferapp.com\\\\\" rel=\\\\\"nofollow\\\\\"\\\\u003eBuffer\\\\u003c\\\\/a\\\\u003e\",\"in_reply_to_status_id\":null,\"in_reply_to_status_id_str\":null,\"in_reply_to_user_id\":null,\"in_reply_to_user_id_str\":null,\"in_reply_to_screen_name\":null,\"user\":{\"id\":373620985,\"id_str\":\"373620985\",\"name\":\"Python Weekly\",\"screen_name\":\"PythonWeekly\",\"location\":\"\",\"description\":\"Python Weekly is a free weekly newsletter, which features curated news, articles, new releases, tools and libraries, events, jobs etc related to Python\",\"url\":\"http:\\\\/\\\\/t.co\\\\/D1OMRitAIv\",\"entities\":{\"url\":{\"urls\":[{\"url\":\"http:\\\\/\\\\/t.co\\\\/D1OMRitAIv\",\"expanded_url\":\"http:\\\\/\\\\/www.pythonweekly.com\\\\/\",\"display_url\":\"pythonweekly.com\",\"indices\":[0,22]}]},\"description\":{\"urls\":[]}},\"protected\":false,\"followers_count\":17531,\"friends_count\":0,\"listed_count\":855,\"created_at\":\"Wed Sep 14 22:49:27 +0000 2011\",\"favourites_count\":0,\"utc_offset\":null,\"time_zone\":null,\"geo_enabled\":false,\"verified\":false,\"statuses_count\":5830,\"lang\":\"en\",\"contributors_enabled\":false,\"is_translator\":false,\"is_translation_enabled\":false,\"profile_background_color\":\"1A1B1F\",\"profile_background_image_url\":\"http:\\\\/\\\\/abs.twimg.com\\\\/images\\\\/themes\\\\/theme9\\\\/bg.gif\",\"profile_background_image_url_https\":\"https:\\\\/\\\\/abs.twimg.com\\\\/images\\\\/themes\\\\/theme9\\\\/bg.gif\",\"profile_background_tile\":false,\"profile_image_url\":\"http:\\\\/\\\\/pbs.twimg.com\\\\/profile_images\\\\/1554238582\\\\/python_normal.jpg\",\"profile_image_url_https\":\"https:\\\\/\\\\/pbs.twimg.com\\\\/profile_images\\\\/1554238582\\\\/python_normal.jpg\",\"profile_link_color\":\"2FC2EF\",\"profile_sidebar_border_color\":\"181A1E\",\"profile_sidebar_fill_color\":\"252429\",\"profile_text_color\":\"666666\",\"profile_use_background_image\":true,\"has_extended_profile\":false,\"default_profile\":false,\"default_profile_image\":false,\"following\":false,\"follow_request_sent\":false,\"notifications\":false},\"geo\":null,\"coordinates\":null,\"place\":null,\"contributors\":null,\"is_quote_status\":false,\"retweet_count\":23,\"favorite_count\":35,\"favorited\":false,\"retweeted\":false,\"possibly_sensitive\":false,\"lang\":\"en\"},\"is_quote_status\":false,\"retweet_count\":23,\"favorite_count\":0,\"favorited\":false,\"retweeted\":false,\"possibly_sensitive\":false,\"lang\":\"en\"},{\"created_at\":\"Thu Jul 21 18:44:53 +0000 2016\",\"id\":756198277700214784,\"id_str\":\"756198277700214784\",\"text\":\"Modern Pandas #Python For Data Analysis (Part 6) \\\\u2013 Visualization - https:\\\\/\\\\/t.co\\\\/lkBvsmxw5i\",\"truncated\":false,\"entities\":{\"hashtags\":[{\"text\":\"Python\",\"indices\":[14,21]}],\"symbols\":[],\"user_mentions\":[],\"urls\":[{\"url\":\"https:\\\\/\\\\/t.co\\\\/lkBvsmxw5i\",\"expanded_url\":\"http:\\\\/\\\\/klou.tt\\\\/1riy4mi32nzf9\",\"display_url\":\"klou.tt\\\\/1riy4mi32nzf9\",\"indices\":[67,90]}]},\"metadata\":{\"iso_language_code\":\"en\",\"result_type\":\"recent\"},\"source\":\"\\\\u003ca href=\\\\\"http:\\\\/\\\\/klout.com\\\\\" rel=\\\\\"nofollow\\\\\"\\\\u003ePost with Klout\\\\u003c\\\\/a\\\\u003e\",\"in_reply_to_status_id\":null,\"in_reply_to_status_id_str\":null,\"in_reply_to_user_id\":null,\"in_reply_to_user_id_str\":null,\"in_reply_to_screen_name\":null,\"user\":{\"id\":176026330,\"id_str\":\"176026330\",\"name\":\"\\\\u2764 Ishah \\\\u2764\",\"screen_name\":\"Ishahit\",\"location\":\"Genova\",\"description\":\"Ingegnere & #DataScience PhD | #MarketingStrategist & #GrowthHacker | #Mamma e docente formatrice che ama la #Natura, la #Tecnologia e la #Matematica.\",\"url\":\"https:\\\\/\\\\/t.co\\\\/WAPEys36TW\",\"entities\":{\"url\":{\"urls\":[{\"url\":\"https:\\\\/\\\\/t.co\\\\/WAPEys36TW\",\"expanded_url\":\"http:\\\\/\\\\/www.blog.kidscode.it\",\"display_url\":\"blog.kidscode.it\",\"indices\":[0,23]}]},\"description\":{\"urls\":[]}},\"protected\":false,\"followers_count\":3272,\"friends_count\":1758,\"listed_count\":1004,\"created_at\":\"Sun Aug 08 09:46:53 +0000 2010\",\"favourites_count\":3440,\"utc_offset\":7200,\"time_zone\":\"Rome\",\"geo_enabled\":false,\"verified\":false,\"statuses_count\":17236,\"lang\":\"it\",\"contributors_enabled\":false,\"is_translator\":false,\"is_translation_enabled\":false,\"profile_background_color\":\"FFCC4D\",\"profile_background_image_url\":\"http:\\\\/\\\\/pbs.twimg.com\\\\/profile_background_images\\\\/574317413958725634\\\\/NpIBo0H0.jpeg\",\"profile_background_image_url_https\":\"https:\\\\/\\\\/pbs.twimg.com\\\\/profile_background_images\\\\/574317413958725634\\\\/NpIBo0H0.jpeg\",\"profile_background_tile\":false,\"profile_image_url\":\"http:\\\\/\\\\/pbs.twimg.com\\\\/profile_images\\\\/737239301591830528\\\\/HrXEU5GF_normal.jpg\",\"profile_image_url_https\":\"https:\\\\/\\\\/pbs.twimg.com\\\\/profile_images\\\\/737239301591830528\\\\/HrXEU5GF_normal.jpg\",\"profile_banner_url\":\"https:\\\\/\\\\/pbs.twimg.com\\\\/profile_banners\\\\/176026330\\\\/1464605611\",\"profile_link_color\":\"1B95E0\",\"profile_sidebar_border_color\":\"F2E195\",\"profile_sidebar_fill_color\":\"FFF7CC\",\"profile_text_color\":\"0C3E53\",\"profile_use_background_image\":false,\"has_extended_profile\":true,\"default_profile\":false,\"default_profile_image\":false,\"following\":false,\"follow_request_sent\":false,\"notifications\":false},\"geo\":null,\"coordinates\":null,\"place\":null,\"contributors\":null,\"is_quote_status\":false,\"retweet_count\":0,\"favorite_count\":1,\"favorited\":false,\"retweeted\":false,\"possibly_sensitive\":false,\"lang\":\"en\"}],\"search_metadata\":{\"completed_in\":0.053,\"max_id\":756249237604753410,\"max_id_str\":\"756249237604753410\",\"next_results\":\"?max_id=756198277700214783&q=python%20pandas&include_entities=1\",\"query\":\"python+pandas\",\"refresh_url\":\"?since_id=756249237604753410&q=python%20pandas&include_entities=1\",\"count\":15,\"since_id\":0,\"since_id_str\":\"0\"}}'"
      ]
     },
     "execution_count": 140,
     "metadata": {},
     "output_type": "execute_result"
    }
   ],
   "source": [
    "data"
   ]
  },
  {
   "cell_type": "code",
   "execution_count": 141,
   "metadata": {
    "collapsed": false
   },
   "outputs": [],
   "source": [
    "tweets = json.loads(data)"
   ]
  },
  {
   "cell_type": "code",
   "execution_count": 142,
   "metadata": {
    "collapsed": false
   },
   "outputs": [
    {
     "data": {
      "text/plain": [
       "[u'search_metadata', u'statuses']"
      ]
     },
     "execution_count": 142,
     "metadata": {},
     "output_type": "execute_result"
    }
   ],
   "source": [
    "tweets.keys()"
   ]
  },
  {
   "cell_type": "code",
   "execution_count": 143,
   "metadata": {
    "collapsed": false
   },
   "outputs": [
    {
     "data": {
      "text/plain": [
       "u'kattelo'"
      ]
     },
     "execution_count": 143,
     "metadata": {},
     "output_type": "execute_result"
    }
   ],
   "source": [
    "tweets['statuses'][1]['user']['screen_name']"
   ]
  },
  {
   "cell_type": "code",
   "execution_count": 144,
   "metadata": {
    "collapsed": false
   },
   "outputs": [],
   "source": [
    "tweet_fields = ['created_at', 'user', 'id', 'text']"
   ]
  },
  {
   "cell_type": "code",
   "execution_count": 145,
   "metadata": {
    "collapsed": false
   },
   "outputs": [],
   "source": [
    "tweet = DataFrame(tweets['statuses'], columns=tweet_fields)"
   ]
  },
  {
   "cell_type": "code",
   "execution_count": 146,
   "metadata": {
    "collapsed": false
   },
   "outputs": [
    {
     "data": {
      "text/html": [
       "<div>\n",
       "<table border=\"1\" class=\"dataframe\">\n",
       "  <thead>\n",
       "    <tr style=\"text-align: right;\">\n",
       "      <th></th>\n",
       "      <th>created_at</th>\n",
       "      <th>user</th>\n",
       "      <th>id</th>\n",
       "      <th>text</th>\n",
       "    </tr>\n",
       "  </thead>\n",
       "  <tbody>\n",
       "    <tr>\n",
       "      <th>0</th>\n",
       "      <td>Thu Jul 21 22:07:23 +0000 2016</td>\n",
       "      <td>{u'follow_request_sent': False, u'has_extended...</td>\n",
       "      <td>756249237604753410</td>\n",
       "      <td>Adding a Python data cleansing tutorial to Git...</td>\n",
       "    </tr>\n",
       "    <tr>\n",
       "      <th>1</th>\n",
       "      <td>Thu Jul 21 22:02:08 +0000 2016</td>\n",
       "      <td>{u'follow_request_sent': False, u'has_extended...</td>\n",
       "      <td>756247916394778625</td>\n",
       "      <td>Adding a Python data cleansing tutorial to Git...</td>\n",
       "    </tr>\n",
       "    <tr>\n",
       "      <th>2</th>\n",
       "      <td>Thu Jul 21 21:31:48 +0000 2016</td>\n",
       "      <td>{u'follow_request_sent': False, u'has_extended...</td>\n",
       "      <td>756240283487105024</td>\n",
       "      <td>An Introduction to Scientific #Python - Pandas...</td>\n",
       "    </tr>\n",
       "    <tr>\n",
       "      <th>3</th>\n",
       "      <td>Thu Jul 21 20:40:37 +0000 2016</td>\n",
       "      <td>{u'follow_request_sent': False, u'has_extended...</td>\n",
       "      <td>756227404566265856</td>\n",
       "      <td>Pretty sure Numpy/Pandas are just a way for R'...</td>\n",
       "    </tr>\n",
       "    <tr>\n",
       "      <th>4</th>\n",
       "      <td>Thu Jul 21 20:32:11 +0000 2016</td>\n",
       "      <td>{u'follow_request_sent': False, u'has_extended...</td>\n",
       "      <td>756225278389678080</td>\n",
       "      <td>RT @IBMBluemixHelp: Analyze open data sets usi...</td>\n",
       "    </tr>\n",
       "  </tbody>\n",
       "</table>\n",
       "</div>"
      ],
      "text/plain": [
       "                       created_at  \\\n",
       "0  Thu Jul 21 22:07:23 +0000 2016   \n",
       "1  Thu Jul 21 22:02:08 +0000 2016   \n",
       "2  Thu Jul 21 21:31:48 +0000 2016   \n",
       "3  Thu Jul 21 20:40:37 +0000 2016   \n",
       "4  Thu Jul 21 20:32:11 +0000 2016   \n",
       "\n",
       "                                                user                  id  \\\n",
       "0  {u'follow_request_sent': False, u'has_extended...  756249237604753410   \n",
       "1  {u'follow_request_sent': False, u'has_extended...  756247916394778625   \n",
       "2  {u'follow_request_sent': False, u'has_extended...  756240283487105024   \n",
       "3  {u'follow_request_sent': False, u'has_extended...  756227404566265856   \n",
       "4  {u'follow_request_sent': False, u'has_extended...  756225278389678080   \n",
       "\n",
       "                                                text  \n",
       "0  Adding a Python data cleansing tutorial to Git...  \n",
       "1  Adding a Python data cleansing tutorial to Git...  \n",
       "2  An Introduction to Scientific #Python - Pandas...  \n",
       "3  Pretty sure Numpy/Pandas are just a way for R'...  \n",
       "4  RT @IBMBluemixHelp: Analyze open data sets usi...  "
      ]
     },
     "execution_count": 146,
     "metadata": {},
     "output_type": "execute_result"
    }
   ],
   "source": [
    "tweet[:5]"
   ]
  },
  {
   "cell_type": "code",
   "execution_count": 147,
   "metadata": {
    "collapsed": false
   },
   "outputs": [],
   "source": [
    "screen_name = [name['screen_name'] for name in tweet['user']]"
   ]
  },
  {
   "cell_type": "code",
   "execution_count": 148,
   "metadata": {
    "collapsed": false
   },
   "outputs": [
    {
     "data": {
      "text/plain": [
       "[u'klopmp',\n",
       " u'kattelo',\n",
       " u'gavg712',\n",
       " u'crashfrog',\n",
       " u'lj020326',\n",
       " u'EPetenko',\n",
       " u'friedl_ines',\n",
       " u'100rage',\n",
       " u'pflama',\n",
       " u'talkdatatomee',\n",
       " u'PandasOverflow',\n",
       " u'AdamSmitht1',\n",
       " u'minibota',\n",
       " u'odsc',\n",
       " u'Ishahit']"
      ]
     },
     "execution_count": 148,
     "metadata": {},
     "output_type": "execute_result"
    }
   ],
   "source": [
    "screen_name"
   ]
  },
  {
   "cell_type": "code",
   "execution_count": 149,
   "metadata": {
    "collapsed": true
   },
   "outputs": [],
   "source": [
    "tweet['user'] = screen_name"
   ]
  },
  {
   "cell_type": "code",
   "execution_count": 150,
   "metadata": {
    "collapsed": false
   },
   "outputs": [
    {
     "data": {
      "text/html": [
       "<div>\n",
       "<table border=\"1\" class=\"dataframe\">\n",
       "  <thead>\n",
       "    <tr style=\"text-align: right;\">\n",
       "      <th></th>\n",
       "      <th>created_at</th>\n",
       "      <th>user</th>\n",
       "      <th>id</th>\n",
       "      <th>text</th>\n",
       "    </tr>\n",
       "  </thead>\n",
       "  <tbody>\n",
       "    <tr>\n",
       "      <th>0</th>\n",
       "      <td>Thu Jul 21 22:07:23 +0000 2016</td>\n",
       "      <td>klopmp</td>\n",
       "      <td>756249237604753410</td>\n",
       "      <td>Adding a Python data cleansing tutorial to Git...</td>\n",
       "    </tr>\n",
       "    <tr>\n",
       "      <th>1</th>\n",
       "      <td>Thu Jul 21 22:02:08 +0000 2016</td>\n",
       "      <td>kattelo</td>\n",
       "      <td>756247916394778625</td>\n",
       "      <td>Adding a Python data cleansing tutorial to Git...</td>\n",
       "    </tr>\n",
       "    <tr>\n",
       "      <th>2</th>\n",
       "      <td>Thu Jul 21 21:31:48 +0000 2016</td>\n",
       "      <td>gavg712</td>\n",
       "      <td>756240283487105024</td>\n",
       "      <td>An Introduction to Scientific #Python - Pandas...</td>\n",
       "    </tr>\n",
       "    <tr>\n",
       "      <th>3</th>\n",
       "      <td>Thu Jul 21 20:40:37 +0000 2016</td>\n",
       "      <td>crashfrog</td>\n",
       "      <td>756227404566265856</td>\n",
       "      <td>Pretty sure Numpy/Pandas are just a way for R'...</td>\n",
       "    </tr>\n",
       "    <tr>\n",
       "      <th>4</th>\n",
       "      <td>Thu Jul 21 20:32:11 +0000 2016</td>\n",
       "      <td>lj020326</td>\n",
       "      <td>756225278389678080</td>\n",
       "      <td>RT @IBMBluemixHelp: Analyze open data sets usi...</td>\n",
       "    </tr>\n",
       "    <tr>\n",
       "      <th>5</th>\n",
       "      <td>Thu Jul 21 20:23:41 +0000 2016</td>\n",
       "      <td>EPetenko</td>\n",
       "      <td>756223143296004096</td>\n",
       "      <td>@McNeill_Tweets I've been using Pandas for a 2...</td>\n",
       "    </tr>\n",
       "    <tr>\n",
       "      <th>6</th>\n",
       "      <td>Thu Jul 21 19:47:04 +0000 2016</td>\n",
       "      <td>friedl_ines</td>\n",
       "      <td>756213925188866048</td>\n",
       "      <td>RT @IBMBluemixHelp: Analyze open data sets usi...</td>\n",
       "    </tr>\n",
       "    <tr>\n",
       "      <th>7</th>\n",
       "      <td>Thu Jul 21 19:36:42 +0000 2016</td>\n",
       "      <td>100rage</td>\n",
       "      <td>756211316746887168</td>\n",
       "      <td>RT @PythonWeekly: An Introduction to Scientifi...</td>\n",
       "    </tr>\n",
       "    <tr>\n",
       "      <th>8</th>\n",
       "      <td>Thu Jul 21 19:21:49 +0000 2016</td>\n",
       "      <td>pflama</td>\n",
       "      <td>756207571413774337</td>\n",
       "      <td>RT @PythonWeekly: An Introduction to Scientifi...</td>\n",
       "    </tr>\n",
       "    <tr>\n",
       "      <th>9</th>\n",
       "      <td>Thu Jul 21 19:11:24 +0000 2016</td>\n",
       "      <td>talkdatatomee</td>\n",
       "      <td>756204952121466881</td>\n",
       "      <td>RT @PythonWeekly: An Introduction to Scientifi...</td>\n",
       "    </tr>\n",
       "    <tr>\n",
       "      <th>10</th>\n",
       "      <td>Thu Jul 21 19:08:08 +0000 2016</td>\n",
       "      <td>PandasOverflow</td>\n",
       "      <td>756204129458933760</td>\n",
       "      <td>Python Pandas - Segmentation Fault after renam...</td>\n",
       "    </tr>\n",
       "    <tr>\n",
       "      <th>11</th>\n",
       "      <td>Thu Jul 21 19:00:52 +0000 2016</td>\n",
       "      <td>AdamSmitht1</td>\n",
       "      <td>756202299198992384</td>\n",
       "      <td>#Python Pandas - Segmentation Fault after rena...</td>\n",
       "    </tr>\n",
       "    <tr>\n",
       "      <th>12</th>\n",
       "      <td>Thu Jul 21 19:00:46 +0000 2016</td>\n",
       "      <td>minibota</td>\n",
       "      <td>756202274762919936</td>\n",
       "      <td>RT @PythonWeekly: An Introduction to Scientifi...</td>\n",
       "    </tr>\n",
       "    <tr>\n",
       "      <th>13</th>\n",
       "      <td>Thu Jul 21 18:59:39 +0000 2016</td>\n",
       "      <td>odsc</td>\n",
       "      <td>756201992092053504</td>\n",
       "      <td>RT @PythonWeekly: An Introduction to Scientifi...</td>\n",
       "    </tr>\n",
       "    <tr>\n",
       "      <th>14</th>\n",
       "      <td>Thu Jul 21 18:44:53 +0000 2016</td>\n",
       "      <td>Ishahit</td>\n",
       "      <td>756198277700214784</td>\n",
       "      <td>Modern Pandas #Python For Data Analysis (Part ...</td>\n",
       "    </tr>\n",
       "  </tbody>\n",
       "</table>\n",
       "</div>"
      ],
      "text/plain": [
       "                        created_at            user                  id  \\\n",
       "0   Thu Jul 21 22:07:23 +0000 2016          klopmp  756249237604753410   \n",
       "1   Thu Jul 21 22:02:08 +0000 2016         kattelo  756247916394778625   \n",
       "2   Thu Jul 21 21:31:48 +0000 2016         gavg712  756240283487105024   \n",
       "3   Thu Jul 21 20:40:37 +0000 2016       crashfrog  756227404566265856   \n",
       "4   Thu Jul 21 20:32:11 +0000 2016        lj020326  756225278389678080   \n",
       "5   Thu Jul 21 20:23:41 +0000 2016        EPetenko  756223143296004096   \n",
       "6   Thu Jul 21 19:47:04 +0000 2016     friedl_ines  756213925188866048   \n",
       "7   Thu Jul 21 19:36:42 +0000 2016         100rage  756211316746887168   \n",
       "8   Thu Jul 21 19:21:49 +0000 2016          pflama  756207571413774337   \n",
       "9   Thu Jul 21 19:11:24 +0000 2016   talkdatatomee  756204952121466881   \n",
       "10  Thu Jul 21 19:08:08 +0000 2016  PandasOverflow  756204129458933760   \n",
       "11  Thu Jul 21 19:00:52 +0000 2016     AdamSmitht1  756202299198992384   \n",
       "12  Thu Jul 21 19:00:46 +0000 2016        minibota  756202274762919936   \n",
       "13  Thu Jul 21 18:59:39 +0000 2016            odsc  756201992092053504   \n",
       "14  Thu Jul 21 18:44:53 +0000 2016         Ishahit  756198277700214784   \n",
       "\n",
       "                                                 text  \n",
       "0   Adding a Python data cleansing tutorial to Git...  \n",
       "1   Adding a Python data cleansing tutorial to Git...  \n",
       "2   An Introduction to Scientific #Python - Pandas...  \n",
       "3   Pretty sure Numpy/Pandas are just a way for R'...  \n",
       "4   RT @IBMBluemixHelp: Analyze open data sets usi...  \n",
       "5   @McNeill_Tweets I've been using Pandas for a 2...  \n",
       "6   RT @IBMBluemixHelp: Analyze open data sets usi...  \n",
       "7   RT @PythonWeekly: An Introduction to Scientifi...  \n",
       "8   RT @PythonWeekly: An Introduction to Scientifi...  \n",
       "9   RT @PythonWeekly: An Introduction to Scientifi...  \n",
       "10  Python Pandas - Segmentation Fault after renam...  \n",
       "11  #Python Pandas - Segmentation Fault after rena...  \n",
       "12  RT @PythonWeekly: An Introduction to Scientifi...  \n",
       "13  RT @PythonWeekly: An Introduction to Scientifi...  \n",
       "14  Modern Pandas #Python For Data Analysis (Part ...  "
      ]
     },
     "execution_count": 150,
     "metadata": {},
     "output_type": "execute_result"
    }
   ],
   "source": [
    "tweet"
   ]
  },
  {
   "cell_type": "code",
   "execution_count": 151,
   "metadata": {
    "collapsed": false
   },
   "outputs": [
    {
     "data": {
      "text/plain": [
       "created_at                       Thu Jul 21 19:36:42 +0000 2016\n",
       "user                                                    100rage\n",
       "id                                           756211316746887168\n",
       "text          RT @PythonWeekly: An Introduction to Scientifi...\n",
       "Name: 7, dtype: object"
      ]
     },
     "execution_count": 151,
     "metadata": {},
     "output_type": "execute_result"
    }
   ],
   "source": [
    "tweet.ix[7]"
   ]
  },
  {
   "cell_type": "code",
   "execution_count": null,
   "metadata": {
    "collapsed": true
   },
   "outputs": [],
   "source": []
  }
 ],
 "metadata": {
  "kernelspec": {
   "display_name": "Python 2",
   "language": "python",
   "name": "python2"
  },
  "language_info": {
   "codemirror_mode": {
    "name": "ipython",
    "version": 2
   },
   "file_extension": ".py",
   "mimetype": "text/x-python",
   "name": "python",
   "nbconvert_exporter": "python",
   "pygments_lexer": "ipython2",
   "version": "2.7.11"
  }
 },
 "nbformat": 4,
 "nbformat_minor": 0
}
