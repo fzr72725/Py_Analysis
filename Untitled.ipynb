{
 "cells": [
  {
   "cell_type": "code",
   "execution_count": 74,
   "metadata": {
    "collapsed": true
   },
   "outputs": [],
   "source": [
    "def selectionSort(my_list):\n",
    "    for index in range(len(my_list)-1,0,-1):\n",
    "        largest = 0\n",
    "        print index\n",
    "        for idx in range(1,index+1):\n",
    "            if my_list[idx]>my_list[largest]:\n",
    "                largest = idx\n",
    "        my_list[largest],my_list[index] = my_list[index],my_list[largest]\n",
    "    return my_list"
   ]
  },
  {
   "cell_type": "code",
   "execution_count": 75,
   "metadata": {
    "collapsed": true
   },
   "outputs": [],
   "source": [
    "alist = [54,26,93,17,77,31,44,55,20]"
   ]
  },
  {
   "cell_type": "code",
   "execution_count": 76,
   "metadata": {},
   "outputs": [
    {
     "name": "stdout",
     "output_type": "stream",
     "text": [
      "8\n",
      "7\n",
      "6\n",
      "5\n",
      "4\n",
      "3\n",
      "2\n",
      "1\n"
     ]
    },
    {
     "data": {
      "text/plain": [
       "[17, 20, 26, 31, 44, 54, 55, 77, 93]"
      ]
     },
     "execution_count": 76,
     "metadata": {},
     "output_type": "execute_result"
    }
   ],
   "source": [
    "selectionSort(alist)"
   ]
  },
  {
   "cell_type": "code",
   "execution_count": 91,
   "metadata": {},
   "outputs": [
    {
     "name": "stdout",
     "output_type": "stream",
     "text": [
      "224640\n"
     ]
    }
   ],
   "source": [
    "print 13*4*12*3*5*4*3*2"
   ]
  },
  {
   "cell_type": "code",
   "execution_count": 85,
   "metadata": {},
   "outputs": [
    {
     "name": "stdout",
     "output_type": "stream",
     "text": [
      "311875200\n"
     ]
    }
   ],
   "source": [
    "print 52*51*50*49*48"
   ]
  },
  {
   "cell_type": "code",
   "execution_count": 92,
   "metadata": {},
   "outputs": [
    {
     "name": "stdout",
     "output_type": "stream",
     "text": [
      "0.000720288115246\n"
     ]
    }
   ],
   "source": [
    "print float(224640)/float(311875200)"
   ]
  },
  {
   "cell_type": "code",
   "execution_count": 1,
   "metadata": {
    "collapsed": true
   },
   "outputs": [],
   "source": [
    "def insertionSort(my_list):\n",
    "    \n",
    "    idx = 1\n",
    "    my_list[idx]\n",
    "    idx += 1"
   ]
  },
  {
   "cell_type": "code",
   "execution_count": 3,
   "metadata": {
    "collapsed": true
   },
   "outputs": [],
   "source": [
    "x = [0,1,2,3,5]\n",
    "y = [1,2.1,3.2,4,6.1]"
   ]
  },
  {
   "cell_type": "code",
   "execution_count": 4,
   "metadata": {
    "collapsed": true
   },
   "outputs": [],
   "source": [
    "import matplotlib.pyplot as plt\n",
    "%matplotlib inline"
   ]
  },
  {
   "cell_type": "code",
   "execution_count": 5,
   "metadata": {},
   "outputs": [
    {
     "data": {
      "text/plain": [
       "[<matplotlib.lines.Line2D at 0x10b9df290>]"
      ]
     },
     "execution_count": 5,
     "metadata": {},
     "output_type": "execute_result"
    },
    {
     "data": {
      "image/png": "[encoded data removed]",
      "text/plain": [
       "<matplotlib.figure.Figure at 0x10b9df150>"
      ]
     },
     "metadata": {},
     "output_type": "display_data"
    }
   ],
   "source": [
    "plt.axis([-1,6,0,7])\n",
    "plt.plot(x,y,'ro')"
   ]
  },
  {
   "cell_type": "code",
   "execution_count": null,
   "metadata": {
    "collapsed": true
   },
   "outputs": [],
   "source": [
    "Slope = (N∑XY - (∑X)(∑Y)) / (N∑X2 - (∑X)2)"
   ]
  },
  {
   "cell_type": "code",
   "execution_count": 13,
   "metadata": {
    "collapsed": true
   },
   "outputs": [],
   "source": [
    "b = (len(x)*sum([i*j for i,j in zip(x,y)])-sum(x)*sum(y))/(len(x)*sum([i**2 for i in x])-(sum(x))**2)"
   ]
  },
  {
   "cell_type": "code",
   "execution_count": 15,
   "metadata": {
    "collapsed": true
   },
   "outputs": [],
   "source": [
    "a = sum(y)/len(y)-b*sum(x)/len(x)"
   ]
  },
  {
   "cell_type": "code",
   "execution_count": 16,
   "metadata": {},
   "outputs": [
    {
     "name": "stdout",
     "output_type": "stream",
     "text": [
      "1.06216216216 1.00810810811\n"
     ]
    }
   ],
   "source": [
    "print a,b"
   ]
  },
  {
   "cell_type": "code",
   "execution_count": 37,
   "metadata": {},
   "outputs": [
    {
     "ename": "TypeError",
     "evalue": "'list' object is not callable",
     "output_type": "error",
     "traceback": [
      "\u001b[0;31m---------------------------------------------------------------------------\u001b[0m",
      "\u001b[0;31mTypeError\u001b[0m                                 Traceback (most recent call last)",
      "\u001b[0;32m<ipython-input-37-22da2fd28c88>\u001b[0m in \u001b[0;36m<module>\u001b[0;34m()\u001b[0m\n\u001b[0;32m----> 1\u001b[0;31m \u001b[0mplt\u001b[0m\u001b[0;34m.\u001b[0m\u001b[0maxis\u001b[0m\u001b[0;34m(\u001b[0m\u001b[0;34m[\u001b[0m\u001b[0;34m-\u001b[0m\u001b[0;36m1\u001b[0m\u001b[0;34m,\u001b[0m\u001b[0;36m6\u001b[0m\u001b[0;34m,\u001b[0m\u001b[0;36m0\u001b[0m\u001b[0;34m,\u001b[0m\u001b[0;36m7\u001b[0m\u001b[0;34m]\u001b[0m\u001b[0;34m)\u001b[0m\u001b[0;34m\u001b[0m\u001b[0m\n\u001b[0m\u001b[1;32m      2\u001b[0m \u001b[0mplt\u001b[0m\u001b[0;34m.\u001b[0m\u001b[0mplot\u001b[0m\u001b[0;34m(\u001b[0m\u001b[0mx\u001b[0m\u001b[0;34m,\u001b[0m\u001b[0my\u001b[0m\u001b[0;34m,\u001b[0m\u001b[0;34m'ro'\u001b[0m\u001b[0;34m)\u001b[0m\u001b[0;34m\u001b[0m\u001b[0m\n\u001b[1;32m      3\u001b[0m \u001b[0mplt\u001b[0m\u001b[0;34m.\u001b[0m\u001b[0mplot\u001b[0m\u001b[0;34m(\u001b[0m\u001b[0mx\u001b[0m\u001b[0;34m,\u001b[0m\u001b[0;34m[\u001b[0m\u001b[0ma\u001b[0m\u001b[0;34m+\u001b[0m\u001b[0mi\u001b[0m\u001b[0;34m*\u001b[0m\u001b[0mb\u001b[0m \u001b[0;32mfor\u001b[0m \u001b[0mi\u001b[0m \u001b[0;32min\u001b[0m \u001b[0mx\u001b[0m\u001b[0;34m]\u001b[0m\u001b[0;34m,\u001b[0m\u001b[0mcolor\u001b[0m\u001b[0;34m=\u001b[0m\u001b[0;34m'blue'\u001b[0m\u001b[0;34m)\u001b[0m\u001b[0;34m\u001b[0m\u001b[0m\n",
      "\u001b[0;31mTypeError\u001b[0m: 'list' object is not callable"
     ]
    }
   ],
   "source": [
    "plt.axis([-1,6,0,7])\n",
    "plt.plot(x,y,'ro')\n",
    "plt.plot(x,[a+i*b for i in x],color='blue')"
   ]
  },
  {
   "cell_type": "code",
   "execution_count": 6,
   "metadata": {
    "collapsed": true
   },
   "outputs": [],
   "source": [
    "my_list = [(0, 42.0), (1, -101.0), (2, 21.0), (3, -38.0), (4, 5.0), (7, 20.0), (9, 293.0),\n",
    "     (11, 266.0), (15, 625.0), (20, 1266.0), (25, 1757.0), (30, 2844.0)]"
   ]
  },
  {
   "cell_type": "code",
   "execution_count": 7,
   "metadata": {},
   "outputs": [
    {
     "data": {
      "text/plain": [
       "42.0"
      ]
     },
     "execution_count": 7,
     "metadata": {},
     "output_type": "execute_result"
    }
   ],
   "source": [
    "my_list[0][1]"
   ]
  },
  {
   "cell_type": "code",
   "execution_count": 8,
   "metadata": {
    "collapsed": true
   },
   "outputs": [],
   "source": [
    "x = []\n",
    "y = []\n",
    "for i in my_list:\n",
    "    x.append(i[0])\n",
    "    y.append(i[1])"
   ]
  },
  {
   "cell_type": "code",
   "execution_count": 12,
   "metadata": {},
   "outputs": [
    {
     "data": {
      "text/plain": [
       "[0, 1, 2, 3, 4, 7, 9, 11, 15, 20, 25, 30]"
      ]
     },
     "execution_count": 12,
     "metadata": {},
     "output_type": "execute_result"
    }
   ],
   "source": [
    "x"
   ]
  },
  {
   "cell_type": "code",
   "execution_count": 11,
   "metadata": {},
   "outputs": [
    {
     "data": {
      "text/plain": [
       "[<matplotlib.lines.Line2D at 0x10bcf5a10>]"
      ]
     },
     "execution_count": 11,
     "metadata": {},
     "output_type": "execute_result"
    },
    {
     "data": {
      "image/png": "[encoded data removed]",
      "text/plain": [
       "<matplotlib.figure.Figure at 0x10bcf5f50>"
      ]
     },
     "metadata": {},
     "output_type": "display_data"
    }
   ],
   "source": [
    "plt.axis([-1,35,-500,3000])\n",
    "plt.plot(x,y,'ro')"
   ]
  },
  {
   "cell_type": "code",
   "execution_count": 2,
   "metadata": {
    "collapsed": true
   },
   "outputs": [],
   "source": [
    "from scipy import stats"
   ]
  },
  {
   "cell_type": "code",
   "execution_count": 7,
   "metadata": {},
   "outputs": [
    {
     "data": {
      "text/plain": [
       "0.98136445641327541"
      ]
     },
     "execution_count": 7,
     "metadata": {},
     "output_type": "execute_result"
    }
   ],
   "source": [
    "stats.norm.cdf(2.08278213)"
   ]
  },
  {
   "cell_type": "markdown",
   "metadata": {},
   "source": [
    "Write a function that looks at the number of times given letters appear in a document. The output should be in a dictionary."
   ]
  },
  {
   "cell_type": "code",
   "execution_count": 27,
   "metadata": {},
   "outputs": [
    {
     "name": "stdout",
     "output_type": "stream",
     "text": [
      "['Our archaeologist might therefore look at the Americas and conclude', 'that Africans, despite their apparently enormous head start, would have', 'been overtaken by the earliest Americans within at most a millennium.', \"Thereafter, the Americas' greater area (50 percent greater than Africa's)\", 'and much greater environmental diversity would have given the advantage', 'to Native Americans over Africans.']\n"
     ]
    }
   ],
   "source": [
    "with open('q1.txt') as test_file:\n",
    "    full_test = [l.strip() for l in test_file if l is not '']\n",
    "print full_test"
   ]
  },
  {
   "cell_type": "code",
   "execution_count": 26,
   "metadata": {},
   "outputs": [
    {
     "name": "stdout",
     "output_type": "stream",
     "text": [
      "Our archaeologist might therefore look at the Americas and conclude \n",
      "that Africans, despite their apparently enormous head start, would have \n",
      "been overtaken by the earliest Americans within at most a millennium. \n",
      "Thereafter, the Americas' greater area (50 percent greater than Africa's) \n",
      "and much greater environmental diversity would have given the advantage \n",
      "to Native Americans over Africans.\n"
     ]
    }
   ],
   "source": [
    "with open('q1.txt') as t:\n",
    "  print t.read()"
   ]
  },
  {
   "cell_type": "code",
   "execution_count": 28,
   "metadata": {
    "collapsed": true
   },
   "outputs": [],
   "source": [
    "from collections import Counter\n",
    "def func1(my_file):\n",
    "    with open(my_file) as the_file:\n",
    "        full_text = ''.join([l.strip() for l in the_file if l is not ''])\n",
    "    words = [w for w in full_text.split(' ') if w is not '']\n",
    "    result = Counter(words)\n",
    "    return result\n"
   ]
  },
  {
   "cell_type": "code",
   "execution_count": 30,
   "metadata": {},
   "outputs": [
    {
     "data": {
      "text/plain": [
       "[1, 2, 3, 4, 4]"
      ]
     },
     "execution_count": 30,
     "metadata": {},
     "output_type": "execute_result"
    }
   ],
   "source": [
    "def func2(my_list,item):\n",
    "    for i in range(0,len(my_list)):\n",
    "        if my_list[i] == item:\n",
    "            index = i\n",
    "            break\n",
    "    return [my_list[new] for new in range(0,len(my_list)) if new!=index]\n",
    "func2([1,2,3,4,4,6],6)"
   ]
  },
  {
   "cell_type": "code",
   "execution_count": 37,
   "metadata": {
    "collapsed": true
   },
   "outputs": [],
   "source": [
    "names = [\"Nick\", \"Alice\", \"Kitty\"]\n",
    "professions = [\"Programmer\", \"Engineer\", \"Art Therapist\"]"
   ]
  },
  {
   "cell_type": "code",
   "execution_count": 45,
   "metadata": {
    "collapsed": true
   },
   "outputs": [],
   "source": [
    "d1 = {x:y for x,y in zip(names,professions)}"
   ]
  },
  {
   "cell_type": "code",
   "execution_count": 63,
   "metadata": {
    "collapsed": true
   },
   "outputs": [],
   "source": [
    "a = filter(lambda x:len(x)>4, [x for x in names])"
   ]
  },
  {
   "cell_type": "code",
   "execution_count": 64,
   "metadata": {},
   "outputs": [
    {
     "data": {
      "text/plain": [
       "['Alice', 'Kitty']"
      ]
     },
     "execution_count": 64,
     "metadata": {},
     "output_type": "execute_result"
    }
   ],
   "source": [
    "a"
   ]
  },
  {
   "cell_type": "code",
   "execution_count": 57,
   "metadata": {
    "collapsed": true
   },
   "outputs": [],
   "source": [
    "d2 = {x:y for x,y in zip(names,map(lambda x:len(x), [x for x in names]))}"
   ]
  },
  {
   "cell_type": "code",
   "execution_count": 58,
   "metadata": {},
   "outputs": [
    {
     "data": {
      "text/plain": [
       "{'Alice': 5, 'Kitty': 5, 'Nick': 4}"
      ]
     },
     "execution_count": 58,
     "metadata": {},
     "output_type": "execute_result"
    }
   ],
   "source": [
    "d2"
   ]
  },
  {
   "cell_type": "code",
   "execution_count": 67,
   "metadata": {},
   "outputs": [
    {
     "data": {
      "text/plain": [
       "{'e', 'h', 'l', 'o'}"
      ]
     },
     "execution_count": 67,
     "metadata": {},
     "output_type": "execute_result"
    }
   ],
   "source": [
    "a = 'hello'\n",
    "set(a)"
   ]
  },
  {
   "cell_type": "code",
   "execution_count": 72,
   "metadata": {},
   "outputs": [
    {
     "ename": "SyntaxError",
     "evalue": "invalid syntax (<ipython-input-72-8cfd7f37c857>, line 2)",
     "output_type": "error",
     "traceback": [
      "\u001b[0;36m  File \u001b[0;32m\"<ipython-input-72-8cfd7f37c857>\"\u001b[0;36m, line \u001b[0;32m2\u001b[0m\n\u001b[0;31m    test-('a', 4)\u001b[0m\n\u001b[0m       ^\u001b[0m\n\u001b[0;31mSyntaxError\u001b[0m\u001b[0;31m:\u001b[0m invalid syntax\n"
     ]
    }
   ],
   "source": [
    "test = [('a', 4), ('b', 5)\n",
    "test-('a', 4)"
   ]
  },
  {
   "cell_type": "code",
   "execution_count": 70,
   "metadata": {},
   "outputs": [
    {
     "data": {
      "text/plain": [
       "4"
      ]
     },
     "execution_count": 70,
     "metadata": {},
     "output_type": "execute_result"
    }
   ],
   "source": [
    "def func3(my_list):\n",
    "    count = 0\n",
    "    for i in my_list:\n",
    "        if len(set(i))<len(i):\n",
    "            count += 1\n",
    "    return count\n",
    "func3(['conduct','letter','contract','hours','interview'])"
   ]
  },
  {
   "cell_type": "code",
   "execution_count": 71,
   "metadata": {
    "collapsed": true
   },
   "outputs": [],
   "source": [
    "data = [('a', 4), ('b', 5), ('c', 1), ('d', 3), ('e', 2), ('f',6)]"
   ]
  },
  {
   "cell_type": "code",
   "execution_count": 81,
   "metadata": {},
   "outputs": [
    {
     "data": {
      "text/plain": [
       "[(0, 4), (1, 2), (3, 5)]"
      ]
     },
     "execution_count": 81,
     "metadata": {},
     "output_type": "execute_result"
    }
   ],
   "source": [
    "vowels = 'aeiou'\n",
    "v = []\n",
    "c = []\n",
    "result = []\n",
    "def func4(my_list):\n",
    "    index = range(0,len(my_list))\n",
    "    for i in index:\n",
    "        for j in [m for m in index if m!=i]:\n",
    "            if ((my_list[i][0] in vowels)&(my_list[j][0] in vowels))|((my_list[i][0] not in vowels)&(my_list[j][0] not in vowels)):\n",
    "                if((my_list[i][1]+my_list[j][1])%3==0):\n",
    "                    result.append((i,j))\n",
    "    result_new = result\n",
    "    for p in result:\n",
    "        for q in [n for n in result if n!=p]:\n",
    "            if set(p)==set(q):\n",
    "                result_new.remove(q)\n",
    "    return result_new\n",
    "func4(data)"
   ]
  },
  {
   "cell_type": "code",
   "execution_count": 211,
   "metadata": {
    "collapsed": true
   },
   "outputs": [],
   "source": [
    "def quickSort(my_list):\n",
    "    start = 0\n",
    "    end = len(my_list)-1\n",
    "    while ((end-start)>1):\n",
    "        pivot = start\n",
    "        leftmark = start+1\n",
    "        rightmark = end\n",
    "        partition = 0\n",
    "        # starting from left, look for the first element that is larger than pivot\n",
    "        while (my_list[leftmark] < my_list[pivot]):\n",
    "            leftmark += 1\n",
    "            if (leftmark==end):\n",
    "                break\n",
    "        # starting from left, look for the first element that is smaller than pivot\n",
    "        while (my_list[rightmark] > my_list[pivot]):\n",
    "            rightmark -= 1\n",
    "            if (rightmark==start+1):\n",
    "                break\n",
    "        if (my_list[leftmark] > my_list[pivot])&(my_list[rightmark] < my_list[pivot]):\n",
    "            # regular switch\n",
    "            if leftmark<rightmark:\n",
    "                my_list[leftmark],my_list[rightmark] = my_list[rightmark],my_list[leftmark]\n",
    "            # found partition loc, pivot switch with rightmark\n",
    "            else:\n",
    "                my_list[pivot],my_list[rightmark] = my_list[rightmark],my_list[pivot]\n",
    "                partition = rightmark\n",
    "                sub_left = my_list[:partition]\n",
    "                sub_right = my_list[partition+1:]\n",
    "                quickSort(sub_left)\n",
    "                quickSort(sub_right)\n",
    "        #pivot is the largest in my_list\n",
    "        elif (my_list[leftmark] < my_list[pivot]):\n",
    "            my_list[pivot],my_list[leftmark] = my_list[leftmark],my_list[pivot]\n",
    "            quickSort(my_list[:end-1])\n",
    "        #pivot is the smallest in my_list\n",
    "        elif (my_list[rightmark] > my_list[pivot]):\n",
    "            start += 1\n",
    "            quickSort(my_list[start:])\n",
    "    if my_list[start]>my_list[end]:\n",
    "        my_list[start],my_list[end] = my_list[end],my_list[start]\n",
    "    return my_list"
   ]
  },
  {
   "cell_type": "code",
   "execution_count": 213,
   "metadata": {},
   "outputs": [
    {
     "name": "stdout",
     "output_type": "stream",
     "text": [
      "[0, 1, 2, 7, 16, 25, 29, 41, 59, 77, 78, 81, 98, 100, 137, 201]\n"
     ]
    }
   ],
   "source": [
    "print quickSort([41,59,98,78,77,29,81,16,100,137,7,201,25,2,0,1])\n",
    "#print quickSort([25,1,0,2])"
   ]
  },
  {
   "cell_type": "code",
   "execution_count": 27,
   "metadata": {},
   "outputs": [
    {
     "data": {
      "text/plain": [
       "3"
      ]
     },
     "execution_count": 27,
     "metadata": {},
     "output_type": "execute_result"
    }
   ],
   "source": [
    "a = 2\n",
    "b = 3\n",
    "max(a,b)"
   ]
  },
  {
   "cell_type": "code",
   "execution_count": 23,
   "metadata": {},
   "outputs": [
    {
     "data": {
      "text/plain": [
       "''"
      ]
     },
     "execution_count": 23,
     "metadata": {},
     "output_type": "execute_result"
    }
   ],
   "source": [
    "def to_camel_case(text):\n",
    "    if text is '':\n",
    "        return ''\n",
    "    to_replace = []\n",
    "    for i in range(0,len(text)-1):\n",
    "        if text[i] in ['-','_']:\n",
    "            to_replace.append(text[i]+text[i+1])\n",
    "    for item in to_replace:\n",
    "        text = text.replace(item,item[1].upper())\n",
    "    if text[0].isupper() == False:\n",
    "        text[0].upper()\n",
    "    return text\n",
    "to_camel_case('')\n",
    "        "
   ]
  },
  {
   "cell_type": "code",
   "execution_count": 29,
   "metadata": {},
   "outputs": [
    {
     "data": {
      "text/plain": [
       "96744"
      ]
     },
     "execution_count": 29,
     "metadata": {},
     "output_type": "execute_result"
    }
   ],
   "source": [
    "def solution(digits):\n",
    "    result = 0\n",
    "    for i in range(0,len(digits)-1):\n",
    "        result = max(int(digits[i:i+5]),int(result))\n",
    "    return result\n",
    "solution('731671765313306249192251196744265')"
   ]
  },
  {
   "cell_type": "code",
   "execution_count": null,
   "metadata": {
    "collapsed": true
   },
   "outputs": [],
   "source": []
  }
 ],
 "metadata": {
  "kernelspec": {
   "display_name": "Python 2",
   "language": "python",
   "name": "python2"
  },
  "language_info": {
   "codemirror_mode": {
    "name": "ipython",
    "version": 2
   },
   "file_extension": ".py",
   "mimetype": "text/x-python",
   "name": "python",
   "nbconvert_exporter": "python",
   "pygments_lexer": "ipython2",
   "version": "2.7.13"
  }
 },
 "nbformat": 4,
 "nbformat_minor": 1
}
